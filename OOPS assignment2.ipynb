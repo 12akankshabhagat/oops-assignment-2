{
 "cells": [
  {
   "cell_type": "markdown",
   "id": "39e3750f-3012-4daf-a7df-ecc1b1cf7265",
   "metadata": {},
   "source": [
    " # oops assignment-2 "
   ]
  },
  {
   "cell_type": "markdown",
   "id": "d867d9e7-0881-4469-a5c3-8efaa1386aef",
   "metadata": {},
   "source": [
    "# Constuctor"
   ]
  },
  {
   "cell_type": "markdown",
   "id": "184658ca-0c12-4093-a650-df003568f257",
   "metadata": {},
   "source": [
    "### 1. What is a constructor in Python? Explain its purpose and usage."
   ]
  },
  {
   "cell_type": "code",
   "execution_count": 175,
   "id": "4685285c-cb86-4e0d-8bd2-82ea6a73cfc4",
   "metadata": {},
   "outputs": [
    {
     "data": {
      "text/plain": [
       "'# constructor is kind of method by which you provide data to class for different different object,\\n__init__ is contructor method .   \\nits also called dunder init or dunder method because double underscores on both the sides of init ,\\n\\n# init function execute bydefault when you creat class variable ,& ask to pass data.\\nused of __init__ is to initialize.  '"
      ]
     },
     "execution_count": 175,
     "metadata": {},
     "output_type": "execute_result"
    }
   ],
   "source": [
    "'''# constructor is kind of method by which you provide data to class for different different object,\n",
    "__init__ is contructor method .   \n",
    "its also called dunder init or dunder method because double underscores on both the sides of init ,\n",
    "\n",
    "# init function execute bydefault when you creat class variable ,& ask to pass data.\n",
    "used of __init__ is to initialize.  '''\n"
   ]
  },
  {
   "cell_type": "code",
   "execution_count": null,
   "id": "c180c684-5eb5-42da-bdbc-4447f9eaec76",
   "metadata": {},
   "outputs": [],
   "source": []
  },
  {
   "cell_type": "markdown",
   "id": "e59c09e7-61a4-4bad-a7f0-59fd5f12f1ab",
   "metadata": {},
   "source": [
    "### 2. Differentiate between a parameterless constructor and a parameterized constructor in Python."
   ]
  },
  {
   "cell_type": "code",
   "execution_count": 176,
   "id": "4fc8ddc3-79de-4115-9a24-c30cf74da51c",
   "metadata": {},
   "outputs": [
    {
     "data": {
      "text/plain": [
       "\"parameterless constructor  : is a constructor that does not take any parameters, \\nAlso known as a default constructor.\\nIt does not accept any parameters.\\nTypically used for simple initialization tasks or when the class does not require any external inputs during object creation.\\nDefined using the __init__ method without any parameters.\\n\\n\\nparameterized constructor :  is a constructor that takes one or more parameters,\\nAlso known as an explicit constructor or an overloaded constructor.\\nIt accepts one or more parameters.\\nUsed when you need to initialize the object's attributes with values provided during object creation.\\nDefined using the __init__ method with parameters. \""
      ]
     },
     "execution_count": 176,
     "metadata": {},
     "output_type": "execute_result"
    }
   ],
   "source": [
    "\n",
    "'''parameterless constructor  : is a constructor that does not take any parameters, \n",
    "Also known as a default constructor.\n",
    "It does not accept any parameters.\n",
    "Typically used for simple initialization tasks or when the class does not require any external inputs during object creation.\n",
    "Defined using the __init__ method without any parameters.\n",
    "\n",
    "\n",
    "parameterized constructor :  is a constructor that takes one or more parameters,\n",
    "Also known as an explicit constructor or an overloaded constructor.\n",
    "It accepts one or more parameters.\n",
    "Used when you need to initialize the object's attributes with values provided during object creation.\n",
    "Defined using the __init__ method with parameters. '''"
   ]
  },
  {
   "cell_type": "markdown",
   "id": "a517b83a-a3d6-45b1-a2a3-8aeb1cbc7842",
   "metadata": {},
   "source": [
    "### 3. How do you define a constructor in a Python class? Provide an example."
   ]
  },
  {
   "cell_type": "code",
   "execution_count": 177,
   "id": "47000b73-cf01-4fc3-89b5-bbd0348abbcc",
   "metadata": {},
   "outputs": [
    {
     "name": "stdout",
     "output_type": "stream",
     "text": [
      "userid: akanksha\n",
      "password:  pass12\n"
     ]
    }
   ],
   "source": [
    "'''To define a constructor in a Python class, you create a method named __init__() within the class. \n",
    "This method will be automatically called when you create an instance of the class. '''\n",
    "\n",
    "# example:\n",
    "class email:\n",
    "    def __init__(self, userid, password):\n",
    "        self.userid = userid\n",
    "        self.password = password\n",
    "        \n",
    "email1 = email('akanksha' , 'pass12')\n",
    "print(\"userid:\" , email1.userid )\n",
    "print(\"password: \",email1.password) "
   ]
  },
  {
   "cell_type": "markdown",
   "id": "681e9fb5-6bf4-4fe2-8cc0-815a57a4ce77",
   "metadata": {},
   "source": [
    "### 4. Explain the `__init__` method in Python and its role in constructors."
   ]
  },
  {
   "cell_type": "code",
   "execution_count": 178,
   "id": "95b479f5-2f45-4d82-9167-34b63f05600b",
   "metadata": {},
   "outputs": [
    {
     "data": {
      "text/plain": [
       "\" In python __init__ is a special method known as the constructor. \\nIt is automatically called when a new instance or object of a class is created. \\nThe __init__ method allows you to initialize the attributes (variables) of an object.\\n\\n### its role in constructors :\\n\\n# The main purpose of the __init__() method is to initialize the object's attributes. \\n\\n# Python automatically calls the __init__() method when you create a new instance of a class.\\n\\n# The first parameter is always self, which represents the instance of the class being created,\\n  enabling you to differentiate between instance variables and local variables.\\n  \\n# Additional parameters can be passed to __init__() to provide initial values for the object's attributes.\\n\\n# We have full control over what happens inside the __init__() method,\\ncustomization capability ensures that objects are properly configured for their intended use.   \""
      ]
     },
     "execution_count": 178,
     "metadata": {},
     "output_type": "execute_result"
    }
   ],
   "source": [
    "''' In python __init__ is a special method known as the constructor. \n",
    "It is automatically called when a new instance or object of a class is created. \n",
    "The __init__ method allows you to initialize the attributes (variables) of an object.\n",
    "\n",
    "### its role in constructors :\n",
    "\n",
    "# The main purpose of the __init__() method is to initialize the object's attributes. \n",
    "\n",
    "# Python automatically calls the __init__() method when you create a new instance of a class.\n",
    "\n",
    "# The first parameter is always self, which represents the instance of the class being created,\n",
    "  enabling you to differentiate between instance variables and local variables.\n",
    "  \n",
    "# Additional parameters can be passed to __init__() to provide initial values for the object's attributes.\n",
    "\n",
    "# We have full control over what happens inside the __init__() method,\n",
    "customization capability ensures that objects are properly configured for their intended use.   '''"
   ]
  },
  {
   "cell_type": "code",
   "execution_count": null,
   "id": "7195149e-66ef-4c7b-88ab-e9bb4e163a84",
   "metadata": {},
   "outputs": [],
   "source": []
  },
  {
   "cell_type": "markdown",
   "id": "4d6311c7-37b3-468a-864b-69a72ff2b08b",
   "metadata": {},
   "source": [
    "### 5. In a class named `Person`, create a constructor that initializes the `name` and `age` attributes. Provide an example of creating an object of this class."
   ]
  },
  {
   "cell_type": "code",
   "execution_count": 179,
   "id": "c2cddf74-e5c3-4dac-a7cb-90b70572a1be",
   "metadata": {},
   "outputs": [
    {
     "name": "stdout",
     "output_type": "stream",
     "text": [
      "Name: akanksha\n",
      "Age: 22\n"
     ]
    }
   ],
   "source": [
    "class Person:\n",
    "    def __init__(self, name, age):\n",
    "        self.name = name\n",
    "        self.age = age\n",
    "\n",
    "person1 = Person(\"akanksha\", 22)\n",
    "print(\"Name:\", person1.name)\n",
    "print(\"Age:\", person1.age)\n"
   ]
  },
  {
   "cell_type": "markdown",
   "id": "30303230-ed88-47bf-a238-a363151d17cf",
   "metadata": {},
   "source": [
    "### 6. How can you call a constructor explicitly in Python? Give an example."
   ]
  },
  {
   "cell_type": "code",
   "execution_count": 180,
   "id": "770e0f7a-010d-4225-b961-e2abbde827d1",
   "metadata": {},
   "outputs": [
    {
     "name": "stdout",
     "output_type": "stream",
     "text": [
      "Number: 9325\n",
      "Number: 4567\n"
     ]
    }
   ],
   "source": [
    "class mobile_number:\n",
    "    def __init__(self, number):\n",
    "        self.number = number\n",
    "\n",
    "    def display_number(self):\n",
    "        print(\"Number:\", self.number)\n",
    "\n",
    "    def update_number(self, new_number):    # Explicitly calling the constructor\n",
    "        self.__init__(new_number)  \n",
    "\n",
    "mobile_number1 =mobile_number(\"9325\")\n",
    "mobile_number1.display_number()\n",
    "mobile_number1.update_number(\"4567\")\n",
    "mobile_number1.display_number()\n",
    "\n",
    "# in this way i call a consturctor explicitly in python."
   ]
  },
  {
   "cell_type": "markdown",
   "id": "c6167e74-7a8d-4492-844d-2748434d9404",
   "metadata": {},
   "source": [
    "### 7.What is the significance of the `self` parameter in Python constructors? Explain with an example."
   ]
  },
  {
   "cell_type": "code",
   "execution_count": 181,
   "id": "cb52f5bd-7d82-4f00-99f8-14f4b0cba48b",
   "metadata": {},
   "outputs": [
    {
     "data": {
      "text/plain": [
       "' value of l is data which i pass [1,2,3,4,5,6] , & this l value is assign to claas variable (self.l1) ,\\n& class (class list_oops) is understand value of l1 ,& its understand bcoz of constructor self,that is used of self .\\nself can bind the l1 to cls.\\n### self is convention, whenever you define function inside claas you need reference, self is replace by any name.\\nthe convention bind the function to claas '"
      ]
     },
     "execution_count": 181,
     "metadata": {},
     "output_type": "execute_result"
    }
   ],
   "source": [
    "class list_oops:\n",
    "    a = 10\n",
    "    l = [4,5,7,7,8,9,9]\n",
    "    def __init__(self, l): \n",
    "        self.l1 = l \n",
    "        self.l2 = 20\n",
    "        self.l3 = 'aki'\n",
    "        self.l4 = (1,2,3)\n",
    "        self.l5 = {'key':'value'}\n",
    "    \n",
    "    def extractfromindex(self, l , index):\n",
    "        return l [index]\n",
    "    \n",
    "    def extractrangedata(self,l,start,end):\n",
    "        return l[start:end]\n",
    "    \n",
    "''' value of l is data which i pass [1,2,3,4,5,6] , & this l value is assign to claas variable (self.l1) ,\n",
    "& class (class list_oops) is understand value of l1 ,& its understand bcoz of constructor self,that is used of self .\n",
    "self can bind the l1 to cls.\n",
    "### self is convention, whenever you define function inside claas you need reference, self is replace by any name.\n",
    "the convention bind the function to claas '''"
   ]
  },
  {
   "cell_type": "code",
   "execution_count": 182,
   "id": "95482bea-407f-49b3-83bb-01d138662bfb",
   "metadata": {},
   "outputs": [
    {
     "data": {
      "text/plain": [
       "[1, 2, 3, 4, 5, 6]"
      ]
     },
     "execution_count": 182,
     "metadata": {},
     "output_type": "execute_result"
    }
   ],
   "source": [
    "second_obj = list_oops([1,2,3,4,5,6])\n",
    "second_obj.l1"
   ]
  },
  {
   "cell_type": "code",
   "execution_count": 183,
   "id": "90e00d19-3c9d-44d8-b5c0-54727584e157",
   "metadata": {},
   "outputs": [
    {
     "data": {
      "text/plain": [
       "20"
      ]
     },
     "execution_count": 183,
     "metadata": {},
     "output_type": "execute_result"
    }
   ],
   "source": [
    "second_obj = list_oops([1,2,3,4,5,6])\n",
    "second_obj.l2\n"
   ]
  },
  {
   "cell_type": "markdown",
   "id": "850ed986-a0c0-4d69-81b3-f5679fb24e56",
   "metadata": {},
   "source": [
    "### 8. Discuss the concept of default constructors in Python. When are they used?"
   ]
  },
  {
   "cell_type": "code",
   "execution_count": 184,
   "id": "3d9ca1d0-d373-4878-8817-7727a0565a98",
   "metadata": {},
   "outputs": [
    {
     "data": {
      "text/plain": [
       "'In Python, when you create a class without explicitly defining an __init__ method, Python automatically provides a default constructor.\\nThis default constructor initializes the object with no additional parameters. While it may not perform any explicit actions,\\nit still exists and can be called implicitly when creating instances of the class. '"
      ]
     },
     "execution_count": 184,
     "metadata": {},
     "output_type": "execute_result"
    }
   ],
   "source": [
    "class MyClass:\n",
    "    pass\n",
    "\n",
    "class1 = MyClass()\n",
    "\n",
    "'''In Python, when you create a class without explicitly defining an __init__ method, Python automatically provides a default constructor.\n",
    "This default constructor initializes the object with no additional parameters. While it may not perform any explicit actions,\n",
    "it still exists and can be called implicitly when creating instances of the class. '''"
   ]
  },
  {
   "cell_type": "code",
   "execution_count": null,
   "id": "2e290934-d277-4f63-9a3b-2a815854791b",
   "metadata": {},
   "outputs": [],
   "source": []
  },
  {
   "cell_type": "markdown",
   "id": "cd7d4114-66d8-48d7-832d-20824472113a",
   "metadata": {},
   "source": [
    "### 9. Create a Python class called `Rectangle` with a constructor that initializes the `width` and `height`attributes. Provide a method to calculate the area of the rectangle."
   ]
  },
  {
   "cell_type": "code",
   "execution_count": 185,
   "id": "cac9670d-6a37-4aed-884d-32bcb0be45fc",
   "metadata": {},
   "outputs": [],
   "source": [
    "class Rectangle:\n",
    "    def __init__(self, width, height):\n",
    "        self.width = width\n",
    "        self.height = height\n",
    "\n",
    "    def area(self):\n",
    "        return self.width * self.height\n",
    "    \n",
    "rect =  Rectangle(2,5)"
   ]
  },
  {
   "cell_type": "code",
   "execution_count": 186,
   "id": "8472a3f1-1243-4f8a-8b38-2dc3ef3eb460",
   "metadata": {},
   "outputs": [
    {
     "name": "stdout",
     "output_type": "stream",
     "text": [
      "Area of the rectangle: 10\n"
     ]
    }
   ],
   "source": [
    "area = rect.area()\n",
    "print(\"Area of the rectangle:\", area)"
   ]
  },
  {
   "cell_type": "markdown",
   "id": "cc853167-642f-40b1-85e5-3da6a76614ff",
   "metadata": {},
   "source": [
    "### 10. How can you have multiple constructors in a Python class? Explain with an example."
   ]
  },
  {
   "cell_type": "code",
   "execution_count": 187,
   "id": "3465895a-2533-45de-a78a-160a641ec4d2",
   "metadata": {},
   "outputs": [
    {
     "data": {
      "text/plain": [
       "'Creating a class with multiple constructors is a very useful aspect of OOP (object oriented programming). \\nIt allows user to simplify their code and gain more productivity. Creating multiple constructors of a Python class\\nis easier than you thought.'"
      ]
     },
     "execution_count": 187,
     "metadata": {},
     "output_type": "execute_result"
    }
   ],
   "source": [
    "'''Creating a class with multiple constructors is a very useful aspect of OOP (object oriented programming). \n",
    "It allows user to simplify their code and gain more productivity. Creating multiple constructors of a Python class\n",
    "is easier than you thought.'''"
   ]
  },
  {
   "cell_type": "markdown",
   "id": "ec3c46fd-2d05-43f5-8994-14e4863959b3",
   "metadata": {},
   "source": [
    "### 11. What is method overloading, and how is it related to constructors in Python?"
   ]
  },
  {
   "cell_type": "code",
   "execution_count": 188,
   "id": "c6dbacfd-898d-44a9-877d-2064c562759a",
   "metadata": {},
   "outputs": [
    {
     "name": "stdout",
     "output_type": "stream",
     "text": [
      "6\n",
      "7\n"
     ]
    }
   ],
   "source": [
    "'''In Python, method overloading is not directly supported , However, you can achieve similar behavior using default parameter values \n",
    "   and variable-length argument lists.\n",
    "   relation between method overloading and constructors in Python can be understood in the context of initializing objects with \n",
    "   different parameters.\n",
    "   While Python doesn't support method overloading in the traditional sense, you can use default parameter values in constructors to achieve\n",
    "   similar behavior.'''\n",
    "class MyClass:\n",
    "    def __init__(self, a=None, b=None):\n",
    "        if a is not None and b is not None:\n",
    "            self.a = a\n",
    "            self.b = b\n",
    "        else:\n",
    "            a is not None\n",
    "            self.a = a\n",
    "            self.b = 0\n",
    "        \n",
    "    def add(self):\n",
    "        return self.a + self.b\n",
    "    \n",
    "    def add(self, c):\n",
    "        return self.a + self.b + c\n",
    "\n",
    "obj1 = MyClass(5)\n",
    "print(obj1.add(1)) \n",
    "obj2 = MyClass(5)\n",
    "print(obj2.add(2))"
   ]
  },
  {
   "cell_type": "markdown",
   "id": "f422a968-26ff-47ea-8bf4-5dae37d7bbe5",
   "metadata": {},
   "source": [
    "### 12. Explain the use of the `super()` function in Python constructors. Provide an example."
   ]
  },
  {
   "cell_type": "code",
   "execution_count": 189,
   "id": "cb362e8a-e688-4a2d-af32-175a8bc34b6f",
   "metadata": {},
   "outputs": [
    {
     "name": "stdout",
     "output_type": "stream",
     "text": [
      "sudh sir asdfg@gmail.com\n",
      "sudh sir\n"
     ]
    },
    {
     "data": {
      "text/plain": [
       "' super claas : super is inbuilt method , whenever i dont have to re-write same value again & again, so i call super method \\n# super __init__ , means i bind 2nd class to 1st class. ( datscience cls to pw cls)/ (child class to parent class)\\n# simply write super__init__ (all the objects comes ) , no need to write many no. of objects.\\n## by using super we inherit object from parent classes. '"
      ]
     },
     "execution_count": 189,
     "metadata": {},
     "output_type": "execute_result"
    }
   ],
   "source": [
    "class pwskills :  # parent cls\n",
    "    def __init__(self, mentor):   # contructor __init__ , variable/object mentor.\n",
    "        self.mentor = mentor\n",
    "        \n",
    "    def  mentor_name(self):\n",
    "        print(self.mentor)   # print name of mentor\n",
    "        \n",
    "class datascience(pwskills):  #child cls , # all info of pwskills come inside it\n",
    "    def __init__(self, mentor ,mentor_mail_id) :                            \n",
    "      \n",
    "        super().__init__(mentor)    # here i used super method , \n",
    "        self.mentor_mail_id = mentor_mail_id\n",
    "    \n",
    "    def show_info(self):\n",
    "        print(self.mentor , self.mentor_mail_id)\n",
    "\n",
    "python_basic = datascience(\"sudh sir\" , \"asdfg@gmail.com\")\n",
    "python_basic.show_info()\n",
    "python_basic.mentor_name()   # im able to call parent class.\n",
    "\n",
    "''' super claas : super is inbuilt method , whenever i dont have to re-write same value again & again, so i call super method \n",
    "# super __init__ , means i bind 2nd class to 1st class. ( datscience cls to pw cls)/ (child class to parent class)\n",
    "# simply write super__init__ (all the objects comes ) , no need to write many no. of objects.\n",
    "## by using super we inherit object from parent classes. '''"
   ]
  },
  {
   "cell_type": "code",
   "execution_count": null,
   "id": "55600d0b-0e92-4790-bce4-7ec47fae6f5b",
   "metadata": {},
   "outputs": [],
   "source": []
  },
  {
   "cell_type": "markdown",
   "id": "166b954d-92a4-427a-907e-de5f4882ffbe",
   "metadata": {},
   "source": [
    "### 13 Create a class called `Book` with a constructor that initializes the `title`, `author`, and `published_year`attributes. Provide a method to display book details."
   ]
  },
  {
   "cell_type": "code",
   "execution_count": 190,
   "id": "4c3f8c36-75e7-41e9-94d8-bba86dd3f8ee",
   "metadata": {},
   "outputs": [],
   "source": [
    "class book:\n",
    "    def __init__(self,  title, author , published_year):\n",
    "        self.title_of_book = title\n",
    "        self.author = author\n",
    "        self.published_year = published_year\n",
    "    \n",
    "    def display_book_details(self):\n",
    "        print(self.title_of_book , self.author , self.published_year)\n",
    "\n",
    "akanksha = book('DSA' ,  'Sudhanshu' , 2023)        \n"
   ]
  },
  {
   "cell_type": "code",
   "execution_count": 191,
   "id": "136155bc-a838-458c-be59-90f0a0a82439",
   "metadata": {},
   "outputs": [
    {
     "name": "stdout",
     "output_type": "stream",
     "text": [
      "DSA Sudhanshu 2023\n"
     ]
    }
   ],
   "source": [
    "akanksha.display_book_details()"
   ]
  },
  {
   "cell_type": "markdown",
   "id": "37fbfe2b-5bf3-497f-85f1-c96316e90ece",
   "metadata": {},
   "source": [
    "### 14. Discuss the differences between constructors and regular methods in Python classes."
   ]
  },
  {
   "cell_type": "code",
   "execution_count": 192,
   "id": "e46c997d-d067-4d33-8405-e7ae1ebe2118",
   "metadata": {},
   "outputs": [
    {
     "data": {
      "text/plain": [
       "'\\n## Basic difference between the constructors and regular methods in Python classes are :\\n\\nConstructors in Python classes are used to initialize objects when they are created. \\nThey are defined using the __init__ method and are automatically called when an instance of the class is created. \\n\\nRegular methods, on the other hand, are defined like any other function within a class and are used to perform actions or operations\\non objects. they can be called explicitly by the user after the object has been created.   '"
      ]
     },
     "execution_count": 192,
     "metadata": {},
     "output_type": "execute_result"
    }
   ],
   "source": [
    "'''\n",
    "## Basic difference between the constructors and regular methods in Python classes are :\n",
    "\n",
    "Constructors in Python classes are used to initialize objects when they are created. \n",
    "They are defined using the __init__ method and are automatically called when an instance of the class is created. \n",
    "\n",
    "Regular methods, on the other hand, are defined like any other function within a class and are used to perform actions or operations\n",
    "on objects. they can be called explicitly by the user after the object has been created.   '''"
   ]
  },
  {
   "cell_type": "markdown",
   "id": "32fcfba1-4b47-43dc-8866-7c377b06ca76",
   "metadata": {},
   "source": [
    "### 15.Explain the role of the `self` parameter in instance variable initialization within a constructor."
   ]
  },
  {
   "cell_type": "code",
   "execution_count": 193,
   "id": "f07fa996-3129-4125-9c4d-7e38a9eb7964",
   "metadata": {},
   "outputs": [
    {
     "data": {
      "text/plain": [
       "'self is convention, whenever you define function inside claas you need reference,\\n the convention bind the function to claas .\\n This allows those variables to be accessed and modified throughout the class using self.variable_name,\\n ensuring they are associated with the specific instance of the class. In essence, \\n self helps maintain the state of each individual object created from the class.\\n'"
      ]
     },
     "execution_count": 193,
     "metadata": {},
     "output_type": "execute_result"
    }
   ],
   "source": [
    "'''self is convention, whenever you define function inside claas you need reference,\n",
    " the convention bind the function to claas .\n",
    " This allows those variables to be accessed and modified throughout the class using self.variable_name,\n",
    " ensuring they are associated with the specific instance of the class. In essence, \n",
    " self helps maintain the state of each individual object created from the class.\n",
    "'''"
   ]
  },
  {
   "cell_type": "markdown",
   "id": "daa304fd-d98e-4948-98d9-b1aac2dcabb3",
   "metadata": {},
   "source": [
    "### 16.How do you prevent a class from having multiple instances by using constructors in Python? Provide an example."
   ]
  },
  {
   "cell_type": "code",
   "execution_count": 194,
   "id": "55faea6e-e246-41cb-87a3-9a5f1eaf1001",
   "metadata": {},
   "outputs": [
    {
     "name": "stdout",
     "output_type": "stream",
     "text": [
      "Singleton class cannot be instantiated more than once.\n"
     ]
    }
   ],
   "source": [
    "class Singleton:\n",
    "    _instance = None\n",
    "\n",
    "    def __init__(self):\n",
    "        if Singleton._instance is not None:\n",
    "            raise Exception(\"Singleton class cannot be instantiated more than once.\")\n",
    "        Singleton._instance = self\n",
    "try:\n",
    "    instance1 = Singleton()\n",
    "    instance2 = Singleton()\n",
    "except Exception as e:\n",
    "    print(e)  \n",
    "\n",
    "    '''We define a class attribute _instance to store the single instance of the class.\n",
    "In the constructor (__init__), we check if _instance is already set. If it is, it means an instance has already been created,\n",
    "so we raise an exception to prevent further instantiation.\n",
    "When attempting to create a new instance, if an instance already exists, an exception is raised, \n",
    "ensuring that only one instance of the class is ever created.  '''"
   ]
  },
  {
   "cell_type": "markdown",
   "id": "be43b747-c96a-4244-ae4a-e279b44b462b",
   "metadata": {},
   "source": [
    "### 17.Create a Python class called `Student` with a constructor that takes a list of subjects as a parameter and initializes the `subjects` attribute."
   ]
  },
  {
   "cell_type": "code",
   "execution_count": 195,
   "id": "3e821773-bc74-49e6-b458-377fb3efc460",
   "metadata": {},
   "outputs": [
    {
     "name": "stdout",
     "output_type": "stream",
     "text": [
      "['python', 'java', 'bigdata']\n"
     ]
    }
   ],
   "source": [
    "class Student:\n",
    "    def __init__(self, subjects):\n",
    "        self.subjects = subjects\n",
    "\n",
    "subjects_list = [\"python\", \"java\", \"bigdata\"]\n",
    "student1 = Student(subjects_list)\n",
    "print(student1.subjects) \n"
   ]
  },
  {
   "cell_type": "markdown",
   "id": "99fa6ccb-8db7-4592-b201-a08edb36f320",
   "metadata": {},
   "source": [
    "### 18. What is the purpose of the `__del__` method in Python classes, and how does it relate to constructors?"
   ]
  },
  {
   "cell_type": "code",
   "execution_count": 196,
   "id": "142474cf-2819-4ace-8307-f4e583d328cf",
   "metadata": {},
   "outputs": [
    {
     "data": {
      "text/plain": [
       "'\\n#  __del__ is inbuild func & its distructor in dunder methon , which execute automatically like _init_,\\n#  __del__ id distructor, used to distroy obj, when i open file , we need to close file so _del_ is used.\\n   \\n While constructors (__init__ method) are used for initializing an object when it is created,\\nthe __del__ method is used for performing cleanup tasks just before the object is destroyed. \\nThis can include releasing resources, closing files, or performing any other necessary cleanup operations.   '"
      ]
     },
     "execution_count": 196,
     "metadata": {},
     "output_type": "execute_result"
    }
   ],
   "source": [
    "'''\n",
    "#  __del__ is inbuild func & its distructor in dunder methon , which execute automatically like _init_,\n",
    "#  __del__ id distructor, used to distroy obj, when i open file , we need to close file so _del_ is used.\n",
    "   \n",
    " While constructors (__init__ method) are used for initializing an object when it is created,\n",
    "the __del__ method is used for performing cleanup tasks just before the object is destroyed. \n",
    "This can include releasing resources, closing files, or performing any other necessary cleanup operations.   '''\n",
    "          "
   ]
  },
  {
   "cell_type": "code",
   "execution_count": null,
   "id": "4cd65ee5-b909-411c-9dc0-8693d80ac37b",
   "metadata": {},
   "outputs": [],
   "source": []
  },
  {
   "cell_type": "markdown",
   "id": "8eaf073d-23cd-448e-bbd6-94e744d0a675",
   "metadata": {},
   "source": [
    "### 19. Explain the use of constructor chaining in Python. Provide a practical example."
   ]
  },
  {
   "cell_type": "code",
   "execution_count": 197,
   "id": "dcc1d6ba-404b-46e9-bbc9-c287f1639421",
   "metadata": {},
   "outputs": [
    {
     "name": "stdout",
     "output_type": "stream",
     "text": [
      "sudh sir\n"
     ]
    },
    {
     "data": {
      "text/plain": [
       "'asdfg@gmail.com'"
      ]
     },
     "execution_count": 197,
     "metadata": {},
     "output_type": "execute_result"
    }
   ],
   "source": [
    "'''Constructor chaining in Python refers to the concept of one constructor calling another constructor within the same class\n",
    "or in its parent class. This allows for code reuse and ensures that common initialization logic is centralized in one place.'''\n",
    "\n",
    "class pwskills :  # parent cls\n",
    "    \n",
    "    def __init__(self, mentor):   # contructor __init__ .\n",
    "        self.mentor = mentor\n",
    "        \n",
    "    def  mentor_name(self):\n",
    "        print(self.mentor)  \n",
    "        \n",
    "class datascience(pwskills):  #child cls , # all info of pwskills come inside it\n",
    "    def __init__(self, mentor ,mentor_mail_id) :                            \n",
    "        self.mentor = mentor\n",
    "        self.mentor_mail_id = mentor_mail_id        \n",
    "        \n",
    "python_basic = datascience(\"sudh sir\" , \"asdfg@gmail.com\")      \n",
    "python_basic.mentor_name()          \n",
    "python_basic.mentor_mail_id    "
   ]
  },
  {
   "cell_type": "markdown",
   "id": "3707c1eb-b9f6-4c20-bb77-620b56553b8b",
   "metadata": {},
   "source": [
    "### 20. Create a Python class called `Car` with a default constructor that initializes the `make` and `model`attributes. Provide a method to display car information."
   ]
  },
  {
   "cell_type": "code",
   "execution_count": 198,
   "id": "ae8060c7-014c-4327-8dd9-f29445ec90be",
   "metadata": {},
   "outputs": [
    {
     "name": "stdout",
     "output_type": "stream",
     "text": [
      "Mercedes\n",
      "AMG GT\n"
     ]
    }
   ],
   "source": [
    "class Car:\n",
    "    def __init__(self, make, model):\n",
    "        self.make = make\n",
    "        self.model = model\n",
    "        \n",
    "    def show_info(self):\n",
    "        print(self.make) \n",
    "        print(self.model)\n",
    "\n",
    "CAR = Car(\"Mercedes\" , \"AMG GT\")\n",
    "CAR.show_info()"
   ]
  },
  {
   "cell_type": "code",
   "execution_count": null,
   "id": "14f2878f-ca38-4221-a98b-2de1c619f213",
   "metadata": {},
   "outputs": [],
   "source": []
  },
  {
   "cell_type": "markdown",
   "id": "832fe8ea-ea75-4af1-b2ca-6b15e36fe403",
   "metadata": {},
   "source": [
    "# Inheritance:"
   ]
  },
  {
   "cell_type": "markdown",
   "id": "6155e5d9-bd58-400c-ae98-f3b487e6387d",
   "metadata": {},
   "source": [
    "### 1. What is inheritance in Python? Explain its significance in object-oriented programming."
   ]
  },
  {
   "cell_type": "code",
   "execution_count": 199,
   "id": "863e747a-3a08-401f-a1b3-9dc3f0c63beb",
   "metadata": {},
   "outputs": [
    {
     "data": {
      "text/plain": [
       "'# Oops Inheritance :  we try to inherit some function from one claas to anather claas is called inheritance.\\nInheritance is where a new class (subclass) can inherit attributes and methods \\nfrom an existing class (superclass). The subclass can then extend or modify the behavior of the superclass by adding new \\nattributes or methods, or by overriding existing ones.\\n\\n# significance:   when  reutilize function or method of one clases to anather classes or resoure of one claas used in anather claas '"
      ]
     },
     "execution_count": 199,
     "metadata": {},
     "output_type": "execute_result"
    }
   ],
   "source": [
    "'''# Oops Inheritance :  we try to inherit some function from one claas to anather claas is called inheritance.\n",
    "Inheritance is where a new class (subclass) can inherit attributes and methods \n",
    "from an existing class (superclass). The subclass can then extend or modify the behavior of the superclass by adding new \n",
    "attributes or methods, or by overriding existing ones.\n",
    "\n",
    "# significance:   when  reutilize function or method of one clases to anather classes or resoure of one claas used in anather claas '''"
   ]
  },
  {
   "cell_type": "markdown",
   "id": "90485058-77d0-420b-bbd6-3f0dbb9bb7b4",
   "metadata": {},
   "source": [
    "### 2. Differentiate between single inheritance and multiple inheritance in Python. Provide examples for each."
   ]
  },
  {
   "cell_type": "code",
   "execution_count": 200,
   "id": "ef269200-48b3-48e2-ac3e-3f5553eb9116",
   "metadata": {},
   "outputs": [
    {
     "name": "stdout",
     "output_type": "stream",
     "text": [
      "todays topic is inheritance in oops\n",
      "this cls give u student details\n"
     ]
    }
   ],
   "source": [
    "'''# Single inheritance : \n",
    "Single inheritance occurs when a class inherits from only one superclass.\n",
    "This means that a subclass can have only one immediate parent class.  '''\n",
    "\n",
    "class lecture:\n",
    "    def topic(self):\n",
    "        print('todays topic is inheritance in oops')\n",
    "        \n",
    "    def timing(self):\n",
    "        print(\"timing for todays cls is 9 am ist\")  \n",
    "\n",
    "class student(lecture):           # cls std(lecture): so that whatever available inside lecture cls is also avilable in student cls.\n",
    "    \n",
    "    def student_details(self):\n",
    "        print(\"this cls give u student details\")\n",
    "akanksha =  student()\n",
    "akanksha.topic()\n",
    "akanksha.student_details()"
   ]
  },
  {
   "cell_type": "code",
   "execution_count": 201,
   "id": "96dc77fa-3b2d-4417-aa47-fb16b547aad4",
   "metadata": {},
   "outputs": [
    {
     "name": "stdout",
     "output_type": "stream",
     "text": [
      "todays topic is inheritance in oops\n",
      "this cls give u student details\n",
      "this gives u details about teacher\n"
     ]
    }
   ],
   "source": [
    "''' # Multiple inheritance : \n",
    "Multiple inheritance occurs when a class inherits from more than one superclass. \n",
    "This means that a subclass can have multiple immediate parent classes. '''\n",
    "\n",
    "class lecture:\n",
    "    def topic(self):\n",
    "        print('todays topic is inheritance in oops')\n",
    "\n",
    "class student:           \n",
    "    def student_details(self):\n",
    "        print(\"this cls give u student details\")    \n",
    "        \n",
    "class teacher(student, lecture):  #  so that whatever available inside lecture & student cls is also avilable in teacher cls.\n",
    "    def details(self):            # teacher cls have property of lec & stud cls.\n",
    "        print(\"this gives u details about teacher\")        \n",
    "\n",
    "krish = teacher()    \n",
    "krish.topic() \n",
    "krish.student_details()\n",
    "krish.details()     "
   ]
  },
  {
   "cell_type": "code",
   "execution_count": null,
   "id": "92661c12-6b25-4411-8c26-8c443ae9df8b",
   "metadata": {},
   "outputs": [],
   "source": []
  },
  {
   "cell_type": "markdown",
   "id": "e58b8e0c-96d5-4b13-b930-3419573c86c6",
   "metadata": {},
   "source": [
    "### 3. Create a Python class called `Vehicle` with attributes `color` and `speed`. Then, create a child class called`Car` that inherits from `Vehicle` and adds a `brand` attribute. Provide an example of creating a `Car` object."
   ]
  },
  {
   "cell_type": "code",
   "execution_count": 202,
   "id": "91967f03-c262-4e39-aeea-638563eb7e1f",
   "metadata": {},
   "outputs": [
    {
     "name": "stdout",
     "output_type": "stream",
     "text": [
      "Color: blue\n",
      "Speed: 100\n",
      "Brand: mercedes\n"
     ]
    }
   ],
   "source": [
    "class Vehicle:\n",
    "    def __init__(self, color, speed):\n",
    "        self.color = color\n",
    "        self.speed = speed\n",
    "\n",
    "class Car(Vehicle):\n",
    "    def __init__(self, color, speed, brand):\n",
    "        super().__init__(color, speed)\n",
    "        self.brand = brand\n",
    "\n",
    "car = Car(\"blue\", 100, \"mercedes\")\n",
    "\n",
    "print(\"Color:\", car.color)  \n",
    "print(\"Speed:\", car.speed)  \n",
    "print(\"Brand:\", car.brand) "
   ]
  },
  {
   "cell_type": "markdown",
   "id": "5a13a87e-2ee6-4d7d-a19b-f30388cccba3",
   "metadata": {},
   "source": [
    "### 4. Explain the concept of method overriding in inheritance. Provide a practical example."
   ]
  },
  {
   "cell_type": "code",
   "execution_count": 203,
   "id": "3eab373f-8665-4dcd-ba60-8f5863a2c4d0",
   "metadata": {},
   "outputs": [
    {
     "name": "stdout",
     "output_type": "stream",
     "text": [
      "human walk are normal\n",
      "child walk are show\n"
     ]
    }
   ],
   "source": [
    "'''Method overriding is a concept in Oops where a subclass provides a specific implementation of a method \n",
    "that is already defined in its superclass. This allows a subclass to customize or extend the behavior of inherited methods \n",
    "from its superclass.'''\n",
    "\n",
    "class human:\n",
    "    def walk(self):\n",
    "        print(\"human walk are normal\")\n",
    "\n",
    "class child(human):\n",
    "    def walk(self):\n",
    "        print(\"child walk are show\")\n",
    "\n",
    "human1 = human()\n",
    "child1 = child()\n",
    "\n",
    "human.walk(1)\n",
    "child.walk(2)"
   ]
  },
  {
   "cell_type": "markdown",
   "id": "79a48b01-0b45-454b-ada2-36768b0df7d5",
   "metadata": {},
   "source": [
    "### 5. How can you access the methods and attributes of a parent class from a child class in Python? Give anexample."
   ]
  },
  {
   "cell_type": "code",
   "execution_count": 204,
   "id": "3319ed47-01c3-47cc-9867-8c87a5f3371f",
   "metadata": {},
   "outputs": [
    {
     "name": "stdout",
     "output_type": "stream",
     "text": [
      "sudh sir\n"
     ]
    }
   ],
   "source": [
    "class pwskills :  # parent cls\n",
    "    \n",
    "    def __init__(self, mentor):   \n",
    "        self.mentor = mentor\n",
    "        \n",
    "    def  mentor_name(self):\n",
    "        print(self.mentor)   \n",
    "        \n",
    "class datascience(pwskills):  #child cls , # all info of pwskills come inside it\n",
    "    def __init__(self, mentor ,mentor_mail_id) :                            \n",
    "        super().__init__(mentor)    # here i used super method , \n",
    "        self.mentor_mail_id = mentor_mail_id\n",
    "        \n",
    "    def show_info(self):\n",
    "        print(self.mentor , self.mentor_mail_id)\n",
    "\n",
    "python_basic = datascience(\"sudh sir\" , \"asdfg@gmail.com\")\n",
    "python_basic.mentor_name()\n",
    "\n",
    "# by this im access the method and attributes of a parent class from a child class in Python"
   ]
  },
  {
   "cell_type": "markdown",
   "id": "8f014c95-6418-4363-8bc0-1333b3638088",
   "metadata": {},
   "source": [
    "### 6. Discuss the use of the `super()` function in Python inheritance. When and why is it used? Provide an example."
   ]
  },
  {
   "cell_type": "code",
   "execution_count": 205,
   "id": "14c003a2-3b15-4220-ae59-995409fb6ad0",
   "metadata": {},
   "outputs": [
    {
     "name": "stdout",
     "output_type": "stream",
     "text": [
      "cake_recipes\n"
     ]
    }
   ],
   "source": [
    "'''# super() functin : super is inbild method ,\n",
    "whenever i dont have to re write same value again,so i call super method/ super function \n",
    "\n",
    "# super __init__ , means i bind child claas to parent claas. \n",
    "# simply write super init (all the objects of parent class comes inside child class ) , no need to write many no. of objects,\n",
    "thatway super function used . '''\n",
    "\n",
    "class book :  \n",
    "    \n",
    "    def __init__(self,title):   \n",
    "        self.title = title\n",
    "        \n",
    "    def  title_name(self):\n",
    "        print(self.title)   \n",
    "        \n",
    "class library(book):  \n",
    "    def __init__(self, title ,author) :                            \n",
    "        super().__init__(title)    # here i used super method , \n",
    "        self._author = author\n",
    "        \n",
    "    def show_info(self):\n",
    "        print(self.title , self.author)\n",
    "\n",
    "KBC = library(\"cake_recipes\" , \"akanksha\")\n",
    "KBC.title_name()"
   ]
  },
  {
   "cell_type": "markdown",
   "id": "ed3bf4f0-05fd-41e8-8962-0526202ca25c",
   "metadata": {},
   "source": [
    " ### 7. Create a Python class called `Animal` with a method `speak()`. Then, create child classes `Dog` and `Cat` that inherit from `Animal` and override the `speak()` method. Provide an example of using these classes. "
   ]
  },
  {
   "cell_type": "code",
   "execution_count": 206,
   "id": "2ea4cae5-f551-46cb-a6ab-d0633b589226",
   "metadata": {},
   "outputs": [
    {
     "name": "stdout",
     "output_type": "stream",
     "text": [
      "Dog says: bhuuubhuuu\n",
      "Cat says: Meowwwmeiw\n"
     ]
    }
   ],
   "source": [
    "class Animal:\n",
    "    def speak(self):\n",
    "        pass  \n",
    "class Dog(Animal):\n",
    "    def speak(self):\n",
    "        return \"bhuuubhuuu\"\n",
    "\n",
    "class Cat(Animal):\n",
    "    def speak(self):\n",
    "        return \"Meowwwmeiw\"\n",
    "\n",
    "dog = Dog()\n",
    "cat = Cat()\n",
    "print(\"Dog says:\", dog.speak()) \n",
    "print(\"Cat says:\", cat.speak())  \n"
   ]
  },
  {
   "cell_type": "markdown",
   "id": "b60a0a9f-aec1-4bbd-9f47-d0eb86d311c2",
   "metadata": {},
   "source": [
    "### 8. Explain the role of the `isinstance()` function in Python and how it relates to inheritance."
   ]
  },
  {
   "cell_type": "code",
   "execution_count": 207,
   "id": "53c51ff9-ead4-4f27-b95a-4908ffe73964",
   "metadata": {},
   "outputs": [
    {
     "data": {
      "text/plain": [
       "'\\nThe isinstance () function checks whether an object is an instance of the class mentioned.\\n if an object or variable is an instance of the class. If inheritance is present in the program, \\nthen the function can be used to check if a specified class is the parent class of an object. \\n\\n## how isinstance() relation to inheritance:\\n\\nisinstance() can check if an object is an instance of a subclass.\\nIt can also check if the object is an instance of any of the superclasses.\\nThis is particularly important because it allows polymorphic behavior to be verified. \\nUsing isinstance(),  ensure that the object passed to the function adheres to the expected class hierarchy.'"
      ]
     },
     "execution_count": 207,
     "metadata": {},
     "output_type": "execute_result"
    }
   ],
   "source": [
    "'''\n",
    "The isinstance () function checks whether an object is an instance of the class mentioned.\n",
    " if an object or variable is an instance of the class. If inheritance is present in the program, \n",
    "then the function can be used to check if a specified class is the parent class of an object. \n",
    "\n",
    "## how isinstance() relation to inheritance:\n",
    "\n",
    "isinstance() can check if an object is an instance of a subclass.\n",
    "It can also check if the object is an instance of any of the superclasses.\n",
    "This is particularly important because it allows polymorphic behavior to be verified. \n",
    "Using isinstance(),  ensure that the object passed to the function adheres to the expected class hierarchy.'''"
   ]
  },
  {
   "cell_type": "markdown",
   "id": "dc6f0a78-5e74-4377-9567-c0a846c1bf0a",
   "metadata": {},
   "source": [
    "### 9. What is the purpose of the `issubclass()` function in Python? Provide an example."
   ]
  },
  {
   "cell_type": "code",
   "execution_count": 208,
   "id": "c9b67edd-28c5-4192-81bf-63e12e55e1e6",
   "metadata": {},
   "outputs": [
    {
     "name": "stdout",
     "output_type": "stream",
     "text": [
      "True\n",
      "True\n",
      "False\n",
      "False\n"
     ]
    }
   ],
   "source": [
    "'''The issubclass() function in Python is used to check whether a given class is a subclass of another class.\n",
    "It returns True if the specified class is a subclass of the specified superclass, and False otherwise.\n",
    "'''\n",
    "class Animal:\n",
    "    pass\n",
    "\n",
    "class Dog(Animal):\n",
    "    pass\n",
    "\n",
    "class Cat(Animal):\n",
    "    pass\n",
    "\n",
    "print(issubclass(Dog, Animal)) \n",
    "print(issubclass(Cat, Animal))  \n",
    "\n",
    "print(issubclass(Dog, Cat))     \n",
    "print(issubclass(int, str))      "
   ]
  },
  {
   "cell_type": "markdown",
   "id": "0e89e7b6-0958-47ce-bf90-c32f6599acfe",
   "metadata": {},
   "source": [
    "### 10. Discuss the concept of constructor inheritance in Python. How are constructors inherited in child classes?"
   ]
  },
  {
   "cell_type": "code",
   "execution_count": 209,
   "id": "2975ea24-94ea-4a3f-bfee-dadc133e6b29",
   "metadata": {},
   "outputs": [
    {
     "data": {
      "text/plain": [
       "\"\\nConstructor inheritance in Python refers to the ability of a subclass to inherit and extend the behavior of its superclass's constructor.\\nWhen a subclass is created without its own constructor, it automatically inherits the constructor of its superclass.\\nThis ensures that the initialization logic defined in the superclass is also applied to instances of the subclass.\\n\\nIn Python, constructors are inherited in child classes just like any other method. When a child class is created, \\nit inherits all the attributes and methods, including the constructor (__init__() method), from its parent class. \""
      ]
     },
     "execution_count": 209,
     "metadata": {},
     "output_type": "execute_result"
    }
   ],
   "source": [
    "'''\n",
    "Constructor inheritance in Python refers to the ability of a subclass to inherit and extend the behavior of its superclass's constructor.\n",
    "When a subclass is created without its own constructor, it automatically inherits the constructor of its superclass.\n",
    "This ensures that the initialization logic defined in the superclass is also applied to instances of the subclass.\n",
    "\n",
    "In Python, constructors are inherited in child classes just like any other method. When a child class is created, \n",
    "it inherits all the attributes and methods, including the constructor (__init__() method), from its parent class. '''\n",
    "\n"
   ]
  },
  {
   "cell_type": "markdown",
   "id": "f179ba9c-018f-4bba-8500-992687e57e95",
   "metadata": {},
   "source": [
    "### 11. Create a Python class called `Shape` with a method `area()` that calculates the area of a shape. Then, create child classes `Circle` and `Rectangle` that inherit from `Shape` and implement the `area()` method accordingly. Provide an example."
   ]
  },
  {
   "cell_type": "code",
   "execution_count": 210,
   "id": "4617530a-6ba7-4e53-a0cb-1f55e9b1ff45",
   "metadata": {},
   "outputs": [
    {
     "name": "stdout",
     "output_type": "stream",
     "text": [
      "Area of the circle: 28.274333882308138\n",
      "Area of the rectangle: 15\n"
     ]
    }
   ],
   "source": [
    "class Shape:\n",
    "    def area(self):\n",
    "        pass  \n",
    "class Circle(Shape):\n",
    "    def __init__(self, radius):\n",
    "        self.radius = radius\n",
    "\n",
    "    def area(self):\n",
    "        return math.pi * self.radius ** 2\n",
    "\n",
    "class Rectangle(Shape):\n",
    "    def __init__(self, width, height):\n",
    "        self.width = width\n",
    "        self.height = height\n",
    "\n",
    "    def area(self):\n",
    "        return self.width * self.height\n",
    "\n",
    "circle = Circle(3)\n",
    "rectangle = Rectangle(3,5)\n",
    "print(\"Area of the circle:\", circle.area()) \n",
    "print(\"Area of the rectangle:\", rectangle.area())  "
   ]
  },
  {
   "cell_type": "markdown",
   "id": "0197d6ba-2198-4e12-8036-80865d198474",
   "metadata": {},
   "source": [
    "### 12. Explain the use of abstract base classes (ABCs) in Python and how they relate to inheritance. Provide an example using the `abc` module."
   ]
  },
  {
   "cell_type": "code",
   "execution_count": 211,
   "id": "6833a008-ba53-430e-8bf0-84f9d11d32e2",
   "metadata": {},
   "outputs": [
    {
     "name": "stdout",
     "output_type": "stream",
     "text": [
      "Area of the circle: 78.5\n",
      "Area of the rectangle: 30\n"
     ]
    }
   ],
   "source": [
    "'''# abstraction : creation of outline or skeleton of any method called abstraction \n",
    "\n",
    "## used : abstraction anyone can try & implement it. multiple way to achive abstraction\n",
    "\n",
    "## how ABCs relate to inheritance:\n",
    "\n",
    "1.Defining a Common Interface: ABCs define a set of methods that must be implemented by any subclass that inherits from them.\n",
    "This ensures that all subclasses have a consistent interface, even though they may have different implementations.\n",
    "\n",
    "2.Enforcing Method Implementation: By subclassing an ABC, a subclass is required to implement all abstract methods defined in the ABC.\n",
    "If a subclass fails to implement any of these methods, Python raises an error when attempting to instantiate the subclass.\n",
    "\n",
    "3.Polymorphism: Since all subclasses of an ABC implement the same interface, instances of different subclasses can be used interchangeably\n",
    "wherever the ABC is expected. This allows for polymorphic behavior, where different objects can be treated uniformly based on their common interface. \n",
    "'''\n",
    "#example.\n",
    "from abc import ABC, abstractmethod\n",
    "class Shape(ABC):\n",
    "    @abstractmethod\n",
    "    def area(self):\n",
    "        pass\n",
    "class Circle(Shape):\n",
    "    def __init__(self, radius):\n",
    "        self.radius = radius\n",
    "\n",
    "    def area(self):\n",
    "        return 3.14 * self.radius ** 2\n",
    "class Rectangle(Shape):\n",
    "    def __init__(self, width, height):\n",
    "        self.width = width\n",
    "        self.height = height\n",
    "\n",
    "    def area(self):\n",
    "        return self.width * self.height\n",
    "circle = Circle(5)\n",
    "rectangle = Rectangle(6,5)\n",
    "print(\"Area of the circle:\", circle.area()) \n",
    "print(\"Area of the rectangle:\", rectangle.area())  "
   ]
  },
  {
   "cell_type": "markdown",
   "id": "26072690-2d13-4a23-b2f0-7385350c2a0f",
   "metadata": {},
   "source": [
    "### 13. How can you prevent a child class from modifying certain attributes or methods inherited from a parent class in Python?"
   ]
  },
  {
   "cell_type": "code",
   "execution_count": 212,
   "id": "e2873589-1f43-44e6-a4bb-108bc109ad5e",
   "metadata": {},
   "outputs": [
    {
     "data": {
      "text/plain": [
       "\"\\n### in this way prevent a child class from modifying certain attributes or methods inherited from a parent class in Python:\\n\\n1 Encapsulation:Make the attributes or methods you want to protect private or protected by prefixing them with a single or\\ndouble underscore (_ or __).\\nThis convention indicates to other developers that these members should not be directly accessed or modified outside the class.\\nHowever, note that this doesn't prevent access or modification entirely; it's more of a convention.\\n\\n2 Property Decorators: Use property decorators to create getter and setter methods for attributes, allowing controlled access to them.\\nBy implementing only the getter method in the parent class and not providing a setter method, you can effectively prevent the child class\\nfrom modifying the attribute directly.\\n\\n3 Override Methods: If a method in the parent class shouldn't be modified by the child class, you can make it final by not allowing \\nit to be overridden. In Python, there's no direct way to declare a method as final, but you can achieve this by documenting it as such \\nand relying on the convention.\\n\\n4 Composition over Inheritance: Instead of inheriting directly from the parent class, use composition by creating an instance \\nof the parent class inside the child class. This way, the child class can access the functionality of the parent class without\\nbeing able to modify it directly.\\n\\n5 Metaclasses: Metaclasses allow you to customize class creation behavior. You can define a metaclass for the parent class that\\ncontrols the creation of child classes, enforcing certain restrictions or validations.  \""
      ]
     },
     "execution_count": 212,
     "metadata": {},
     "output_type": "execute_result"
    }
   ],
   "source": [
    "'''\n",
    "### in this way prevent a child class from modifying certain attributes or methods inherited from a parent class in Python:\n",
    "\n",
    "1 Encapsulation:Make the attributes or methods you want to protect private or protected by prefixing them with a single or\n",
    "double underscore (_ or __).\n",
    "This convention indicates to other developers that these members should not be directly accessed or modified outside the class.\n",
    "However, note that this doesn't prevent access or modification entirely; it's more of a convention.\n",
    "\n",
    "2 Property Decorators: Use property decorators to create getter and setter methods for attributes, allowing controlled access to them.\n",
    "By implementing only the getter method in the parent class and not providing a setter method, you can effectively prevent the child class\n",
    "from modifying the attribute directly.\n",
    "\n",
    "3 Override Methods: If a method in the parent class shouldn't be modified by the child class, you can make it final by not allowing \n",
    "it to be overridden. In Python, there's no direct way to declare a method as final, but you can achieve this by documenting it as such \n",
    "and relying on the convention.\n",
    "\n",
    "4 Composition over Inheritance: Instead of inheriting directly from the parent class, use composition by creating an instance \n",
    "of the parent class inside the child class. This way, the child class can access the functionality of the parent class without\n",
    "being able to modify it directly.\n",
    "\n",
    "5 Metaclasses: Metaclasses allow you to customize class creation behavior. You can define a metaclass for the parent class that\n",
    "controls the creation of child classes, enforcing certain restrictions or validations.  '''"
   ]
  },
  {
   "cell_type": "code",
   "execution_count": null,
   "id": "59aa5016-30aa-415f-a130-6e105d6381e1",
   "metadata": {},
   "outputs": [],
   "source": []
  },
  {
   "cell_type": "markdown",
   "id": "4fc251d5-c6f2-4807-8a6f-7e33c5f7d7db",
   "metadata": {},
   "source": [
    "### 14. Create a Python class called `Employee` with attributes `name` and `salary`. Then, create a child class`Manager` that inherits from `Employee` and adds an attribute `department`. Provide an example."
   ]
  },
  {
   "cell_type": "code",
   "execution_count": 213,
   "id": "e9e4049f-4384-4596-9a4d-774514276fb3",
   "metadata": {},
   "outputs": [
    {
     "name": "stdout",
     "output_type": "stream",
     "text": [
      "Employee: akanksha , Salary: 100000\n",
      "Manager: gb bhagat , Salary: 1500000 , Department: data science\n"
     ]
    }
   ],
   "source": [
    "class Employee:\n",
    "    def __init__(self, name, salary):\n",
    "        self.name = name\n",
    "        self.salary = salary\n",
    "\n",
    "class Manager(Employee):\n",
    "    def __init__(self, name, salary, department):\n",
    "        super().__init__(name, salary)\n",
    "        self.department = department\n",
    "\n",
    "employee1 = Employee(\"akanksha\", 100000)\n",
    "manager1 = Manager(\"gb bhagat\", 1500000, \"data science\")\n",
    "\n",
    "print(\"Employee:\", employee1.name, \", Salary:\", employee1.salary)\n",
    "print(\"Manager:\", manager1.name, \", Salary:\", manager1.salary, \", Department:\", manager1.department)\n"
   ]
  },
  {
   "cell_type": "markdown",
   "id": "70082810-848e-43ad-9cb3-6e5fe50a0745",
   "metadata": {},
   "source": [
    "### 15. Discuss the concept of method overloading in Python inheritance. How does it differ from method overriding?"
   ]
  },
  {
   "cell_type": "code",
   "execution_count": 214,
   "id": "ccbb77aa-68da-40f8-a0f6-f9f41ccd0c24",
   "metadata": {},
   "outputs": [
    {
     "data": {
      "text/plain": [
       "'## Method Overloading: \\n           Method Overloading is an example of Compile time polymorphism. In this, more than one method of the same class shares \\n           the same method name having different signatures.\\n           Method overloading is used to add more to the behavior of methods and there is no need of more than one class for\\n           method overloading.\\n           \\n  ## Method Overriding: \\n           Method overriding is an example of run time polymorphism. In this, the specific implementation of the method that is\\n           already provided by the parent class is provided by the child class. \\n           It is used to change the behavior of existing methods and there is a need for at least two classes for method overriding. \\n           In method overriding, inheritance always required as it is done between parent class(superclass) and child class(child class)\\n           methods.\\n           \\n           \\n           this is a difference between method overloading and method overriding.'"
      ]
     },
     "execution_count": 214,
     "metadata": {},
     "output_type": "execute_result"
    }
   ],
   "source": [
    "'''## Method Overloading: \n",
    "           Method Overloading is an example of Compile time polymorphism. In this, more than one method of the same class shares \n",
    "           the same method name having different signatures.\n",
    "           Method overloading is used to add more to the behavior of methods and there is no need of more than one class for\n",
    "           method overloading.\n",
    "           \n",
    "  ## Method Overriding: \n",
    "           Method overriding is an example of run time polymorphism. In this, the specific implementation of the method that is\n",
    "           already provided by the parent class is provided by the child class. \n",
    "           It is used to change the behavior of existing methods and there is a need for at least two classes for method overriding. \n",
    "           In method overriding, inheritance always required as it is done between parent class(superclass) and child class(child class)\n",
    "           methods.\n",
    "           \n",
    "           \n",
    "           this is a difference between method overloading and method overriding.'''        \n",
    "    "
   ]
  },
  {
   "cell_type": "markdown",
   "id": "6645decf-5e3b-483e-a2b1-4d20a577f114",
   "metadata": {},
   "source": [
    "### 16. Explain the purpose of the `__init__()` method in Python inheritance and how it is utilized in child classes."
   ]
  },
  {
   "cell_type": "code",
   "execution_count": 215,
   "id": "f6fd9836-aa1d-40cb-b3c6-18a219db25ff",
   "metadata": {},
   "outputs": [
    {
     "data": {
      "text/plain": [
       "\"the __init__() method is especially important because it allows child classes to initialize their own attributes as well as \\nthose inherited from the parent class.\\n\\n## Here's how it works in inheritance:\\n\\n1. In the Parent Class (__init__()): In the parent class, you define an __init__() method to initialize its own attributes.\\n\\n2.In the Child Class (__init__()): In the child class, you call the parent class's __init__() method using super(). \\nThis initializes the attributes inherited from the parent class, and you can also initialize additional attributes specific to the\\nchild class.\\n\\n3.Utilizing in Child Classes: When you create an instance of the child class, both the parent's and the child's __init__() methods \\nare executed, ensuring that all attributes are properly initialized.  \""
      ]
     },
     "execution_count": 215,
     "metadata": {},
     "output_type": "execute_result"
    }
   ],
   "source": [
    "'''the __init__() method is especially important because it allows child classes to initialize their own attributes as well as \n",
    "those inherited from the parent class.\n",
    "\n",
    "## Here's how it works in inheritance:\n",
    "\n",
    "1. In the Parent Class (__init__()): In the parent class, you define an __init__() method to initialize its own attributes.\n",
    "\n",
    "2.In the Child Class (__init__()): In the child class, you call the parent class's __init__() method using super(). \n",
    "This initializes the attributes inherited from the parent class, and you can also initialize additional attributes specific to the\n",
    "child class.\n",
    "\n",
    "3.Utilizing in Child Classes: When you create an instance of the child class, both the parent's and the child's __init__() methods \n",
    "are executed, ensuring that all attributes are properly initialized.  '''\n"
   ]
  },
  {
   "cell_type": "markdown",
   "id": "5347e9b1-d38e-41cd-9fda-7cf4b329883e",
   "metadata": {},
   "source": [
    "### 17. Create a Python class called `Bird` with a method `fly()`. Then, create child classes `Eagle` and `Sparrow` that inherit from `Bird` and implement the `fly()` method differently. Provide an example of using these classes."
   ]
  },
  {
   "cell_type": "code",
   "execution_count": 216,
   "id": "3276c692-a661-447d-81db-499ef0a5cf83",
   "metadata": {},
   "outputs": [
    {
     "name": "stdout",
     "output_type": "stream",
     "text": [
      "The eagle is fly higher .\n",
      "The sparrow is flying around.\n"
     ]
    }
   ],
   "source": [
    "class Bird:\n",
    "    def fly(self):\n",
    "        return \"The bird is flying.\"\n",
    "\n",
    "class Eagle(Bird):\n",
    "    def fly(self):\n",
    "        return \"The eagle is fly higher .\"\n",
    "\n",
    "class Sparrow(Bird):\n",
    "    def fly(self):\n",
    "        return \"The sparrow is flying around.\"\n",
    "\n",
    "eagle1 = Eagle()\n",
    "print(Eagle.fly(1))  \n",
    "sparrow1 = Sparrow()\n",
    "print(Sparrow.fly(2)) \n"
   ]
  },
  {
   "cell_type": "markdown",
   "id": "0abf22b8-1b37-4bec-97ec-d9a48f9c8539",
   "metadata": {},
   "source": [
    "### 18.What is the \"diamond problem\" in multiple inheritance, and how does Python address it?"
   ]
  },
  {
   "cell_type": "code",
   "execution_count": 217,
   "id": "90532dc1-71d1-4641-b7e4-0ded790435ea",
   "metadata": {},
   "outputs": [
    {
     "data": {
      "text/plain": [
       "'The \"diamond problem\" is a challenge that arises in programming languages that support multiple inheritance, \\nwhere a class inherits from two or more classes which in turn have a common ancestor. \\nIt is named for the diamond shape that results when visualizing the class hierarchy.\\n\\nPython addresses the diamond problem through a mechanism called Method Resolution Order (MRO) and a specific algorithm known as\\nC3 Linearization.\\nThis algorithm ensures that the method resolution order is consistent and unambiguous\\n\\nPython\\'s approach to handling the diamond problem through MRO and C3 Linearization allows for flexible and reliable multiple inheritance\\nwithout introducing ambiguity or unpredictability.  '"
      ]
     },
     "execution_count": 217,
     "metadata": {},
     "output_type": "execute_result"
    }
   ],
   "source": [
    "'''The \"diamond problem\" is a challenge that arises in programming languages that support multiple inheritance, \n",
    "where a class inherits from two or more classes which in turn have a common ancestor. \n",
    "It is named for the diamond shape that results when visualizing the class hierarchy.\n",
    "\n",
    "Python addresses the diamond problem through a mechanism called Method Resolution Order (MRO) and a specific algorithm known as\n",
    "C3 Linearization.\n",
    "This algorithm ensures that the method resolution order is consistent and unambiguous\n",
    "\n",
    "Python's approach to handling the diamond problem through MRO and C3 Linearization allows for flexible and reliable multiple inheritance\n",
    "without introducing ambiguity or unpredictability.  '''"
   ]
  },
  {
   "cell_type": "markdown",
   "id": "589be38f-46a6-498b-ab2e-35484bc49171",
   "metadata": {},
   "source": [
    "### 19. Discuss the concept of \"is-a\" and \"has-a\" relationships in inheritance, and provide examples of each."
   ]
  },
  {
   "cell_type": "code",
   "execution_count": 218,
   "id": "7d4f0f36-6b75-4a61-9fdc-38ed09ac0a99",
   "metadata": {},
   "outputs": [
    {
     "name": "stdout",
     "output_type": "stream",
     "text": [
      "im reading ABC book\n",
      "u reading XYZ book\n"
     ]
    }
   ],
   "source": [
    "''' ## \"Is-a\" Relationship (Inheritance):\n",
    "In this scenario, a subclass inherits from a superclass, representing a more specialized version of the superclass. '''\n",
    "\n",
    "class book:\n",
    "    def read(self):\n",
    "        pass\n",
    "\n",
    "class ABC(book):  \n",
    "    def read(self):\n",
    "        print(\"im reading ABC book\")\n",
    "\n",
    "class XYZ(book):  \n",
    "    def read(self):\n",
    "        print(\"u reading XYZ book\")\n",
    "\n",
    "ABC1 = ABC()\n",
    "ABC.read(1)  \n",
    "XYZ1 = XYZ()\n",
    "XYZ.read(2) "
   ]
  },
  {
   "cell_type": "code",
   "execution_count": 219,
   "id": "7628f1e9-2c31-4653-84be-c05a655cf66f",
   "metadata": {},
   "outputs": [
    {
     "name": "stdout",
     "output_type": "stream",
     "text": [
      "im writing a book\n"
     ]
    }
   ],
   "source": [
    "''' ## \"has-a\" relationship : \n",
    "denotes that a class has another class or object as a member or attribute.\n",
    "It implies that one class contains an instance of another class as a member.\n",
    "This relationship is often implemented using composition, where one class contains an instance of another class. '''\n",
    "\n",
    "class book:\n",
    "    def __init__(self, write):\n",
    "        self.write = write  \n",
    "\n",
    "    def start(self):\n",
    "        self.write.start(self)\n",
    "\n",
    "class write:\n",
    "    def start(self):\n",
    "        print(\"im writing a book\")\n",
    "\n",
    "write_something = write()\n",
    "book = book(write)\n",
    "book.start() "
   ]
  },
  {
   "cell_type": "markdown",
   "id": "00292c2f-e73b-47ae-9578-c196c7e2fc38",
   "metadata": {},
   "source": [
    "### 20. Create a Python class hierarchy for a university system. Start with a base class `Person` and create child classes `Student` and `Professor`, each with their own attributes and methods. Provide an example of using these classes in a university context."
   ]
  },
  {
   "cell_type": "code",
   "execution_count": 220,
   "id": "f6424653-937b-4af3-b144-5cf5f6e502a0",
   "metadata": {},
   "outputs": [
    {
     "name": "stdout",
     "output_type": "stream",
     "text": [
      "Akanksha is studying for datascience.\n",
      "shudhanshu is teaching a class.\n"
     ]
    }
   ],
   "source": [
    "class Person:\n",
    "    def __init__(self, name):\n",
    "        self.name = name\n",
    "       \n",
    "class Student(Person):\n",
    "    def __init__(self, name, student_id):\n",
    "        super().__init__(name)\n",
    "        self.student_id = student_id\n",
    "\n",
    "    def study(self):\n",
    "        print(f\"{self.name} is studying for datascience.\")\n",
    "\n",
    "\n",
    "class Professor(Person):\n",
    "    def __init__(self, name, professor_id):\n",
    "        super().__init__(name)\n",
    "        self.professor_id = professor_id\n",
    "\n",
    "    def teach(self):\n",
    "        print(f\"{self.name} is teaching a class.\")\n",
    "\n",
    "student1 = Student(\"Akanksha\",  \"1234\")\n",
    "professor1 = Professor(\"shudhanshu\", \"555\")\n",
    "student1.study()\n",
    "professor1.teach()\n"
   ]
  },
  {
   "cell_type": "markdown",
   "id": "7c7fe1a9-0515-441c-9a32-63b75dd00ddc",
   "metadata": {},
   "source": [
    "# Encapsulation:"
   ]
  },
  {
   "cell_type": "markdown",
   "id": "f0663d8c-396f-45f5-86bb-797ad16f3b57",
   "metadata": {},
   "source": [
    "### 1. Explain the concept of encapsulation in Python. What is its role in object-oriented programming?"
   ]
  },
  {
   "cell_type": "code",
   "execution_count": 221,
   "id": "54e68ffc-1f99-4097-9ee7-8b23e20c57ec",
   "metadata": {},
   "outputs": [
    {
     "data": {
      "text/plain": [
       "\"\\n## Encapsulation :when we try to hide internal details but we know what is going to in & out, this concept called encapsulation.\\n\\nEncapsulation allows the class designer to control the access level of the attributes and methods. \\nThis is done using access specifiers like public, private, and protected.\\n\\nPublic attributes and methods can be accessed from outside the class, \\nwhile private attributes and methods are accessible only within the class itself. \\nProtected attributes and methods are accessible within the class and its subclasses.\\n\\nIn Python, encapsulation is typically implemented using private and public attributes and methods.\\nPrivate attributes and methods are denoted by prefixing an underscore (_) or double underscore (__) to their names. \\nThis convention indicates that they are intended for internal use within the class and should not be accessed directly from outside the class.\\nInstead, public methods are provided to access and manipulate the private attributes in a controlled manner, \\nmaintaining the integrity of the object's state.\\n\\nOverall, encapsulation plays a crucial role in OOP by promoting data hiding, access control, modularity, and security, \\nthereby enhancing the robustness and maintainability of object-oriented systems.      \""
      ]
     },
     "execution_count": 221,
     "metadata": {},
     "output_type": "execute_result"
    }
   ],
   "source": [
    "'''\n",
    "## Encapsulation :when we try to hide internal details but we know what is going to in & out, this concept called encapsulation.\n",
    "\n",
    "Encapsulation allows the class designer to control the access level of the attributes and methods. \n",
    "This is done using access specifiers like public, private, and protected.\n",
    "\n",
    "Public attributes and methods can be accessed from outside the class, \n",
    "while private attributes and methods are accessible only within the class itself. \n",
    "Protected attributes and methods are accessible within the class and its subclasses.\n",
    "\n",
    "In Python, encapsulation is typically implemented using private and public attributes and methods.\n",
    "Private attributes and methods are denoted by prefixing an underscore (_) or double underscore (__) to their names. \n",
    "This convention indicates that they are intended for internal use within the class and should not be accessed directly from outside the class.\n",
    "Instead, public methods are provided to access and manipulate the private attributes in a controlled manner, \n",
    "maintaining the integrity of the object's state.\n",
    "\n",
    "Overall, encapsulation plays a crucial role in OOP by promoting data hiding, access control, modularity, and security, \n",
    "thereby enhancing the robustness and maintainability of object-oriented systems.      '''"
   ]
  },
  {
   "cell_type": "markdown",
   "id": "75c2479c-448b-4040-bc83-fe15bfeb5600",
   "metadata": {},
   "source": [
    "### 2. Describe the key principles of encapsulation, including access control and data hiding."
   ]
  },
  {
   "cell_type": "code",
   "execution_count": 222,
   "id": "a231a812-c317-4c0f-be16-b77e86c53293",
   "metadata": {},
   "outputs": [
    {
     "data": {
      "text/plain": [
       "\"## Encapsulation  : encapsulation ensures that the internal representation of an object is hidden from the outside world \\nand can only be accessed through well-defined interfaces. This helps in reducing dependencies, improving security,\\nand enhancing the maintainability of code. By encapsulating data and behavior within objects and controlling access to them, \\nencapsulation promotes modular and robust software design.\\n\\n## Access Control:\\nAccess control refers to the mechanism through which the visibility and accessibility of attributes and methods are regulated.\\nIt allows the class designer to define which parts of the class interface should be accessible to the outside world and which should be hidden.\\nAccess specifiers like public, private, and protected are used to specify the level of access for attributes and methods:\\n\\nPublic: Public attributes and methods are accessible from outside the class.\\n      \\nPrivate: Private attributes and methods are only accessible within the class where they are defined.\\n\\nProtected: Protected attributes and methods are accessible within the class where they are defined and its subclasses.\\n\\n## Data Hiding:\\nData hiding is the practice of restricting access to certain parts of an object, typically its attributes, from the outside world.\\nIt helps in protecting the integrity of an object's data by preventing direct modification from external sources.\\nIn many object-oriented languages like Python, data hiding is achieved by marking attributes as private or protected. \\nThis means that these attributes can only be accessed or modified by methods within the class itself.      \""
      ]
     },
     "execution_count": 222,
     "metadata": {},
     "output_type": "execute_result"
    }
   ],
   "source": [
    "'''## Encapsulation  : encapsulation ensures that the internal representation of an object is hidden from the outside world \n",
    "and can only be accessed through well-defined interfaces. This helps in reducing dependencies, improving security,\n",
    "and enhancing the maintainability of code. By encapsulating data and behavior within objects and controlling access to them, \n",
    "encapsulation promotes modular and robust software design.\n",
    "\n",
    "## Access Control:\n",
    "Access control refers to the mechanism through which the visibility and accessibility of attributes and methods are regulated.\n",
    "It allows the class designer to define which parts of the class interface should be accessible to the outside world and which should be hidden.\n",
    "Access specifiers like public, private, and protected are used to specify the level of access for attributes and methods:\n",
    "\n",
    "Public: Public attributes and methods are accessible from outside the class.\n",
    "      \n",
    "Private: Private attributes and methods are only accessible within the class where they are defined.\n",
    "\n",
    "Protected: Protected attributes and methods are accessible within the class where they are defined and its subclasses.\n",
    "\n",
    "## Data Hiding:\n",
    "Data hiding is the practice of restricting access to certain parts of an object, typically its attributes, from the outside world.\n",
    "It helps in protecting the integrity of an object's data by preventing direct modification from external sources.\n",
    "In many object-oriented languages like Python, data hiding is achieved by marking attributes as private or protected. \n",
    "This means that these attributes can only be accessed or modified by methods within the class itself.      '''"
   ]
  },
  {
   "cell_type": "markdown",
   "id": "be745849-1cac-4061-a14f-67819e0830ff",
   "metadata": {},
   "source": [
    "### 3. How can you achieve encapsulation in Python classes? Provide an example."
   ]
  },
  {
   "cell_type": "code",
   "execution_count": 223,
   "id": "b023744f-1bf2-49b3-bacc-420d59ccbd39",
   "metadata": {},
   "outputs": [
    {
     "data": {
      "text/plain": [
       "129364"
      ]
     },
     "execution_count": 223,
     "metadata": {},
     "output_type": "execute_result"
    }
   ],
   "source": [
    "class bank:\n",
    "    def __init__(self, account_num, balance):\n",
    "        self._account_number = account_num   #protected  #for protected used single underscore to assece data\n",
    "        self.__balance = balance             # privet  # underscore.classname__ then cl it \n",
    "        \n",
    "    def check_balance(self , password):   # public method\n",
    "        if password == 'pw12':\n",
    "            return self.__balance\n",
    "        else:\n",
    "            return 'incorrect password'\n",
    "# object = cls(acc_num , acc_bal)        \n",
    "akanksha = bank(123,129364)\n",
    "akanksha.check_balance('pw12')  "
   ]
  },
  {
   "cell_type": "markdown",
   "id": "c09743e1-ca77-457c-af64-2d6910e82844",
   "metadata": {},
   "source": [
    "### 4. Discuss the difference between public, private, and protected access modifiers in Python."
   ]
  },
  {
   "cell_type": "code",
   "execution_count": 224,
   "id": "9d232747-b315-4ade-8757-086742909ba8",
   "metadata": {},
   "outputs": [
    {
     "data": {
      "text/plain": [
       "'\\n## public :\\n    Public attributes and methods are accessible from outside the class .\\n    They form the interface through which external code interacts with the class.\\n    without any underscore (_) are considered public by convention or no underscore.\\n\\n## Private:\\n    Private attributes and methods are only accessible within the class .\\n    They cannot be accessed directly from outside the class.\\n    double underscore (__) are considered private.\\n\\n## Protected:\\n    Protected attributes and methods are accessible within the class  and its subclasses.\\n    They are not accessible from outside the class but can be accessed by subclasses.\\n    In Python, attributes and methods prefixed with a single underscore (_) are considered protected by convention.\\n    However, this is more of a convention, and Python does not enforce true protected access control.\\n '"
      ]
     },
     "execution_count": 224,
     "metadata": {},
     "output_type": "execute_result"
    }
   ],
   "source": [
    "'''\n",
    "## public :\n",
    "    Public attributes and methods are accessible from outside the class .\n",
    "    They form the interface through which external code interacts with the class.\n",
    "    without any underscore (_) are considered public by convention or no underscore.\n",
    "\n",
    "## Private:\n",
    "    Private attributes and methods are only accessible within the class .\n",
    "    They cannot be accessed directly from outside the class.\n",
    "    double underscore (__) are considered private.\n",
    "\n",
    "## Protected:\n",
    "    Protected attributes and methods are accessible within the class  and its subclasses.\n",
    "    They are not accessible from outside the class but can be accessed by subclasses.\n",
    "    In Python, attributes and methods prefixed with a single underscore (_) are considered protected by convention.\n",
    "    However, this is more of a convention, and Python does not enforce true protected access control.\n",
    " '''"
   ]
  },
  {
   "cell_type": "markdown",
   "id": "a94f300c-9d0c-403b-a190-ff3fc37e1ccf",
   "metadata": {},
   "source": [
    "### 5. Create a Python class called `Person` with a private attribute `__name`. Provide methods to get and set the name attribute."
   ]
  },
  {
   "cell_type": "code",
   "execution_count": 225,
   "id": "7e924d70-c90c-4a20-8dcf-e8da58a314d9",
   "metadata": {},
   "outputs": [
    {
     "name": "stdout",
     "output_type": "stream",
     "text": [
      "akanksha\n",
      "Baby\n"
     ]
    }
   ],
   "source": [
    "class Person:\n",
    "    def __init__(self, name):\n",
    "        self.__name = name\n",
    "\n",
    "    def get_name(self):\n",
    "        return self.__name\n",
    "\n",
    "    def set_name(self, new_name):\n",
    "        self.__name = new_name\n",
    "\n",
    "person = Person(\"akanksha\")\n",
    "print(person.get_name()) \n",
    "\n",
    "person.set_name(\"Baby\")\n",
    "print(person.get_name())  \n"
   ]
  },
  {
   "cell_type": "markdown",
   "id": "63641de8-0e88-49c3-be2d-732245bb0b73",
   "metadata": {},
   "source": [
    "### 6. Explain the purpose of getter and setter methods in encapsulation. Provide examples."
   ]
  },
  {
   "cell_type": "code",
   "execution_count": 226,
   "id": "247597ea-a421-4a8f-8b80-b08d713606af",
   "metadata": {},
   "outputs": [
    {
     "name": "stdout",
     "output_type": "stream",
     "text": [
      "akanksha\n",
      "Baby\n"
     ]
    }
   ],
   "source": [
    "'''\n",
    "## Purpose of Getter Methods:\n",
    "Getter methods are used to retrieve the value of a private attribute.\n",
    "They provide read-only access to the attribute, allowing external code to obtain its value without directly accessing the attribute.\n",
    "Getter methods can include additional logic or validation before returning the attribute's value.\n",
    "\n",
    "## Purpose of Setter Methods:\n",
    "Setter methods are used to modify the value of a private attribute.\n",
    "They provide write-only access to the attribute, allowing external code to update its value through a controlled interface.\n",
    "Setter methods can include validation checks to ensure that the new value meets certain criteria before assigning it to the attribute. '''\n",
    "\n",
    "class Person:\n",
    "    def __init__(self, name):\n",
    "        self.__name = name\n",
    "\n",
    "    def get_name(self):\n",
    "        return self.__name\n",
    "\n",
    "    def set_name(self, new_name):\n",
    "        self.__name = new_name\n",
    "\n",
    "person = Person(\"akanksha\")\n",
    "print(person.get_name()) \n",
    "\n",
    "person.set_name(\"Baby\")\n",
    "print(person.get_name())  "
   ]
  },
  {
   "cell_type": "markdown",
   "id": "38ad88bc-7770-47cf-9fe9-90ff728e03f4",
   "metadata": {},
   "source": [
    "### 7. What is name mangling in Python, and how does it affect encapsulation?"
   ]
  },
  {
   "cell_type": "code",
   "execution_count": 227,
   "id": "245b91f4-c256-4125-ad03-8415854ff447",
   "metadata": {},
   "outputs": [
    {
     "data": {
      "text/plain": [
       "\" ## Name mangling : In the name mangling process, any identifier with two leading underscores and at most one trailing underscore is textually\\n                    replaced with _classname__identifier, where classname is the name of the current class with leading underscores stripped.  \\n\\n\\n## Here's how name mangling affects encapsulation:\\n\\n1. Preventing Accidental Access: \\n          By mangling the names of attributes with double underscores, \\n          Python discourages direct access to those attributes from outside the class. This encourages users of the class to access attributes\\n          through getter and setter methods, promoting better encapsulation.\\n\\n2. Preventing Accidental Overriding: \\n          Name mangling helps prevent accidental overriding of attributes in subclasses.\\n          Since the mangled name includes the class name, it's less likely to clash with attributes in subclasses or other classes.\\n   \\n3. Indicating Intention:\\n          Using name mangling signals to other developers that certain attributes are intended for internal use within the class. \\n          It's a convention that communicates the intended level of access to class members.   \""
      ]
     },
     "execution_count": 227,
     "metadata": {},
     "output_type": "execute_result"
    }
   ],
   "source": [
    "''' ## Name mangling : In the name mangling process, any identifier with two leading underscores and at most one trailing underscore is textually\n",
    "                    replaced with _classname__identifier, where classname is the name of the current class with leading underscores stripped.  \n",
    "\n",
    "\n",
    "## Here's how name mangling affects encapsulation:\n",
    "\n",
    "1. Preventing Accidental Access: \n",
    "          By mangling the names of attributes with double underscores, \n",
    "          Python discourages direct access to those attributes from outside the class. This encourages users of the class to access attributes\n",
    "          through getter and setter methods, promoting better encapsulation.\n",
    "\n",
    "2. Preventing Accidental Overriding: \n",
    "          Name mangling helps prevent accidental overriding of attributes in subclasses.\n",
    "          Since the mangled name includes the class name, it's less likely to clash with attributes in subclasses or other classes.\n",
    "   \n",
    "3. Indicating Intention:\n",
    "          Using name mangling signals to other developers that certain attributes are intended for internal use within the class. \n",
    "          It's a convention that communicates the intended level of access to class members.   '''"
   ]
  },
  {
   "cell_type": "markdown",
   "id": "7772e5a5-0e1a-4d49-8695-9a1c9edb3700",
   "metadata": {},
   "source": [
    "### 8. Create a Python class called `BankAccount` with private attributes for the account balance (`__balance`) and account number (`__account_number`). Provide methods for depositing and withdrawing money."
   ]
  },
  {
   "cell_type": "code",
   "execution_count": 228,
   "id": "b062db28-cda8-4394-bdb8-e24dbc9fdfa6",
   "metadata": {},
   "outputs": [
    {
     "name": "stdout",
     "output_type": "stream",
     "text": [
      "Deposited 500 into account 987654321. New balance: 20500\n",
      "Withdrew 1000 from account 987654321. New balance: 19500\n"
     ]
    }
   ],
   "source": [
    "class BankAccount:\n",
    "    def __init__(self, account_number, initial_balance=0):\n",
    "        self.__account_number = account_number\n",
    "        self.__balance = initial_balance\n",
    "\n",
    "    def deposit(self, amount):\n",
    "        if amount > 0:\n",
    "            self.__balance += amount\n",
    "            print(f\"Deposited {amount} into account {self.__account_number}. New balance: {self.__balance}\")\n",
    "        else:\n",
    "            print(\"Invalid deposit amount. Amount must be greater than zero.\")\n",
    "\n",
    "    def withdraw(self, amount):\n",
    "        if 0 < amount <= self.__balance:\n",
    "            self.__balance -= amount\n",
    "            print(f\"Withdrew {amount} from account {self.__account_number}. New balance: {self.__balance}\")\n",
    "        else:\n",
    "            print(\"Insufficient funds or invalid withdrawal amount.\")\n",
    "\n",
    "account = BankAccount(\"987654321\", 20000)\n",
    "account.deposit(500)   \n",
    "account.withdraw(1000)  \n"
   ]
  },
  {
   "cell_type": "markdown",
   "id": "df879fde-e89e-4846-a4b7-3a3740176636",
   "metadata": {},
   "source": [
    "### 9. Discuss the advantages of encapsulation in terms of code maintainability and security."
   ]
  },
  {
   "cell_type": "code",
   "execution_count": 229,
   "id": "1325a62e-3cf7-4e57-a9ff-fae8bc99cc41",
   "metadata": {},
   "outputs": [
    {
     "data": {
      "text/plain": [
       "'\\n## Advantage of encapsulation :\\nCode Maintainability: Encapsulation helps organize code into modular units, making it easier to understand, update, and debug.\\nIt allows changes to be localized, reducing the risk of unintended side effects throughout the codebase.\\n\\nSecurity: Encapsulation restricts access to sensitive data and operations, reducing the risk of unauthorized access or manipulation.\\nIt enables the implementation of security measures within classes, enhancing overall system security.     '"
      ]
     },
     "execution_count": 229,
     "metadata": {},
     "output_type": "execute_result"
    }
   ],
   "source": [
    "'''\n",
    "## Advantage of encapsulation :\n",
    "Code Maintainability: Encapsulation helps organize code into modular units, making it easier to understand, update, and debug.\n",
    "It allows changes to be localized, reducing the risk of unintended side effects throughout the codebase.\n",
    "\n",
    "Security: Encapsulation restricts access to sensitive data and operations, reducing the risk of unauthorized access or manipulation.\n",
    "It enables the implementation of security measures within classes, enhancing overall system security.     '''"
   ]
  },
  {
   "cell_type": "markdown",
   "id": "3932ae01-78d2-4c5d-a30c-3c15a20f08a5",
   "metadata": {},
   "source": [
    "### 10. How can you access private attributes in Python? Provide an example demonstrating the use of name mangling."
   ]
  },
  {
   "cell_type": "code",
   "execution_count": 230,
   "id": "8f60dabd-1396-4e1c-bba3-6f6149a55c10",
   "metadata": {},
   "outputs": [
    {
     "data": {
      "text/plain": [
       "\" ## In Python, access these attributes from outside the class using various methods:\\n   \\n 1. Direct Access: You can directly access private attributes from outside the class.\\n                   Although it's discouraged, Python doesn't prevent you from doing so. \\n\\n2.Name Mangling: Python uses name mangling to make it slightly more difficult to access private attributes from outside the class.\\n                 Name mangling involves prefixing the attribute name with a single underscore and the class name,\\n                 making it slightly more difficult to access.\\n   \\n3. Getter and Setter Methods: You can define methods within the class to get and set private attributes. \\n                              This provides controlled access to the attributes and allows for additional logic if needed.      \""
      ]
     },
     "execution_count": 230,
     "metadata": {},
     "output_type": "execute_result"
    }
   ],
   "source": [
    " ''' ## In Python, access these attributes from outside the class using various methods:\n",
    "    \n",
    "  1. Direct Access: You can directly access private attributes from outside the class.\n",
    "                    Although it's discouraged, Python doesn't prevent you from doing so. \n",
    "\n",
    " 2.Name Mangling: Python uses name mangling to make it slightly more difficult to access private attributes from outside the class.\n",
    "                  Name mangling involves prefixing the attribute name with a single underscore and the class name,\n",
    "                  making it slightly more difficult to access.\n",
    "    \n",
    " 3. Getter and Setter Methods: You can define methods within the class to get and set private attributes. \n",
    "                               This provides controlled access to the attributes and allows for additional logic if needed.      '''\n",
    "       "
   ]
  },
  {
   "cell_type": "markdown",
   "id": "60b722e2-3226-48c5-acf5-06ed9b030da1",
   "metadata": {},
   "source": [
    "### 11. Create a Python class hierarchy for a school system, including classes for students, teachers, and courses,and implement encapsulation principles to protect sensitive information."
   ]
  },
  {
   "cell_type": "code",
   "execution_count": 231,
   "id": "f734b003-8dea-4fe6-b2a0-20c69148cb13",
   "metadata": {},
   "outputs": [
    {
     "name": "stdout",
     "output_type": "stream",
     "text": [
      "Name: sudhanshu, Age: 32\n",
      "Name: Akanksha, Age: 22\n",
      "Course: data science\n"
     ]
    }
   ],
   "source": [
    "class school_system:\n",
    "    def __init__(self, name, age):\n",
    "        self._name = name\n",
    "        self._age = age\n",
    "    def __str__(self):\n",
    "        return f\"Name: {self._name}, Age: {self._age}\"\n",
    "\n",
    "class Student(school_system):\n",
    "    def __init__(self, student_name, age):\n",
    "        super().__init__(student_name, age)\n",
    "        \n",
    "class teacher(school_system):\n",
    "    def __init__(self, teacher_name, age):\n",
    "        super().__init__(teacher_name, age)\n",
    "       \n",
    "class Course:\n",
    "    def __init__(self, name):\n",
    "        self._name = name\n",
    "    def __str__(self):\n",
    "        return f\"Course: {self._name}\"  \n",
    "teacher1 = teacher(\"sudhanshu\", 32)\n",
    "student1 = Student(\"Akanksha\", 22)\n",
    "course1 = Course(\"data science\")\n",
    "print(teacher1)\n",
    "print(student1)\n",
    "print(course1)"
   ]
  },
  {
   "cell_type": "markdown",
   "id": "6f7a5baf-6beb-477d-a3b1-05e128ebf600",
   "metadata": {},
   "source": [
    "### 12. Explain the concept of property decorators in Python and how they relate to encapsulation."
   ]
  },
  {
   "cell_type": "code",
   "execution_count": 232,
   "id": "6e9fcfc4-661c-4398-9306-2637bc109b56",
   "metadata": {},
   "outputs": [
    {
     "data": {
      "text/plain": [
       "'\\n### Concept of property decorator in python & how its relete to encapsulation:\\n   \\n   In Python, the property decorator is provides a way to encapsulate the access and modification of attributes within a class. \\n   Property decorators are particularly useful when you want to perform additional actions, such as validation or computation,\\n   when getting or setting the value of an attribute.\\n   \\n   getter method , setter method , delete method in this way property decorator relate to encapsulation.\\n   you can enforce encapsulation principles by hiding the internal representation of attributes and providing controlled\\n   access to them through getter, setter, and deleter methods. This allows you to maintain data integrity, enforce validation rules, and add additional\\n   logic without exposing the underlying implementation details of the class. In essence, property decorators help in creating a more robust\\n   and maintainable codebase by promoting encapsulation and abstraction. '"
      ]
     },
     "execution_count": 232,
     "metadata": {},
     "output_type": "execute_result"
    }
   ],
   "source": [
    "'''\n",
    "### Concept of property decorator in python & how its relete to encapsulation:\n",
    "   \n",
    "   In Python, the property decorator is provides a way to encapsulate the access and modification of attributes within a class. \n",
    "   Property decorators are particularly useful when you want to perform additional actions, such as validation or computation,\n",
    "   when getting or setting the value of an attribute.\n",
    "   \n",
    "   getter method , setter method , delete method in this way property decorator relate to encapsulation.\n",
    "   you can enforce encapsulation principles by hiding the internal representation of attributes and providing controlled\n",
    "   access to them through getter, setter, and deleter methods. This allows you to maintain data integrity, enforce validation rules, and add additional\n",
    "   logic without exposing the underlying implementation details of the class. In essence, property decorators help in creating a more robust\n",
    "   and maintainable codebase by promoting encapsulation and abstraction. '''"
   ]
  },
  {
   "cell_type": "markdown",
   "id": "4b5549d2-6bb7-4897-a4e9-7efd365ce863",
   "metadata": {},
   "source": [
    "### 13. What is data hiding, and why is it important in encapsulation? Provide examples."
   ]
  },
  {
   "cell_type": "code",
   "execution_count": 233,
   "id": "1ec0cfcf-6bb2-4ae8-9671-9f3b2337ea56",
   "metadata": {},
   "outputs": [
    {
     "name": "stdout",
     "output_type": "stream",
     "text": [
      "carji\n",
      "carji\n",
      "mycarismy\n"
     ]
    }
   ],
   "source": [
    "''' # Data hiding, is concept in object-oriented programming (OOP),The goal of data hiding is to prevent the direct access or modification \n",
    "   of internal data from outside the class, thereby encapsulating the implementation details and promoting a more robust and maintainable codebase.\n",
    "   \n",
    "## Data hiding is important in encapsulation because:\n",
    "\n",
    "1.Protection of Sensitive Data: Encapsulation allows you to hide the internal state of an object, preventing direct access to sensitive data. \n",
    "  By restricting access to certain attributes or methods, you can ensure that critical information is not inadvertently modified or accessed \n",
    "  by external code.\n",
    "\n",
    "2.Abstraction of Implementation Details: Encapsulation allows you to define a clear interface for interacting with an object while hiding \n",
    "  the implementation details. This promotes modularity and reduces dependencies between different parts of a program, making it easier to understand,\n",
    "  maintain, and modify the codebase.\n",
    "\n",
    "3.Enhanced Security: By hiding implementation details, encapsulation reduces the risk of unintended side effects or security vulnerabilities. \n",
    "  It prevents external code from directly manipulating internal state, which can help mitigate potential security threats.\n",
    "\n",
    "4.Flexibility and Maintainability: Encapsulation facilitates changes to the internal implementation of a class without affecting the external \n",
    "  interface. This allows you to refactor or optimize the codebase without impacting other parts of the system,\n",
    "  improving its flexibility and maintainability over time.'''\n",
    "\n",
    "class Car:\n",
    "    def __init__(self, make, model):\n",
    "        self._make = make  # Data hiding\n",
    "        self._model = model\n",
    "\n",
    "    def get_make(self):\n",
    "        return self._make\n",
    "\n",
    "    def set_make(self, make):\n",
    "        self._make = make\n",
    "\n",
    "my_car = Car(\"carji\", \"blackberry\")\n",
    "print(my_car._make)  \n",
    "print(my_car.get_make()) \n",
    "my_car._make = \"mycarismy\"\n",
    "my_car.set_make(\"mycarismy\")\n",
    "print(my_car.get_make())"
   ]
  },
  {
   "cell_type": "markdown",
   "id": "cb7a63db-4a07-4a4b-8e90-6bd75be74aa6",
   "metadata": {},
   "source": [
    "### 14. Create a Python class called `Employee` with private attributes for salary (`__salary`) and employee ID (`__employee_id`). Provide a method to calculate yearly bonuses."
   ]
  },
  {
   "cell_type": "code",
   "execution_count": 234,
   "id": "cb45a916-4f0c-4ecd-b618-eaaf39648152",
   "metadata": {},
   "outputs": [
    {
     "name": "stdout",
     "output_type": "stream",
     "text": [
      "Yearly bonus for Employee 222: $2000.0\n"
     ]
    }
   ],
   "source": [
    "class Employee:\n",
    "    def __init__(self, salary, employee_id):\n",
    "        self.__salary = salary\n",
    "        self.__employee_id = employee_id\n",
    "\n",
    "    def calculate_yearly_bonus(self, bonus_percentage):\n",
    "        bonus_amount = self.__salary * (bonus_percentage / 100)\n",
    "        return bonus_amount\n",
    "\n",
    "employee1 = Employee(20000, 222)\n",
    "bonus = employee1.calculate_yearly_bonus(10)\n",
    "print(\"Yearly bonus for Employee {}: ${}\".format(employee1._Employee__employee_id, bonus))"
   ]
  },
  {
   "cell_type": "markdown",
   "id": "64738be7-c3c7-4913-9b2b-771209bc29f1",
   "metadata": {},
   "source": [
    "### 15. Discuss the use of accessors and mutators in encapsulation. How do they help maintain control over attribute access?"
   ]
  },
  {
   "cell_type": "code",
   "execution_count": 235,
   "id": "d5a01c55-4fab-4c48-8911-631e093d6b79",
   "metadata": {},
   "outputs": [
    {
     "data": {
      "text/plain": [
       "'Accessors and mutators, also known as getters and setters respectively, are methods used in object-oriented programming to achieve encapsulation\\n   and maintain control over attribute access. \\n\\n# use of accessors and mutators :\\n\\n## Accessors (Getters):\\nAccessors are methods used to retrieve the values of private attributes of a class.\\nThey provide controlled read access to the attributes by returning their values.\\nAccessors typically have names prefixed with \"get\".\\nBy using accessors, the internal state of the object remains encapsulated, and the class can enforce any necessary logic or validation\\nbefore allowing access to the attribute.\\nAccessors help in achieving data abstraction, as they hide the implementation details of how the attribute is stored or computed.\\n\\n## Mutators (Setters):\\nMutators are methods used to modify the values of private attributes of a class.\\nThey provide controlled write access to the attributes by allowing the modification of their values.\\nMutators typically have names prefixed with \"set\".\\nMutators enable the class to enforce constraints or validation rules before allowing modifications to the attribute.\\nThey help maintain the integrity of the object\\'s state by preventing invalid or inconsistent changes to its attributes.\\nMutators can include logic to perform additional actions, such as triggering notifications or updates when an attribute is modified.\\n\\n## accessors and mutators help maintain control over attribute access by encapsulating the internal state of objects, \\nenforcing validation rules and constraints, and providing a structured interface for interacting with object attributes. \\nThey ensure that attribute access and modification occur in a controlled and consistent manner, leading to more robust, maintainable, and secure code.\\n'"
      ]
     },
     "execution_count": 235,
     "metadata": {},
     "output_type": "execute_result"
    }
   ],
   "source": [
    "'''Accessors and mutators, also known as getters and setters respectively, are methods used in object-oriented programming to achieve encapsulation\n",
    "   and maintain control over attribute access. \n",
    "\n",
    "# use of accessors and mutators :\n",
    "\n",
    "## Accessors (Getters):\n",
    "Accessors are methods used to retrieve the values of private attributes of a class.\n",
    "They provide controlled read access to the attributes by returning their values.\n",
    "Accessors typically have names prefixed with \"get\".\n",
    "By using accessors, the internal state of the object remains encapsulated, and the class can enforce any necessary logic or validation\n",
    "before allowing access to the attribute.\n",
    "Accessors help in achieving data abstraction, as they hide the implementation details of how the attribute is stored or computed.\n",
    "\n",
    "## Mutators (Setters):\n",
    "Mutators are methods used to modify the values of private attributes of a class.\n",
    "They provide controlled write access to the attributes by allowing the modification of their values.\n",
    "Mutators typically have names prefixed with \"set\".\n",
    "Mutators enable the class to enforce constraints or validation rules before allowing modifications to the attribute.\n",
    "They help maintain the integrity of the object's state by preventing invalid or inconsistent changes to its attributes.\n",
    "Mutators can include logic to perform additional actions, such as triggering notifications or updates when an attribute is modified.\n",
    "\n",
    "## accessors and mutators help maintain control over attribute access by encapsulating the internal state of objects, \n",
    "enforcing validation rules and constraints, and providing a structured interface for interacting with object attributes. \n",
    "They ensure that attribute access and modification occur in a controlled and consistent manner, leading to more robust, maintainable, and secure code.\n",
    "'''"
   ]
  },
  {
   "cell_type": "markdown",
   "id": "ecd004c7-08d0-4396-8d6e-b731b49c4b23",
   "metadata": {},
   "source": [
    "### 16. What are the potential drawbacks or disadvantages of using encapsulation in Python?"
   ]
  },
  {
   "cell_type": "code",
   "execution_count": 236,
   "id": "9de4fb0f-bf55-43f2-830f-13280c83cb13",
   "metadata": {},
   "outputs": [
    {
     "data": {
      "text/plain": [
       "'\\n# potential drawbacks or disadvantages of using encapsulation in Python :\\n\\nUsing encapsulation in Python can lead to increased complexity, as it relies on naming conventions rather than explicit access modifiers,\\npotentially making code verbose and less intuitive. It may incur a slight performance overhead due to the use of accessors and mutators. \\nEncapsulation can also limit flexibility, make testing and debugging more challenging, and, if misused, may not fully prevent unauthorized \\naccess to class attributes.  '"
      ]
     },
     "execution_count": 236,
     "metadata": {},
     "output_type": "execute_result"
    }
   ],
   "source": [
    "'''\n",
    "# potential drawbacks or disadvantages of using encapsulation in Python :\n",
    "\n",
    "Using encapsulation in Python can lead to increased complexity, as it relies on naming conventions rather than explicit access modifiers,\n",
    "potentially making code verbose and less intuitive. It may incur a slight performance overhead due to the use of accessors and mutators. \n",
    "Encapsulation can also limit flexibility, make testing and debugging more challenging, and, if misused, may not fully prevent unauthorized \n",
    "access to class attributes.  '''"
   ]
  },
  {
   "cell_type": "markdown",
   "id": "f4424595-edcf-4c51-aa49-c93b0dade35a",
   "metadata": {},
   "source": [
    "### 17. Create a Python class for a library system that encapsulates book information, including titles, authors, and availability status."
   ]
  },
  {
   "cell_type": "code",
   "execution_count": 237,
   "id": "759bd31b-6444-4741-b6ad-5f46c844b0cf",
   "metadata": {},
   "outputs": [
    {
     "name": "stdout",
     "output_type": "stream",
     "text": [
      "The book 'Mahabharata ' by  C. Rajagopalachari  has been borrowed.\n",
      "The book 'Mahabharata ' by  C. Rajagopalachari  has been returned.\n"
     ]
    }
   ],
   "source": [
    "class Book:\n",
    "    def __init__(self, title, author):\n",
    "        self.title = title\n",
    "        self.author = author\n",
    "        self.available = True\n",
    "\n",
    "    def borrow(self):\n",
    "        if self.available:\n",
    "            print(f\"The book '{self.title}' by {self.author} has been borrowed.\")\n",
    "            self.available = False\n",
    "        else:\n",
    "            print(f\"The book '{self.title}' by {self.author} is currently not available.\")\n",
    "\n",
    "    def return_book(self):\n",
    "        if not self.available:\n",
    "            print(f\"The book '{self.title}' by {self.author} has been returned.\")\n",
    "            self.available = True\n",
    "        else:\n",
    "            print(f\"The book '{self.title}' by {self.author} is already available.\")\n",
    "\n",
    "book1 = Book(\"Mahabharata \" ,\" C. Rajagopalachari \")\n",
    "book1.borrow()\n",
    "book1.return_book()"
   ]
  },
  {
   "cell_type": "markdown",
   "id": "0d3eceb8-3305-4059-b4c3-36ba849c1048",
   "metadata": {},
   "source": [
    "### 18. Explain how encapsulation enhances code reusability and modularity in Python programs."
   ]
  },
  {
   "cell_type": "code",
   "execution_count": 238,
   "id": "fc6e09b9-7515-4d01-87f2-defca60e1fd0",
   "metadata": {},
   "outputs": [
    {
     "data": {
      "text/plain": [
       "\"This concept enhances code reusability and modularity in several ways:\\n\\n1.Data Hiding: By doing so, you can prevent direct access to the object's attributes from outside the class, which reduces the chances of unintended \\n               modifications and enhances code reliability.\\n\\nModularity: Each class encapsulates its data and functionality, making it easier to understand and maintain. Modules can then interact with each other\\n            through well-defined interfaces,promoting code reuse and reducing dependencies.\\n\\nAbstraction: Encapsulation enables the use of abstraction, allowing users to interact with objects at a higher level without needing to understand\\n             the internal implementation details. This abstraction simplifies code usage and promotes a clean separation between\\n             interface and implementation.\\n\\nCode Reusability: Encapsulation facilitates code reusability by encapsulating common functionalities into reusable classes. Once encapsulated,\\n                 these classes can be reused across different parts of the program or even in different projects,\\n                 reducing redundant code and promoting consistency.\\n\\nEncapsulation of Invariants: By encapsulating data and methods together, encapsulation allows you to enforce invariants (conditions that must \\n                        always be true) within the class. This helps maintain the integrity of the object's state and prevents inconsistent or \\n                        invalid data from being manipulated.\\n\\n   Overall, encapsulation in Python promotes better code organization, improves maintainability, enhances code reusability, and fosters modular design,\\nmaking programs more robust and easier to develop over time.\""
      ]
     },
     "execution_count": 238,
     "metadata": {},
     "output_type": "execute_result"
    }
   ],
   "source": [
    "'''This concept enhances code reusability and modularity in several ways:\n",
    "\n",
    "1.Data Hiding: By doing so, you can prevent direct access to the object's attributes from outside the class, which reduces the chances of unintended \n",
    "               modifications and enhances code reliability.\n",
    "\n",
    "Modularity: Each class encapsulates its data and functionality, making it easier to understand and maintain. Modules can then interact with each other\n",
    "            through well-defined interfaces,promoting code reuse and reducing dependencies.\n",
    "\n",
    "Abstraction: Encapsulation enables the use of abstraction, allowing users to interact with objects at a higher level without needing to understand\n",
    "             the internal implementation details. This abstraction simplifies code usage and promotes a clean separation between\n",
    "             interface and implementation.\n",
    "\n",
    "Code Reusability: Encapsulation facilitates code reusability by encapsulating common functionalities into reusable classes. Once encapsulated,\n",
    "                 these classes can be reused across different parts of the program or even in different projects,\n",
    "                 reducing redundant code and promoting consistency.\n",
    "\n",
    "Encapsulation of Invariants: By encapsulating data and methods together, encapsulation allows you to enforce invariants (conditions that must \n",
    "                        always be true) within the class. This helps maintain the integrity of the object's state and prevents inconsistent or \n",
    "                        invalid data from being manipulated.\n",
    "\n",
    "   Overall, encapsulation in Python promotes better code organization, improves maintainability, enhances code reusability, and fosters modular design,\n",
    "making programs more robust and easier to develop over time.'''\n"
   ]
  },
  {
   "cell_type": "markdown",
   "id": "d1176dcf-b676-4c78-bc2b-74daa79b5f19",
   "metadata": {},
   "source": [
    "### 19. Describe the concept of information hiding in encapsulation. Why is it essential in software development?"
   ]
  },
  {
   "cell_type": "code",
   "execution_count": 239,
   "id": "3cb26d26-9794-4dc5-993c-23e75a255ae1",
   "metadata": {},
   "outputs": [
    {
     "data": {
      "text/plain": [
       "'Information hiding,is concept in encapsulation, involves concealing the internal details of how a class or module is implemented and exposing \\n   only the necessary information or interfaces that other parts of the program need to interact with it.\\n   This means that the internal data and methods are kept private to the class, while only a well-defined set of methods or properties\\n   are made public for external use.\\n   \\n   \\n## It is essential in software development for several reasons:\\n\\n1.Abstraction: Information hiding allows developers to abstract away the complexities of implementation,\\nproviding a simplified view of how to use a particular component. \\n\\n2.Modularity: By hiding implementation details, information hiding promotes modularity. It allows developers to break down a system into smaller,\\n (classes or modules) that can be developed, tested, and maintained independently. This modularity enhances code organization and reusability.\\n\\n3.Security: Information hiding enhances security by preventing direct access to sensitive data or critical operations. \\n\\n4.Flexibility and Maintainability: Information hiding makes code more flexible and easier to maintain. It allows developers to change \\nthe internal implementation of a class without affecting other parts of the program that rely on its public interface.\\nThis separation of concerns simplifies maintenance and enables easier evolution of the software over time.\\n\\n5.Encapsulation of Invariants: Information hiding facilitates the encapsulation of invariants within a class.\\nBy controlling access to the internal state, it ensures that the object remains in a consistent and valid state throughout its lifetime.\\n\\nOverall, information hiding is essential in software development because it promotes abstraction, modularity, security, flexibility,\\nmaintainability, and encapsulation of invariants, leading to more robust, secure, and maintainable software systems.  '"
      ]
     },
     "execution_count": 239,
     "metadata": {},
     "output_type": "execute_result"
    }
   ],
   "source": [
    "'''Information hiding,is concept in encapsulation, involves concealing the internal details of how a class or module is implemented and exposing \n",
    "   only the necessary information or interfaces that other parts of the program need to interact with it.\n",
    "   This means that the internal data and methods are kept private to the class, while only a well-defined set of methods or properties\n",
    "   are made public for external use.\n",
    "   \n",
    "   \n",
    "## It is essential in software development for several reasons:\n",
    "\n",
    "1.Abstraction: Information hiding allows developers to abstract away the complexities of implementation,\n",
    "providing a simplified view of how to use a particular component. \n",
    "\n",
    "2.Modularity: By hiding implementation details, information hiding promotes modularity. It allows developers to break down a system into smaller,\n",
    " (classes or modules) that can be developed, tested, and maintained independently. This modularity enhances code organization and reusability.\n",
    "\n",
    "3.Security: Information hiding enhances security by preventing direct access to sensitive data or critical operations. \n",
    "\n",
    "4.Flexibility and Maintainability: Information hiding makes code more flexible and easier to maintain. It allows developers to change \n",
    "the internal implementation of a class without affecting other parts of the program that rely on its public interface.\n",
    "This separation of concerns simplifies maintenance and enables easier evolution of the software over time.\n",
    "\n",
    "5.Encapsulation of Invariants: Information hiding facilitates the encapsulation of invariants within a class.\n",
    "By controlling access to the internal state, it ensures that the object remains in a consistent and valid state throughout its lifetime.\n",
    "\n",
    "Overall, information hiding is essential in software development because it promotes abstraction, modularity, security, flexibility,\n",
    "maintainability, and encapsulation of invariants, leading to more robust, secure, and maintainable software systems.  '''\n",
    "  "
   ]
  },
  {
   "cell_type": "markdown",
   "id": "a837435c-eb1e-49ba-9e0b-57bae584a9bf",
   "metadata": {},
   "source": [
    "### 20. Create a Python class called `Customer` with private attributes for customer details like name, address, and contact information. Implement encapsulation to ensure data integrity and security."
   ]
  },
  {
   "cell_type": "code",
   "execution_count": 240,
   "id": "44f332f5-f6c3-4d3a-9ab4-acb7a5165cb4",
   "metadata": {},
   "outputs": [
    {
     "name": "stdout",
     "output_type": "stream",
     "text": [
      "Name: akanksha\n",
      "Address: chandrapur India\n",
      "Contact Info: whatsapp\n",
      "\n",
      "Updated Information:\n",
      "Name: gudiya\n"
     ]
    }
   ],
   "source": [
    "class Customer:\n",
    "    def __init__(self, name, address, contact_info):\n",
    "        self.__name = name\n",
    "        self.__address = address\n",
    "        self.__contact_info = contact_info\n",
    "    \n",
    "    def get_name(self):\n",
    "        return self.__name\n",
    "\n",
    "    def set_name(self, name):\n",
    "        self.__name = name\n",
    "\n",
    "    def get_address(self):\n",
    "        return self.__address\n",
    "\n",
    "    def set_address(self, address):\n",
    "        self.__address = address\n",
    "\n",
    "    def get_contact_info(self):\n",
    "        return self.__contact_info\n",
    "\n",
    "    def set_contact_info(self, contact_info):\n",
    "        self.__contact_info = contact_info\n",
    "\n",
    "if __name__ == \"__main__\":\n",
    "    customer1 = Customer(\"akanksha\", \"chandrapur India\", \"whatsapp\")\n",
    "    print(\"Name:\", customer1.get_name())\n",
    "    print(\"Address:\", customer1.get_address())\n",
    "    print(\"Contact Info:\", customer1.get_contact_info())\n",
    "    customer1.set_name(\"gudiya\")\n",
    "    \n",
    "    # Display updated information\n",
    "    print(\"\\nUpdated Information:\")\n",
    "    print(\"Name:\", customer1.get_name())"
   ]
  },
  {
   "cell_type": "markdown",
   "id": "7d4c4224-cfa5-4bcf-ba6d-9ab1644c0f71",
   "metadata": {},
   "source": [
    "# Polymorphism: "
   ]
  },
  {
   "cell_type": "markdown",
   "id": "8a022521-139a-4fdf-8e8a-a82461491368",
   "metadata": {},
   "source": [
    "## 1. What is polymorphism in Python? Explain how it is related to object-oriented programming."
   ]
  },
  {
   "cell_type": "code",
   "execution_count": 241,
   "id": "1233291f-05fb-443a-91f4-15e848c2219d",
   "metadata": {},
   "outputs": [
    {
     "data": {
      "text/plain": [
       "\" # polymorphism : poly means many & morphism means  different kind of variety ,\\nIn polymorphism, object is same but object act different as per different different situations is called as polymorphism.\\n\\n# how polymorphism related to oops:\\nIn OOP, polymorphism is closely related to the concept of inheritance and method overriding.\\nWhen a subclass inherits from a superclass, it can override methods of the superclass with its own implementation.\\nThis means that different subclasses can provide their own specific implementation of a method defined in a superclass. \\nWhen a method is called on an object, the interpreter looks for the method in the object's class. If it's not found there,\\nit looks in the superclass, and so on up the class hierarchy until the method is found.\\n\\nPolymorphism allows for more flexibility and extensibility in code design, as it enables the same code to work with different types of objects \\nwithout needing to know their specific types at compile time. This makes code more reusable and easier to maintain. \""
      ]
     },
     "execution_count": 241,
     "metadata": {},
     "output_type": "execute_result"
    }
   ],
   "source": [
    " ''' # polymorphism : poly means many & morphism means  different kind of variety ,\n",
    " In polymorphism, object is same but object act different as per different different situations is called as polymorphism.\n",
    " \n",
    " # how polymorphism related to oops:\n",
    " In OOP, polymorphism is closely related to the concept of inheritance and method overriding.\n",
    " When a subclass inherits from a superclass, it can override methods of the superclass with its own implementation.\n",
    " This means that different subclasses can provide their own specific implementation of a method defined in a superclass. \n",
    " When a method is called on an object, the interpreter looks for the method in the object's class. If it's not found there,\n",
    " it looks in the superclass, and so on up the class hierarchy until the method is found.\n",
    "\n",
    "Polymorphism allows for more flexibility and extensibility in code design, as it enables the same code to work with different types of objects \n",
    "without needing to know their specific types at compile time. This makes code more reusable and easier to maintain. '''"
   ]
  },
  {
   "cell_type": "markdown",
   "id": "b17e4abd-aa59-41b0-9dcc-2066b80cd950",
   "metadata": {},
   "source": [
    "### 2. Describe the difference between compile-time polymorphism and runtime polymorphism in Python."
   ]
  },
  {
   "cell_type": "code",
   "execution_count": 242,
   "id": "75bdb60e-4f6e-47c5-8acd-810cb8ae0cbe",
   "metadata": {},
   "outputs": [
    {
     "data": {
      "text/plain": [
       "' # Compile-time Polymorphism:\\n1.In compile-time polymorphism, method resolution and binding occur during the compilation phase of the program.\\n2.This form of polymorphism is achieved through method overloading and operator overloading.\\n3.Method overloading refers to defining multiple methods with the same name but different parameter lists within the same class.\\n4.Compile-time polymorphism is typically resolved based on the signature of the method or operator being invoked.\\n\\n  # Runtime Polymorphism:\\n1.In runtime polymorphism, method resolution and binding occur at runtime, dynamically.\\n2.This form of polymorphism is achieved through method overriding.\\n3.Method overriding allows a subclass to provide a specific implementation of a method that is already defined in its superclass.\\n4.When a method is called on an object, the actual implementation of the method that gets executed is determined by the type of the object at runtime.\\n5.This dynamic dispatch is a key feature of runtime polymorphism, allowing different subclasses to respond to the same method call in different ways.\\n'"
      ]
     },
     "execution_count": 242,
     "metadata": {},
     "output_type": "execute_result"
    }
   ],
   "source": [
    "''' # Compile-time Polymorphism:\n",
    "1.In compile-time polymorphism, method resolution and binding occur during the compilation phase of the program.\n",
    "2.This form of polymorphism is achieved through method overloading and operator overloading.\n",
    "3.Method overloading refers to defining multiple methods with the same name but different parameter lists within the same class.\n",
    "4.Compile-time polymorphism is typically resolved based on the signature of the method or operator being invoked.\n",
    "\n",
    "  # Runtime Polymorphism:\n",
    "1.In runtime polymorphism, method resolution and binding occur at runtime, dynamically.\n",
    "2.This form of polymorphism is achieved through method overriding.\n",
    "3.Method overriding allows a subclass to provide a specific implementation of a method that is already defined in its superclass.\n",
    "4.When a method is called on an object, the actual implementation of the method that gets executed is determined by the type of the object at runtime.\n",
    "5.This dynamic dispatch is a key feature of runtime polymorphism, allowing different subclasses to respond to the same method call in different ways.\n",
    "'''"
   ]
  },
  {
   "cell_type": "markdown",
   "id": "8fdbb699-6eaf-4bbe-9c8b-746c0f9a0836",
   "metadata": {},
   "source": [
    "### 3. Create a Python class hierarchy for shapes (e.g., circle, square, triangle) and demonstrate polymorphism through a common method, such as `calculate_area()`."
   ]
  },
  {
   "cell_type": "code",
   "execution_count": 243,
   "id": "304bd4f4-19d9-44b1-8904-136b68145de1",
   "metadata": {},
   "outputs": [
    {
     "name": "stdout",
     "output_type": "stream",
     "text": [
      "Area of Circle: 16\n",
      "Area of Square: 25\n",
      "Area of Triangle: 24.0\n"
     ]
    }
   ],
   "source": [
    "class Shape:\n",
    "    def calculate_area(self):\n",
    "        pass\n",
    "\n",
    "class Circle(Shape):\n",
    "    def __init__(self, radius):\n",
    "        self.radius = radius\n",
    "    \n",
    "    def calculate_area(self):\n",
    "        return self.radius ** 2\n",
    "\n",
    "class Square(Shape):\n",
    "    def __init__(self, side_length):\n",
    "        self.side_length = side_length\n",
    "    \n",
    "    def calculate_area(self):\n",
    "        return self.side_length ** 2\n",
    "\n",
    "class Triangle(Shape):\n",
    "    def __init__(self, base, height):\n",
    "        self.base = base\n",
    "        self.height = height\n",
    "    \n",
    "    def calculate_area(self):\n",
    "        return 0.5 * self.base * self.height\n",
    "\n",
    "circle1 = Circle(4)\n",
    "square1 = Square(5)\n",
    "triangle1 = Triangle(8, 6)\n",
    "\n",
    "print(\"Area of Circle:\", circle1.calculate_area())\n",
    "print(\"Area of Square:\", square1.calculate_area())\n",
    "print(\"Area of Triangle:\", triangle1.calculate_area())"
   ]
  },
  {
   "cell_type": "markdown",
   "id": "a2288a3e-b7b4-483d-9ff8-0db7a34bcda6",
   "metadata": {},
   "source": [
    "### 4. Explain the concept of method overriding in polymorphism. Provide an example."
   ]
  },
  {
   "cell_type": "code",
   "execution_count": 244,
   "id": "60cad8c3-c483-4d0a-bada-ad7d623d2092",
   "metadata": {},
   "outputs": [
    {
     "name": "stdout",
     "output_type": "stream",
     "text": [
      "this give details about data science student\n",
      "this give details about bigdata student\n"
     ]
    }
   ],
   "source": [
    "'''\n",
    "# method overiding : object is same but deffination of function change by situation called method overriding.\n",
    "\n",
    "Method overriding is a concept in object-oriented programming (OOP) where a subclass provides a specific implementation \n",
    "of a method that is already defined in its superclass.\n",
    "This allows the subclass to customize or extend the behavior of the superclass method without changing its signature.\n",
    "When an overridden method is called on an object of the subclass, the subclass's implementation of the method is executed \n",
    "instead of the superclass's implementation.'''\n",
    "\n",
    "class pwskills:\n",
    "    def student(self):\n",
    "        pass\n",
    "    \n",
    "class datascience(pwskills):  # parent cls data available in child cls automatically.\n",
    "    def student(self):\n",
    "        print(\"this give details about data science student\")\n",
    "        \n",
    "class bigdata(pwskills):\n",
    "    def student(self):\n",
    "        print(\"this give details about bigdata student\") \n",
    "        \n",
    "yash = datascience()\n",
    "akanksha = bigdata()\n",
    "yash.student()  \n",
    "akanksha.student()    \n",
    "\n",
    "# polymorphysum by method overriding\n",
    "# same function student , act different method overriding"
   ]
  },
  {
   "cell_type": "markdown",
   "id": "e8920dae-13ea-4046-bc04-86ce8657ea10",
   "metadata": {},
   "source": [
    "### 5. How is polymorphism different from method overloading in Python? Provide examples for both."
   ]
  },
  {
   "cell_type": "code",
   "execution_count": 245,
   "id": "6787ccd7-ede5-4a4a-96c0-5ae1d0ac0d1a",
   "metadata": {},
   "outputs": [
    {
     "data": {
      "text/plain": [
       "7"
      ]
     },
     "execution_count": 245,
     "metadata": {},
     "output_type": "execute_result"
    }
   ],
   "source": [
    "'''both polymorphism and method overloading provide ways to enhance flexibility and abstraction in code,they operate at different levels \n",
    "and are implemented differently in Python. \n",
    "\n",
    "Polymorphism deals with the behavior of objects based on their types, while method overloading deals with the behavior of methods based \n",
    "on the parameters they receive.'''\n",
    "## example of polymorphism:\n",
    "def test(a,b):\n",
    "    return a+b\n",
    "test(3,4)"
   ]
  },
  {
   "cell_type": "code",
   "execution_count": 246,
   "id": "8bf0478a-2705-4c1a-a130-f8f1b0cb4ce8",
   "metadata": {},
   "outputs": [
    {
     "data": {
      "text/plain": [
       "'akibhagat'"
      ]
     },
     "execution_count": 246,
     "metadata": {},
     "output_type": "execute_result"
    }
   ],
   "source": [
    "test(\"aki\", \"bhagat\") "
   ]
  },
  {
   "cell_type": "code",
   "execution_count": 247,
   "id": "fab49654-100f-43c3-b86d-cb0e982296bf",
   "metadata": {},
   "outputs": [
    {
     "name": "stdout",
     "output_type": "stream",
     "text": [
      "this give details about python student\n",
      "this give details about java student\n"
     ]
    }
   ],
   "source": [
    "# example of polymorphism by method overloading:\n",
    "class pwskills:\n",
    "    def student(self):\n",
    "        pass\n",
    "    \n",
    "class python(pwskills):  # parent cls data available in child cls automatically.\n",
    "    def student(self):\n",
    "        print(\"this give details about python student\")\n",
    "        \n",
    "class java(pwskills):\n",
    "    def student(self):\n",
    "        print(\"this give details about java student\") \n",
    "        \n",
    "yash = python()\n",
    "akanksha = java()\n",
    "yash.student()  \n",
    "akanksha.student()    "
   ]
  },
  {
   "cell_type": "code",
   "execution_count": null,
   "id": "ce7a9bc4-03b8-472a-92a0-48a2a0ece323",
   "metadata": {},
   "outputs": [],
   "source": []
  },
  {
   "cell_type": "markdown",
   "id": "36271315-5a45-4c67-ac2c-b5ed65fb8538",
   "metadata": {},
   "source": [
    " ### 6. Create a Python class called `Animal` with a method `speak()`. Then, create child classes like `Dog`, `Cat`, and `Bird`, each with their own `speak()` method. Demonstrate polymorphism by calling the `speak()` method on objects of different subclasses."
   ]
  },
  {
   "cell_type": "code",
   "execution_count": 248,
   "id": "42448d55-aaa7-43cd-a359-f682df7d632d",
   "metadata": {},
   "outputs": [
    {
     "name": "stdout",
     "output_type": "stream",
     "text": [
      "bhoouuu!\n",
      "Meow!\n",
      "chivvchiv!\n"
     ]
    }
   ],
   "source": [
    "class Animal:\n",
    "    def speak(self):\n",
    "        pass\n",
    "\n",
    "class Dog(Animal):\n",
    "    def speak(self):\n",
    "        return \"bhoouuu!\"\n",
    "\n",
    "class Cat(Animal):\n",
    "    def speak(self):\n",
    "        return \"Meow!\"\n",
    "\n",
    "class Bird(Animal):\n",
    "    def speak(self):\n",
    "        return \"chivvchiv!\"\n",
    "\n",
    "animals = [Dog(), Cat(), Bird()]\n",
    "for animal in animals:\n",
    "    print(animal.speak())"
   ]
  },
  {
   "cell_type": "markdown",
   "id": "480a3b84-c626-428a-9a45-ccc2b3dccfd3",
   "metadata": {},
   "source": [
    "### 7. Discuss the use of abstract methods and classes in achieving polymorphism in Python. Provide an example using the `abc` module."
   ]
  },
  {
   "cell_type": "code",
   "execution_count": 249,
   "id": "82512c80-624f-41ed-91b4-4b20f4956a88",
   "metadata": {},
   "outputs": [
    {
     "name": "stdout",
     "output_type": "stream",
     "text": [
      "bhoouuu\n",
      "Meow!\n",
      "chivchiuuu!\n"
     ]
    }
   ],
   "source": [
    "'''\n",
    "## the use of abstract methods and classes in achieving polymorphism in Python:\n",
    "abstract methods and classes are essential tools for achieving polymorphism in Python by defining common interfaces and enforcing implementation \n",
    "requirements across different subclasses, thereby enabling objects of different types to exhibit similar behavior when interacting with the rest\n",
    "of the codebase. '''\n",
    "\n",
    "from abc import ABC, abstractmethod\n",
    "\n",
    "class Animal(ABC):\n",
    "    @abstractmethod\n",
    "    def speak(self):\n",
    "        pass\n",
    "\n",
    "class Dog(Animal):\n",
    "    def speak(self):\n",
    "        return \"bhoouuu\"\n",
    "\n",
    "class Cat(Animal):\n",
    "    def speak(self):\n",
    "        return \"Meow!\"\n",
    "\n",
    "class Bird(Animal):\n",
    "    def speak(self):\n",
    "        return \"chivchiuuu!\"\n",
    "\n",
    "animals = [Dog(), Cat(), Bird()]\n",
    "for animal in animals:\n",
    "    print(animal.speak())"
   ]
  },
  {
   "cell_type": "markdown",
   "id": "b763ffd4-4031-46f5-a4b9-e18aba14e93c",
   "metadata": {},
   "source": [
    "### 8. Create a Python class hierarchy for a vehicle system (e.g., car, bicycle, boat) and implement a polymorphic `start()` method that prints a message specific to each vehicle type."
   ]
  },
  {
   "cell_type": "code",
   "execution_count": 250,
   "id": "99686314-703a-428a-9a7c-330c8ce3cef4",
   "metadata": {},
   "outputs": [
    {
     "name": "stdout",
     "output_type": "stream",
     "text": [
      "Car starts the engine and accelerates!\n",
      "Bicycle starts pedaling and gains start running!\n",
      "Boat starts the motor and sets sail!\n"
     ]
    }
   ],
   "source": [
    "class Vehicle:\n",
    "    def start(self):\n",
    "        pass\n",
    "\n",
    "class Car(Vehicle):\n",
    "    def start(self):\n",
    "        return \"Car starts the engine and accelerates!\"\n",
    "\n",
    "class Bicycle(Vehicle):\n",
    "    def start(self):\n",
    "        return \"Bicycle starts pedaling and gains start running!\"\n",
    "\n",
    "class Boat(Vehicle):\n",
    "    def start(self):\n",
    "        return \"Boat starts the motor and sets sail!\"\n",
    "\n",
    "car1 = Car()\n",
    "bicycle1 = Bicycle()\n",
    "boat1 = Boat()\n",
    "print(Car.start(1))      \n",
    "print(Bicycle.start(2)) \n",
    "print(Boat.start(3))     "
   ]
  },
  {
   "cell_type": "markdown",
   "id": "7ca03c6e-6ef4-4c1a-8fb4-7878a8ffaf33",
   "metadata": {},
   "source": [
    "### 9. Explain the significance of the `isinstance()` and `issubclass()` functions in Python polymorphism."
   ]
  },
  {
   "cell_type": "code",
   "execution_count": 251,
   "id": "0a1ca9ee-e694-4a3a-8cc2-7d1a004e7d4d",
   "metadata": {},
   "outputs": [
    {
     "data": {
      "text/plain": [
       "'\\n# the significance of the `isinstance()` and `issubclass()` functions in Python polymorphism.\\n\\n# isinstance() :\\nOne of the core principles of OOP is polymorphism, which allows objects of different classes to be treated as objects of a common \\nsuperclass.\\nisinstance() is essential for polymorphism because it allows you to determine whether an object belongs to a specific class or any subclass\\nof that class. This enables you to write code that can handle objects of different types in a uniform manner based on their shared \\nsuperclass.\\n\\n# issubclass() :\\nClass Hierarchy Verification: Inheritance is fundamental in OOP for code reuse and creating class hierarchies.\\nissubclass() helps in verifying class relationships by checking whether a given class is a subclass of another class. \\nThis is crucial for maintaining the integrity of class hierarchies and ensuring that subclasses properly inherit behavior \\nand attributes from their superclasses. '"
      ]
     },
     "execution_count": 251,
     "metadata": {},
     "output_type": "execute_result"
    }
   ],
   "source": [
    "'''\n",
    "# the significance of the `isinstance()` and `issubclass()` functions in Python polymorphism.\n",
    "\n",
    "# isinstance() :\n",
    "One of the core principles of OOP is polymorphism, which allows objects of different classes to be treated as objects of a common \n",
    "superclass.\n",
    "isinstance() is essential for polymorphism because it allows you to determine whether an object belongs to a specific class or any subclass\n",
    "of that class. This enables you to write code that can handle objects of different types in a uniform manner based on their shared \n",
    "superclass.\n",
    "\n",
    "# issubclass() :\n",
    "Class Hierarchy Verification: Inheritance is fundamental in OOP for code reuse and creating class hierarchies.\n",
    "issubclass() helps in verifying class relationships by checking whether a given class is a subclass of another class. \n",
    "This is crucial for maintaining the integrity of class hierarchies and ensuring that subclasses properly inherit behavior \n",
    "and attributes from their superclasses. '''\n"
   ]
  },
  {
   "cell_type": "markdown",
   "id": "d0280262-a342-421f-8255-ef9acfdbcf96",
   "metadata": {},
   "source": [
    "### 10. What is the role of the `@abstractmethod` decorator in achieving polymorphism in Python? Provide an example."
   ]
  },
  {
   "cell_type": "code",
   "execution_count": 252,
   "id": "2e0388a0-aa89-41f4-9c42-28d0934cfda0",
   "metadata": {},
   "outputs": [
    {
     "name": "stdout",
     "output_type": "stream",
     "text": [
      "bhoouuu\n",
      "Meow meow\n"
     ]
    }
   ],
   "source": [
    "'''The @abstractmethod decorator in Python, which is part of the abc module (Abstract Base Classes), plays a pivotal role in achieving\n",
    "polymorphism by enforcing a consistent interface across different classes. \n",
    "\n",
    "using @abstractmethod,  essentially declaring that method as a placeholder in the abstract class, indicating that any concrete subclass\n",
    "must provide its own implementation of that method. This ensures that all subclasses adhere to a common interface, and polymorphic behavior.'''\n",
    "\n",
    "from abc import ABC, abstractmethod\n",
    "class Animal(ABC):\n",
    "    @abstractmethod\n",
    "    def sound(self):\n",
    "        pass\n",
    "class Dog(Animal):\n",
    "    def sound(self):\n",
    "        return \"bhoouuu\"\n",
    "class Cat(Animal):\n",
    "    def sound(self):\n",
    "        return \"Meow meow\"\n",
    "\n",
    "def make_sound(animal):\n",
    "    return animal.sound()\n",
    "\n",
    "dog = Dog()\n",
    "cat = Cat()\n",
    "print(make_sound(dog))  \n",
    "print(make_sound(cat))  "
   ]
  },
  {
   "cell_type": "markdown",
   "id": "d1b0e0b5-9c5a-4cfa-a58e-ea4c4e7a4755",
   "metadata": {},
   "source": [
    "### 11. Create a Python class called `Shape` with a polymorphic method `area()` that calculates the area of different shapes (e.g., circle, rectangle, triangle)."
   ]
  },
  {
   "cell_type": "code",
   "execution_count": 253,
   "id": "9ead0424-526d-49c4-a832-416a5071ab46",
   "metadata": {},
   "outputs": [
    {
     "name": "stdout",
     "output_type": "stream",
     "text": [
      "Area: 28.274333882308138\n",
      "Area: 20\n",
      "Area: 9.0\n"
     ]
    }
   ],
   "source": [
    "import math\n",
    "class Shape:\n",
    "    def area(self):\n",
    "        pass\n",
    "\n",
    "class Circle(Shape):\n",
    "    def __init__(self, radius):\n",
    "        self.radius = radius\n",
    "    def area(self):\n",
    "        return math.pi * self.radius ** 2\n",
    "\n",
    "class Rectangle(Shape):\n",
    "    def __init__(self, width, height):\n",
    "        self.width = width\n",
    "        self.height = height\n",
    "    def area(self):\n",
    "        return self.width * self.height\n",
    "\n",
    "class Triangle(Shape):\n",
    "    def __init__(self, base, height):\n",
    "        self.base = base\n",
    "        self.height = height\n",
    "    def area(self):\n",
    "        return 0.5 * self.base * self.height\n",
    "shapes = [\n",
    "    Circle(3),\n",
    "    Rectangle(4, 5),\n",
    "    Triangle(3, 6)\n",
    "]\n",
    "for shape in shapes:\n",
    "    print(\"Area:\", shape.area())"
   ]
  },
  {
   "cell_type": "markdown",
   "id": "bb6b81e3-fb27-4c4d-a50b-a8030ff3e30f",
   "metadata": {},
   "source": [
    "### 12. Discuss the benefits of polymorphism in terms of code reusability and flexibility in Python programs."
   ]
  },
  {
   "cell_type": "code",
   "execution_count": 254,
   "id": "d23178a8-f0df-4fcf-af29-cb66c96067ae",
   "metadata": {},
   "outputs": [
    {
     "data": {
      "text/plain": [
       "'It promotes code reuse and modularity, as classes can share common behaviors through inheritance. It enhances flexibility, allowing new subclasses \\nto be added without modifying existing code. Polymorphism also enables the creation of generic algorithms that can operate on objects of different\\ntypes.\\n\\n## Reusability : reduces redundant code and promotes modular design, leading to more maintainable and scalable codebases.\\n\\n## Flexibility : Polymorphism allows you to extend and modify the behavior of objects without altering their existing structure. \\nBy defining methods in base classes and overriding them in derived classes, you can tailor the behavior of objects to suit specific requirements. \\nThis flexibility enables you to adapt your code to changing needs and scenarios more easily. For instance, you can create new subclasses that inherit\\nfrom a common superclass and implement specialized behavior for each subclass while still using the same interface.'"
      ]
     },
     "execution_count": 254,
     "metadata": {},
     "output_type": "execute_result"
    }
   ],
   "source": [
    "# benefits of polymorphism in terms of code reusability and flexibility in Python programs.\n",
    "\n",
    "'''It promotes code reuse and modularity, as classes can share common behaviors through inheritance. It enhances flexibility, allowing new subclasses \n",
    "to be added without modifying existing code. Polymorphism also enables the creation of generic algorithms that can operate on objects of different\n",
    "types.\n",
    "\n",
    "## Reusability : reduces redundant code and promotes modular design, leading to more maintainable and scalable codebases.\n",
    "\n",
    "## Flexibility : Polymorphism allows you to extend and modify the behavior of objects without altering their existing structure. \n",
    "By defining methods in base classes and overriding them in derived classes, you can tailor the behavior of objects to suit specific requirements. \n",
    "This flexibility enables you to adapt your code to changing needs and scenarios more easily. For instance, you can create new subclasses that inherit\n",
    "from a common superclass and implement specialized behavior for each subclass while still using the same interface.'''\n"
   ]
  },
  {
   "cell_type": "markdown",
   "id": "3b71fabf-ac70-48dd-9208-ea9f8fe30d64",
   "metadata": {},
   "source": [
    "### 13. Explain the use of the `super()` function in Python polymorphism. How does it help call methods of parent classes?"
   ]
  },
  {
   "cell_type": "code",
   "execution_count": 255,
   "id": "533e10bc-7fea-4406-9aee-f78293df7b6e",
   "metadata": {},
   "outputs": [
    {
     "data": {
      "text/plain": [
       "'\\n# used of super function in polymorphism:\\nIn Python, the super() function is used to refer to the parent class or superclass. It allows you to call methods defined in the superclass\\nfrom the subclass, enabling you to extend and customize the functionality inherited from the parent class.\\n\\nA method from a parent class can be called in Python using the super() function. It’s typical practice in object-oriented programming\\nto call the methods of the superclass and enable method overriding and inheritance. Even if the current class has replaced those methods \\nwith its own implementation, calling super() allows you to access and use the parent class’s methods. By doing this, you may enhance and modify\\nthe parent class’s behavior while still gaining from it.\\n\\nBenefits of Super Function:\\nNeed not remember or specify the parent class name to access its methods. This function can be used both in single and multiple inheritances.\\nThis implements modularity (isolating changes) and code reusability as there is no need to rewrite the entire function.\\nThe super function in Python is called dynamically because Python is a dynamic language, unlike other languages.\\n\\n\\n1.Accessing Parent Class Methods:\\n    In Python, when you define a method in a subclass with the same name as a method in the parent class,\\nthe subclass method overrides the parent class method. However, sometimes you want to extend or modify the behavior of the parent class\\nmethod without completely replacing it. In such cases, you can use super() to call the parent class method from within the subclass method.\\n\\n2.Ensuring Correct Method Resolution Order (MRO):\\n    In cases of multiple inheritance, where a class inherits from multiple parent classes, super() ensures that methods are\\n    called in the order specified by the Method Resolution Order (MRO). By following the MRO, super() helps avoid ambiguity \\n    and ensures that methods are invoked consistently across the inheritance hierarchy.\\n\\n\\nsuper() helps call methods of parent classes by dynamically resolving the appropriate parent class method based on the method resolution\\norder and allowing subclasses to extend or modify the behavior of their parent classes.'"
      ]
     },
     "execution_count": 255,
     "metadata": {},
     "output_type": "execute_result"
    }
   ],
   "source": [
    "'''\n",
    "# used of super function in polymorphism:\n",
    "In Python, the super() function is used to refer to the parent class or superclass. It allows you to call methods defined in the superclass\n",
    "from the subclass, enabling you to extend and customize the functionality inherited from the parent class.\n",
    "\n",
    "A method from a parent class can be called in Python using the super() function. It’s typical practice in object-oriented programming\n",
    "to call the methods of the superclass and enable method overriding and inheritance. Even if the current class has replaced those methods \n",
    "with its own implementation, calling super() allows you to access and use the parent class’s methods. By doing this, you may enhance and modify\n",
    "the parent class’s behavior while still gaining from it.\n",
    "\n",
    "Benefits of Super Function:\n",
    "Need not remember or specify the parent class name to access its methods. This function can be used both in single and multiple inheritances.\n",
    "This implements modularity (isolating changes) and code reusability as there is no need to rewrite the entire function.\n",
    "The super function in Python is called dynamically because Python is a dynamic language, unlike other languages.\n",
    "\n",
    "\n",
    "1.Accessing Parent Class Methods:\n",
    "    In Python, when you define a method in a subclass with the same name as a method in the parent class,\n",
    "the subclass method overrides the parent class method. However, sometimes you want to extend or modify the behavior of the parent class\n",
    "method without completely replacing it. In such cases, you can use super() to call the parent class method from within the subclass method.\n",
    "\n",
    "2.Ensuring Correct Method Resolution Order (MRO):\n",
    "    In cases of multiple inheritance, where a class inherits from multiple parent classes, super() ensures that methods are\n",
    "    called in the order specified by the Method Resolution Order (MRO). By following the MRO, super() helps avoid ambiguity \n",
    "    and ensures that methods are invoked consistently across the inheritance hierarchy.\n",
    "\n",
    "\n",
    "super() helps call methods of parent classes by dynamically resolving the appropriate parent class method based on the method resolution\n",
    "order and allowing subclasses to extend or modify the behavior of their parent classes.'''"
   ]
  },
  {
   "cell_type": "code",
   "execution_count": null,
   "id": "222f1b7b-27ba-441d-ad58-4c080c12daf8",
   "metadata": {},
   "outputs": [],
   "source": []
  },
  {
   "cell_type": "markdown",
   "id": "67760c0e-ea90-413f-b334-0d52b4e07d7c",
   "metadata": {},
   "source": [
    "### 14. Create a Python class hierarchy for a banking system with various account types (e.g., savings, checking, credit card) and demonstrate polymorphism by implementing a common `withdraw()` method."
   ]
  },
  {
   "cell_type": "code",
   "execution_count": 256,
   "id": "e2a40fc0-0f56-43d8-a63d-1324aab6fbce",
   "metadata": {},
   "outputs": [
    {
     "name": "stdout",
     "output_type": "stream",
     "text": [
      "Withdrew 200 from savingsaccount account Savingact. New balance: 1800\n",
      "Withdrew 200 from checkingaccount account checkingact. New balance: 50\n",
      "Withdrew 200 from creditcardaccount account creditact. New balance: -700\n"
     ]
    }
   ],
   "source": [
    "class Account:\n",
    "    def __init__(self, account_number, balance=0, credit_limit=0):\n",
    "        self.account_number = account_number\n",
    "        self.balance = balance\n",
    "        self.credit_limit = credit_limit\n",
    "\n",
    "    def withdraw(self, amount):\n",
    "        if self.balance + self.credit_limit >= amount:\n",
    "            self.balance -= amount\n",
    "            print(f\"Withdrew {amount} from {self.__class__.__name__.lower()} account {self.account_number}. New balance: {self.balance}\")\n",
    "        else:\n",
    "            print(\"Transaction declined. Insufficient funds or exceeds credit limit.\")\n",
    "\n",
    "class SavingsAccount(Account):\n",
    "    pass\n",
    "\n",
    "class CheckingAccount(Account):\n",
    "    pass\n",
    "\n",
    "class CreditCardAccount(Account):\n",
    "    def __init__(self, account_number, balance=0, credit_limit=1000):\n",
    "        super().__init__(account_number, balance, credit_limit)\n",
    "\n",
    "savings_account = SavingsAccount(\"Savingact\", balance=2000)\n",
    "checking_account = CheckingAccount(\"checkingact\", balance=250)\n",
    "credit_card_account = CreditCardAccount(\"creditact\", balance=-500, credit_limit=1000)\n",
    "\n",
    "accounts = [savings_account, checking_account, credit_card_account]\n",
    "for account in accounts:\n",
    "    account.withdraw(200)\n"
   ]
  },
  {
   "cell_type": "markdown",
   "id": "5378e96d-c30e-438a-aafc-513dc74b1cfe",
   "metadata": {},
   "source": [
    "### 15. Describe the concept of operator overloading in Python and how it relates to polymorphism. Provide examples using operators like `+` and `*`."
   ]
  },
  {
   "cell_type": "code",
   "execution_count": 257,
   "id": "70a16857-fd24-4cca-8018-c5ce6e242c36",
   "metadata": {},
   "outputs": [
    {
     "name": "stdout",
     "output_type": "stream",
     "text": [
      "Addition result: (4, 6)\n",
      "Multiplication result: (9, 12)\n"
     ]
    }
   ],
   "source": [
    "'''Operator overloading in Python refers to the ability to define custom behavior for built-in operators when they are used with objects\n",
    "of user-defined classes. This means i can redefine  operators like +, -, *, /, etc., do when applied to instances of your own classes.\n",
    "By doing so, you can make your objects support operations in a way that makes sense for your particular application .\n",
    "\n",
    "In Python, operator overloading is achieved by implementing special methods with double underscores, also known as \"dunder\" methods.\n",
    "For example, __add__ method is used to overload the + operator, __sub__ for -, __mul__ for *, and so on.\n",
    "\n",
    "Overall, operator overloading in Python facilitates polymorphism by allowing objects of different classes to respond to operators in customized ways,\n",
    "while still adhering to a common interface. This flexibility and consistency contribute to the versatility and elegance of Python as a\n",
    "programming language.'''\n",
    "\n",
    "class num:\n",
    "    def __init__(self, num1,num2):\n",
    "        self.num1 = num1\n",
    "        self.num2 = num2\n",
    "    \n",
    "    def __add__(self, other):\n",
    "        if isinstance(other,num):\n",
    "            return num(self.num1 + other.num1, self.num2 + other.num2)\n",
    "        else:\n",
    "            raise TypeError(\"Unsupported operand type for +\")\n",
    "\n",
    "    def __mul__(self, other):\n",
    "        return num(self.num1* other, self.num2 * other)\n",
    "\n",
    "    def __str__(self):\n",
    "        return f\"({self.num1}, {self.num2})\"\n",
    "\n",
    "num1 = num(1,2)\n",
    "num2 = num(3,4)\n",
    "result_addition = num1 + num2\n",
    "print(\"Addition result:\", result_addition)  \n",
    "\n",
    "result_multiplication = num2 * 3\n",
    "print(\"Multiplication result:\", result_multiplication)  "
   ]
  },
  {
   "cell_type": "markdown",
   "id": "fc6c540a-4a0f-4961-98f4-b34b27948eb0",
   "metadata": {},
   "source": [
    "### 16. What is dynamic polymorphism, and how is it achieved in Python?"
   ]
  },
  {
   "cell_type": "code",
   "execution_count": 258,
   "id": "4c87cb5f-2196-4202-84b8-550ed7fc2644",
   "metadata": {},
   "outputs": [
    {
     "data": {
      "text/plain": [
       "'\\n# Dynamic polymorphism  : is a feature of object-oriented programming languages where the method or operation to be executed is determined at runtime\\nbased on the actual type of the object.\\nIt allows different objects to respond to the same method or operation in different ways, depending on their individual implementations.\\nThis enables flexibility and extensibility in code, as it allows for more generic and reusable code that can operate on objects of different types\\nwithout needing to know their specific implementations at compile time.\\n\\n# Method Overriding: Python allows subclasses to provide their own implementation of methods that are already defined in their superclass.\\nWhen a method is called on an object of the subclass, Python dynamically determines which implementation of the method to execute based \\non the actual type of the object at runtime.\\n\\n# Duck Typing: Python follows the principle of \"duck typing,\" which means that the type or class of an object is less important than \\nthe methods it defines. Instead of checking the type of an object, Python focuses on whether the object has the necessary methods to \\nperform a given operation. This allows objects of different types to be treated interchangeably as long as they support the same interface.\\n\\ndynamic polymorphism is achieved primarily through method overriding and duck typing.'"
      ]
     },
     "execution_count": 258,
     "metadata": {},
     "output_type": "execute_result"
    }
   ],
   "source": [
    "'''\n",
    "# Dynamic polymorphism  : is a feature of object-oriented programming languages where the method or operation to be executed is determined at runtime\n",
    "based on the actual type of the object.\n",
    "It allows different objects to respond to the same method or operation in different ways, depending on their individual implementations.\n",
    "This enables flexibility and extensibility in code, as it allows for more generic and reusable code that can operate on objects of different types\n",
    "without needing to know their specific implementations at compile time.\n",
    "\n",
    "# Method Overriding: Python allows subclasses to provide their own implementation of methods that are already defined in their superclass.\n",
    "When a method is called on an object of the subclass, Python dynamically determines which implementation of the method to execute based \n",
    "on the actual type of the object at runtime.\n",
    "\n",
    "# Duck Typing: Python follows the principle of \"duck typing,\" which means that the type or class of an object is less important than \n",
    "the methods it defines. Instead of checking the type of an object, Python focuses on whether the object has the necessary methods to \n",
    "perform a given operation. This allows objects of different types to be treated interchangeably as long as they support the same interface.\n",
    "\n",
    "dynamic polymorphism is achieved primarily through method overriding and duck typing.'''\n"
   ]
  },
  {
   "cell_type": "markdown",
   "id": "165768ee-cd03-4da9-9648-b206a0000221",
   "metadata": {},
   "source": [
    "### 17. Create a Python class hierarchy for employees in a company (e.g., manager, developer, designer) and implement polymorphism through a common `calculate_salary()` method."
   ]
  },
  {
   "cell_type": "code",
   "execution_count": 259,
   "id": "77acb07d-45b1-44e9-875d-c5171bd4c801",
   "metadata": {},
   "outputs": [
    {
     "name": "stdout",
     "output_type": "stream",
     "text": [
      "manager salary 50000\n",
      "developer salary 60000\n",
      "designer salary 55000\n"
     ]
    }
   ],
   "source": [
    "class Employee:\n",
    "    def __init__(self, salary):\n",
    "        \n",
    "        self.salary = salary\n",
    "\n",
    "    def calculate_salary(self):\n",
    "        return self.salary\n",
    "\n",
    "class Manager(Employee):\n",
    "    def calculate_salary(self):\n",
    "        return super().calculate_salary() + 10000\n",
    "\n",
    "class Developer(Employee):\n",
    "    def calculate_salary(self):\n",
    "        return super().calculate_salary() + 5000\n",
    "\n",
    "class Designer(Employee):\n",
    "    def calculate_salary(self):\n",
    "        return super().calculate_salary() + 2000\n",
    "\n",
    "manager = Manager(\" 50000\")\n",
    "developer = Developer( \"60000\")\n",
    "designer = Designer(\"55000\")\n",
    "\n",
    "print(\"manager salary\" ,50000)\n",
    "print(\"developer salary\" ,60000)\n",
    "print(\"designer salary\",55000)"
   ]
  },
  {
   "cell_type": "markdown",
   "id": "1f712fbf-f085-4c41-bb9c-e417ab85548c",
   "metadata": {},
   "source": [
    "### 18. Discuss the concept of function pointers and how they can be used to achieve polymorphism in Python."
   ]
  },
  {
   "cell_type": "code",
   "execution_count": 260,
   "id": "ce7fb11b-ddbd-4892-91a8-1aff7988a839",
   "metadata": {},
   "outputs": [
    {
     "data": {
      "text/plain": [
       "\"Python doesn't have explicit function pointers like C or C++, the concept of first-class functions and higher-order functions\\nserves a similar purpose. In Python, functions are first-class citizens, meaning they can be passed around as arguments, \\nreturned from other functions, and assigned to variables.\\n\\nTo achieve polymorphism in Python using function pointers or first-class functions, you can define multiple functions with the same name \\nand call them dynamically based on the context or the type of the arguments passed to them. This approach is often used in Python to \\nimplement polymorphism and dynamic dispatching. \""
      ]
     },
     "execution_count": 260,
     "metadata": {},
     "output_type": "execute_result"
    }
   ],
   "source": [
    "'''Python doesn't have explicit function pointers like C or C++, the concept of first-class functions and higher-order functions\n",
    "serves a similar purpose. In Python, functions are first-class citizens, meaning they can be passed around as arguments, \n",
    "returned from other functions, and assigned to variables.\n",
    "\n",
    "To achieve polymorphism in Python using function pointers or first-class functions, you can define multiple functions with the same name \n",
    "and call them dynamically based on the context or the type of the arguments passed to them. This approach is often used in Python to \n",
    "implement polymorphism and dynamic dispatching. '''"
   ]
  },
  {
   "cell_type": "markdown",
   "id": "6bf2bbda-5a24-4777-b253-e3de46402c59",
   "metadata": {},
   "source": [
    "### 19. Explain the role of interfaces and abstract classes in polymorphism, drawing comparisons between them."
   ]
  },
  {
   "cell_type": "code",
   "execution_count": 261,
   "id": "dd7046d4-253c-4ec5-be1f-4438203f7293",
   "metadata": {},
   "outputs": [
    {
     "data": {
      "text/plain": [
       "'\\n#Role of Interfaces and Abstract Classes in Polymorphism:\\nBoth interfaces and abstract classes promote polymorphism by providing a common interface for interacting with objects of different types.\\nThey allow unrelated classes to be treated uniformly based on shared behavior, enhancing flexibility and code reusability.\\nInterfaces focus on defining what objects can do without specifying how they do it, while abstract classes provide a combination of\\ncommon behavior and a template for subclasses to extend.\\n\\n# comparison between interfaces and abstract classes:\\nwhile both interfaces and abstract classes play important roles in achieving polymorphism, they serve different purposes and have distinct \\ncharacteristics. Interfaces promote flexibility and loose coupling, while abstract classes provide a structured approach for defining common\\nbehavior among related classes. The choice between them depends on the specific requirements and design goals of the application.'"
      ]
     },
     "execution_count": 261,
     "metadata": {},
     "output_type": "execute_result"
    }
   ],
   "source": [
    "'''\n",
    "#Role of Interfaces and Abstract Classes in Polymorphism:\n",
    "Both interfaces and abstract classes promote polymorphism by providing a common interface for interacting with objects of different types.\n",
    "They allow unrelated classes to be treated uniformly based on shared behavior, enhancing flexibility and code reusability.\n",
    "Interfaces focus on defining what objects can do without specifying how they do it, while abstract classes provide a combination of\n",
    "common behavior and a template for subclasses to extend.\n",
    "\n",
    "# comparison between interfaces and abstract classes:\n",
    "while both interfaces and abstract classes play important roles in achieving polymorphism, they serve different purposes and have distinct \n",
    "characteristics. Interfaces promote flexibility and loose coupling, while abstract classes provide a structured approach for defining common\n",
    "behavior among related classes. The choice between them depends on the specific requirements and design goals of the application.'''\n"
   ]
  },
  {
   "cell_type": "markdown",
   "id": "82931247-3536-436f-bcfe-594e5601c510",
   "metadata": {},
   "source": [
    "### 20. Create a Python class for a zoo simulation, demonstrating polymorphism with different animal types (e.g., mammals, birds, reptiles) and their behavior (e.g., eating, sleeping, making sounds)."
   ]
  },
  {
   "cell_type": "code",
   "execution_count": 262,
   "id": "d3e642f8-7699-4458-97b8-7ac6dd8eadbd",
   "metadata": {},
   "outputs": [
    {
     "name": "stdout",
     "output_type": "stream",
     "text": [
      "tiger:\n",
      "Eating: Mammal eating\n",
      "Sleeping: Mammal sleeping\n",
      "Sound: Mammal sound\n",
      "\n",
      "parrot:\n",
      "Eating: Bird eating\n",
      "Sleeping: Bird sleeping\n",
      "Sound: Bird sound\n",
      "\n",
      "Snake:\n",
      "Eating: Reptile eating\n",
      "Sleeping: Reptile sleeping\n",
      "Sound: Reptile sound\n",
      "\n"
     ]
    }
   ],
   "source": [
    "class Animal:\n",
    "    def __init__(self, name):\n",
    "        self.name = name\n",
    "\n",
    "class Mammal(Animal):\n",
    "    def eat(self):\n",
    "        return \"Mammal eating\"\n",
    "    def sleep(self):\n",
    "        return \"Mammal sleeping\"\n",
    "    def make_sound(self):\n",
    "        return \"Mammal sound\"\n",
    "    \n",
    "class Bird(Animal):\n",
    "    def eat(self):\n",
    "        return \"Bird eating\"\n",
    "    def sleep(self):\n",
    "        return \"Bird sleeping\"\n",
    "    def make_sound(self):\n",
    "        return \"Bird sound\"\n",
    "    \n",
    "class Reptile(Animal):\n",
    "    def eat(self):\n",
    "        return \"Reptile eating\"\n",
    "    def sleep(self):\n",
    "        return \"Reptile sleeping\"\n",
    "    def make_sound(self):\n",
    "        return \"Reptile sound\"\n",
    "\n",
    "tiger = Mammal(\"tiger\")\n",
    "parrot = Bird(\"parrot\")\n",
    "snake = Reptile(\"Snake\")\n",
    "\n",
    "for animal in (tiger, parrot, snake):\n",
    "    print(f\"{animal.name}:\")\n",
    "    print(\"Eating:\", animal.eat())\n",
    "    print(\"Sleeping:\", animal.sleep())\n",
    "    print(\"Sound:\", animal.make_sound())\n",
    "    print()    "
   ]
  },
  {
   "cell_type": "markdown",
   "id": "6a3b14aa-df7b-4a58-89b7-7b4d8219f4f5",
   "metadata": {},
   "source": [
    "# Abstraction:"
   ]
  },
  {
   "cell_type": "markdown",
   "id": "38ce5469-f587-4e22-a981-5378cd0016eb",
   "metadata": {},
   "source": [
    "### 1. What is abstraction in Python, and how does it relate to object-oriented programming?"
   ]
  },
  {
   "cell_type": "code",
   "execution_count": 263,
   "id": "931ad925-3f15-4c8b-bf67-5dcdd03f9488",
   "metadata": {},
   "outputs": [
    {
     "data": {
      "text/plain": [
       "' \\n### Abstraction in python & how they relete to oops:\\n\\n# Abstraction : Creation of outline or skeleton of any method called as abstraction abstraction anyone can try & implement it.\\n              there is multiple way to achive abstraction.\\n               OR\\n# Abstraction is an important concept in OOP that allows you to focus on the essential features of an object rather than the details. \\n  It is the process of hiding complexity while showing only necessary details to the user.\\n\\n# Abstraction helps in creating simplified models of complex real-world entities by highlighting only the necessary attributes\\n  and behaviors. \\n For example, Car, abstraction allows you to focus on properties like speed and accelerate,\\n without worrying about internal workings.\\n\\n# Abstraction is often implemented using interfaces and abstract classes. An interface defines a contract that any implementing class\\n must follow, ensuring a certain level of abstraction. Abstract classes can provide some implementation details but still leave room for\\n subclasses to fill in the specifics.\\n\\nImproves Code Maintenance: By separating the interface from the implementation, changes to the implementation do not affect the code \\nthat uses the abstraction.\\n\\nEnhances Reusability: Abstract components can be reused across different parts of the application or in different applications.\\n\\nFacilitates Design Flexibility: It allows developers to define interfaces and defer the implementation details to later stages or \\n                    other components.\\n# abstraction in OOP helps in managing complexity by allowing programmers to work with simplified models of real-world entities,\\n  promoting code reuse, and improving maintainability.'"
      ]
     },
     "execution_count": 263,
     "metadata": {},
     "output_type": "execute_result"
    }
   ],
   "source": [
    "''' \n",
    "### Abstraction in python & how they relete to oops:\n",
    "\n",
    "# Abstraction : Creation of outline or skeleton of any method called as abstraction abstraction anyone can try & implement it.\n",
    "              there is multiple way to achive abstraction.\n",
    "               OR\n",
    "# Abstraction is an important concept in OOP that allows you to focus on the essential features of an object rather than the details. \n",
    "  It is the process of hiding complexity while showing only necessary details to the user.\n",
    "\n",
    "# Abstraction helps in creating simplified models of complex real-world entities by highlighting only the necessary attributes\n",
    "  and behaviors. \n",
    " For example, Car, abstraction allows you to focus on properties like speed and accelerate,\n",
    " without worrying about internal workings.\n",
    "\n",
    "# Abstraction is often implemented using interfaces and abstract classes. An interface defines a contract that any implementing class\n",
    " must follow, ensuring a certain level of abstraction. Abstract classes can provide some implementation details but still leave room for\n",
    " subclasses to fill in the specifics.\n",
    "\n",
    "Improves Code Maintenance: By separating the interface from the implementation, changes to the implementation do not affect the code \n",
    "that uses the abstraction.\n",
    "\n",
    "Enhances Reusability: Abstract components can be reused across different parts of the application or in different applications.\n",
    "\n",
    "Facilitates Design Flexibility: It allows developers to define interfaces and defer the implementation details to later stages or \n",
    "                    other components.\n",
    "# abstraction in OOP helps in managing complexity by allowing programmers to work with simplified models of real-world entities,\n",
    "  promoting code reuse, and improving maintainability.'''"
   ]
  },
  {
   "cell_type": "markdown",
   "id": "896ff766-a8b3-460e-a42e-86127b3d7a03",
   "metadata": {},
   "source": [
    "### 2. Describe the benefits of abstraction in terms of code organization and complexity reduction."
   ]
  },
  {
   "cell_type": "code",
   "execution_count": 264,
   "id": "fd6c393e-dbf1-4dbb-9719-158e21a2ccd1",
   "metadata": {},
   "outputs": [
    {
     "data": {
      "text/plain": [
       "'Abstraction in code organization and complexity reduction leads to:\\n\\n1.Improved modularity: Separating functionality into distinct components.\\n2.Clearer interfaces: Defining explicit contracts for interaction between components.\\n3.Better encapsulation: Hiding internal details and exposing only necessary functionalities.\\n4.Easier maintenance: Isolating changes and reducing interdependencies.\\n5.Simplified complexity: Focusing on high-level concepts and reducing cognitive load.\\n6.Reduced redundancy: Promoting code reuse and consistency.\\n7.Enhanced readability and flexibility: Making code easier to understand, extend, and adapt.\\n\\nThese benefits collectively contribute to the development of robust, maintainable, and scalable software systems.'"
      ]
     },
     "execution_count": 264,
     "metadata": {},
     "output_type": "execute_result"
    }
   ],
   "source": [
    "'''Abstraction in code organization and complexity reduction leads to:\n",
    "\n",
    "1.Improved modularity: Separating functionality into distinct components.\n",
    "2.Clearer interfaces: Defining explicit contracts for interaction between components.\n",
    "3.Better encapsulation: Hiding internal details and exposing only necessary functionalities.\n",
    "4.Easier maintenance: Isolating changes and reducing interdependencies.\n",
    "5.Simplified complexity: Focusing on high-level concepts and reducing cognitive load.\n",
    "6.Reduced redundancy: Promoting code reuse and consistency.\n",
    "7.Enhanced readability and flexibility: Making code easier to understand, extend, and adapt.\n",
    "\n",
    "These benefits collectively contribute to the development of robust, maintainable, and scalable software systems.'''"
   ]
  },
  {
   "cell_type": "markdown",
   "id": "a4f65597-7a55-45d2-92a0-a5b99eb8a9cc",
   "metadata": {},
   "source": [
    "### 3. Create a Python class called `Shape` with an abstract method `calculate_area()`. Then, create child classes (e.g., `Circle`, `Rectangle`) that implement the `calculate_area()` method. Provide an example of using these classes."
   ]
  },
  {
   "cell_type": "code",
   "execution_count": 265,
   "id": "8a063148-3f32-4aca-83c0-797e6e5fd06f",
   "metadata": {},
   "outputs": [
    {
     "name": "stdout",
     "output_type": "stream",
     "text": [
      "The area of the Circle is: 50.26548245743669\n",
      "The area of the Rectangle is: 15\n"
     ]
    }
   ],
   "source": [
    "from abc import ABC, abstractmethod\n",
    "import math\n",
    "\n",
    "class Shape(ABC):\n",
    "    @abstractmethod\n",
    "    def calculate_area(self):\n",
    "        pass\n",
    "\n",
    "class Circle(Shape):\n",
    "    def __init__(self, radius):\n",
    "        self.radius = radius\n",
    "    \n",
    "    def calculate_area(self):\n",
    "        return math.pi * math.pow(self.radius, 2)\n",
    "\n",
    "class Rectangle(Shape):\n",
    "    def __init__(self, width, height):\n",
    "        self.width = width\n",
    "        self.height = height\n",
    "    \n",
    "    def calculate_area(self):\n",
    "        return self.width * self.height\n",
    "\n",
    "circle1 = Circle(4)\n",
    "print(f'The area of the Circle is: {circle1.calculate_area()}')\n",
    "\n",
    "rectangle1 = Rectangle(3, 5)\n",
    "print(f'The area of the Rectangle is: {rectangle1.calculate_area()}')\n"
   ]
  },
  {
   "cell_type": "markdown",
   "id": "caa347f2-d5d6-4b3e-9ff4-7850b7b915de",
   "metadata": {},
   "source": [
    "### 4. Explain the concept of abstract classes in Python and how they are defined using the `abc` module. Provide an example."
   ]
  },
  {
   "cell_type": "code",
   "execution_count": 266,
   "id": "664395ba-1b80-46a3-b945-d7799392187e",
   "metadata": {},
   "outputs": [
    {
     "name": "stdout",
     "output_type": "stream",
     "text": [
      "The area of the Circle is: 50.26548245743669\n",
      "The area of the Rectangle is: 15\n"
     ]
    }
   ],
   "source": [
    "'''##  abstract class:\n",
    "An abstract class is a class that cannot be instantiated on its own and is designed to be subclassed by other classes.\n",
    "Abstract classes can include abstract methods, which are methods that are declared but contain no implementation.\n",
    "These methods must be implemented by any subclass of the abstract class. Abstract classes serve as blueprints for other classes,\n",
    "ensuring that certain methods are implemented in any subclass.\n",
    "\n",
    "## Defining Abstract Classes Using the abc Module: \n",
    "1.Import the ABC and abstractmethod from the abc module\n",
    "2.ABC is create an abstract base class.\n",
    "3.abstractmethod is that must be implemented by subclasses.\n",
    "4.Create a class that inherits from ABC\n",
    "5.This class is abstract base class.\n",
    "6.Define abstract methods & Use the @abstractmethod decorator to mark methods that need to be implemented by any subclass.'''\n",
    "\n",
    "from abc import ABC, abstractmethod\n",
    "import math\n",
    "\n",
    "class Shape(ABC):\n",
    "    @abstractmethod\n",
    "    def calculate_area(self):\n",
    "        pass\n",
    "\n",
    "class Circle(Shape):\n",
    "    def __init__(self, radius):\n",
    "        self.radius = radius\n",
    "    \n",
    "    def calculate_area(self):\n",
    "        return math.pi * math.pow(self.radius, 2)\n",
    "\n",
    "class Rectangle(Shape):\n",
    "    def __init__(self, width, height):\n",
    "        self.width = width\n",
    "        self.height = height\n",
    "    \n",
    "    def calculate_area(self):\n",
    "        return self.width * self.height\n",
    "\n",
    "circle1 = Circle(4)\n",
    "print(f'The area of the Circle is: {circle1.calculate_area()}')\n",
    "\n",
    "rectangle1 = Rectangle(3, 5)\n",
    "print(f'The area of the Rectangle is: {rectangle1.calculate_area()}')\n"
   ]
  },
  {
   "cell_type": "markdown",
   "id": "e1d59823-8350-4932-9cbd-6a3391dd835a",
   "metadata": {},
   "source": [
    "### 5. How do abstract classes differ from regular classes in Python? Discuss their use cases."
   ]
  },
  {
   "cell_type": "code",
   "execution_count": 267,
   "id": "04089106-274f-4954-9e8f-57aa121da6f9",
   "metadata": {},
   "outputs": [
    {
     "data": {
      "text/plain": [
       "'\\n# Abstract classes cannot be instantiated directly, meaning you cannot create objects of an abstract class.\\n  They serve as blueprints for other classes.\\n# Regular classes can be instantiated, allowing you to create objects directly from them.\\n\\n# Abstract classes can contain abstract methods, which are methods declared but not implemented. \\nThese methods must be implemented by any subclass.\\n\\n# Regular classes can contain both abstract and concrete methods. \\nConcrete methods have an implementation provided in the class.\\n\\n...in this way abstract classes differ from regular classes in python.\\n\\n#### USE CASE :\\n\\n# Abstract Classes:\\nDefine Common Interface: Abstract classes are used to define a common interface for a group of related classes.\\n\\n.Enforce Method Implementation:\\nAbstract classes enforce that certain methods are implemented in subclasses, reducing the chances of errors.\\n\\nPromote Polymorphism:\\nAbstract classes facilitate polymorphism by allowing different classes to be treated uniformly .\\n\\n# Regular Classes:\\nEncapsulate Data and Behavior: Regular classes are used to encapsulate data and behavior into a single unit. \\n                               They define objects with specific attributes and methods.\\n\\nCreate Instantiable Objects: Regular classes can be instantiated to create objects directly. These objects represent instances of the\\n                            class and can be used throughout the program.\\n\\nImplement Business Logic: Regular classes are used to implement the business logic of the application. \\n                          They contain methods that perform specific tasks and manipulate data. '"
      ]
     },
     "execution_count": 267,
     "metadata": {},
     "output_type": "execute_result"
    }
   ],
   "source": [
    "'''\n",
    "# Abstract classes cannot be instantiated directly, meaning you cannot create objects of an abstract class.\n",
    "  They serve as blueprints for other classes.\n",
    "# Regular classes can be instantiated, allowing you to create objects directly from them.\n",
    "\n",
    "# Abstract classes can contain abstract methods, which are methods declared but not implemented. \n",
    "These methods must be implemented by any subclass.\n",
    "\n",
    "# Regular classes can contain both abstract and concrete methods. \n",
    "Concrete methods have an implementation provided in the class.\n",
    "\n",
    "...in this way abstract classes differ from regular classes in python.\n",
    "\n",
    "#### USE CASE :\n",
    "\n",
    "# Abstract Classes:\n",
    "Define Common Interface: Abstract classes are used to define a common interface for a group of related classes.\n",
    "\n",
    ".Enforce Method Implementation:\n",
    "Abstract classes enforce that certain methods are implemented in subclasses, reducing the chances of errors.\n",
    "\n",
    "Promote Polymorphism:\n",
    "Abstract classes facilitate polymorphism by allowing different classes to be treated uniformly .\n",
    "\n",
    "# Regular Classes:\n",
    "Encapsulate Data and Behavior: Regular classes are used to encapsulate data and behavior into a single unit. \n",
    "                               They define objects with specific attributes and methods.\n",
    "\n",
    "Create Instantiable Objects: Regular classes can be instantiated to create objects directly. These objects represent instances of the\n",
    "                            class and can be used throughout the program.\n",
    "\n",
    "Implement Business Logic: Regular classes are used to implement the business logic of the application. \n",
    "                          They contain methods that perform specific tasks and manipulate data. '''"
   ]
  },
  {
   "cell_type": "markdown",
   "id": "669243fb-fef4-4881-9342-c49a4eb0f847",
   "metadata": {},
   "source": [
    "### 6. Create a Python class for a bank account and demonstrate abstraction by hiding the account balance and providing methods to deposit and withdraw funds."
   ]
  },
  {
   "cell_type": "code",
   "execution_count": 268,
   "id": "98228aa1-dd8a-42d4-ba0d-48b4cd1d8661",
   "metadata": {},
   "outputs": [
    {
     "name": "stdout",
     "output_type": "stream",
     "text": [
      "Initial Balance: $2000\n",
      "Deposited: $500. New balance: $2500\n",
      "Withdrew: $200. New balance: $2300\n",
      "Final Balance: $2300\n"
     ]
    }
   ],
   "source": [
    "from abc import ABC, abstractmethod\n",
    "import math\n",
    "\n",
    "class BankAccount:\n",
    "    @abstractmethod\n",
    "    def __init__(self, initial_balance=2000):\n",
    "        self.__balance = initial_balance  # Private attribute (hidden)\n",
    "\n",
    "    def deposit(self, amount):\n",
    "        if amount > 0:\n",
    "            self.__balance += amount\n",
    "            print(f\"Deposited: ${amount}. New balance: ${self.__balance}\")\n",
    "        else:\n",
    "            print(\"Invalid deposit amount.\")\n",
    "\n",
    "    def withdraw(self, amount):\n",
    "        if amount > 0 and self.__balance >= amount:\n",
    "            self.__balance -= amount\n",
    "            print(f\"Withdrew: ${amount}. New balance: ${self.__balance}\")\n",
    "        else:\n",
    "            print(\"Invalid withdrawal amount.\")\n",
    "\n",
    "    def get_balance(self):\n",
    "        return self.__balance\n",
    "\n",
    "def main():\n",
    "    account = BankAccount(2000)\n",
    "    print(f\"Initial Balance: ${account.get_balance()}\")\n",
    "    account.deposit(500)\n",
    "    account.withdraw(200)\n",
    "    \n",
    "    print(f\"Final Balance: ${account.get_balance()}\")\n",
    "if __name__ == \"__main__\":\n",
    "    main()"
   ]
  },
  {
   "cell_type": "markdown",
   "id": "e76352ef-e852-4c24-899a-ba880c7038e9",
   "metadata": {},
   "source": [
    "### 7. Discuss the concept of interface classes in Python and their role in achieving abstraction."
   ]
  },
  {
   "cell_type": "code",
   "execution_count": 269,
   "id": "3e5d46f8-4973-4b3a-b1ae-6111a82e885b",
   "metadata": {},
   "outputs": [
    {
     "data": {
      "text/plain": [
       "'\\n# INTERFACE CLASSES :\\nThey specify a set of methods that must be implemented by any class that inherits from the interface\\nWhile Python does not have  interface keyword like some other languages, this concept is typically implemented\\nusing abstract base classes (ABCs) from the abc module.\\n\\n###  Role of interface classes in achieving abstraction:\\n\\n1.Defining a Contract: They specify a set of methods that must be implemented by any subclass, ensuring consistency.\\n\\n2.Hiding Implementation Details: They allow the definition of what an object does without revealing how it does it, \\n                                   separating interface from implementation.\\n\\n3.Promoting Polymorphism: They enable different classes to be used interchangeably if they implement the same interface,\\n                           supporting polymorphic behavior.\\n\\n4.Facilitating Maintenance and Extensibility: They make it easier to maintain and extend the code by allowing new implementations\\n                                              to be added without modifying existing code.\\n\\n   Overall, interface classes abstract the essential functionalities and hide the complexities\\nof implementation, leading to a cleaner and more modular codebase. '"
      ]
     },
     "execution_count": 269,
     "metadata": {},
     "output_type": "execute_result"
    }
   ],
   "source": [
    "'''\n",
    "# INTERFACE CLASSES :\n",
    "They specify a set of methods that must be implemented by any class that inherits from the interface\n",
    "While Python does not have  interface keyword like some other languages, this concept is typically implemented\n",
    "using abstract base classes (ABCs) from the abc module.\n",
    "\n",
    "###  Role of interface classes in achieving abstraction:\n",
    "\n",
    "1.Defining a Contract: They specify a set of methods that must be implemented by any subclass, ensuring consistency.\n",
    "\n",
    "2.Hiding Implementation Details: They allow the definition of what an object does without revealing how it does it, \n",
    "                                   separating interface from implementation.\n",
    "\n",
    "3.Promoting Polymorphism: They enable different classes to be used interchangeably if they implement the same interface,\n",
    "                           supporting polymorphic behavior.\n",
    "\n",
    "4.Facilitating Maintenance and Extensibility: They make it easier to maintain and extend the code by allowing new implementations\n",
    "                                              to be added without modifying existing code.\n",
    "\n",
    "   Overall, interface classes abstract the essential functionalities and hide the complexities\n",
    "of implementation, leading to a cleaner and more modular codebase. '''"
   ]
  },
  {
   "cell_type": "markdown",
   "id": "9e3d9378-1798-43a8-8282-7ef33a6fa5e6",
   "metadata": {},
   "source": [
    "### 8. Create a Python class hierarchy for animals and implement abstraction by defining common methods (e.g., `eat()`, `sleep()`) in an abstract base class."
   ]
  },
  {
   "cell_type": "code",
   "execution_count": 270,
   "id": "2940ffbb-9993-434c-992a-5275788a30c9",
   "metadata": {},
   "outputs": [
    {
     "name": "stdout",
     "output_type": "stream",
     "text": [
      "Dog:\n",
      "The dog eating meat boan \n",
      "The dog is sleeping in small house of dog.\n",
      "\n",
      "Cat:\n",
      "The cat is eating fish.\n",
      "The cat is sleeping on mat.\n",
      "\n"
     ]
    }
   ],
   "source": [
    "from abc import ABC, abstractmethod\n",
    "\n",
    "class Animal(ABC):\n",
    "    @abstractmethod\n",
    "    def eat(self):\n",
    "        pass\n",
    "\n",
    "    @abstractmethod\n",
    "    def sleep(self):\n",
    "        pass\n",
    "    \n",
    "class Dog(Animal):\n",
    "    def eat(self):\n",
    "        print(\"The dog eating meat boan \")\n",
    "    def sleep(self):\n",
    "        print(\"The dog is sleeping in small house of dog.\")\n",
    "\n",
    "class Cat(Animal):\n",
    "    def eat(self):\n",
    "        print(\"The cat is eating fish.\")\n",
    "    def sleep(self):\n",
    "        print(\"The cat is sleeping on mat.\")\n",
    "\n",
    "def main():\n",
    "    animals = [Dog(), Cat()]\n",
    "    for animal in animals:\n",
    "        print(f\"{animal.__class__.__name__}:\")\n",
    "        animal.eat()\n",
    "        animal.sleep()\n",
    "        print()\n",
    "if __name__ == \"__main__\":\n",
    "    main()"
   ]
  },
  {
   "cell_type": "markdown",
   "id": "74ec58bc-300b-4291-9fe0-b2377f51e5a0",
   "metadata": {},
   "source": [
    "### 9. Explain the significance of encapsulation in achieving abstraction. Provide examples."
   ]
  },
  {
   "cell_type": "code",
   "execution_count": 271,
   "id": "0d8a8263-1e94-47ce-b1e8-769bd5a5e58f",
   "metadata": {},
   "outputs": [
    {
     "name": "stdout",
     "output_type": "stream",
     "text": [
      "Employee Name: Akanksha\n"
     ]
    }
   ],
   "source": [
    "'''Significance of Encapsulation helps achieve abstraction :\n",
    "# Hiding Implementation Details: \n",
    "By making the internal state of an object private and providing public methods to interact with the state,\n",
    "encapsulation ensures that the implementation details are hidden.\n",
    "This allows the developer to change the internal implementation without affecting the code that uses the object.\n",
    "\n",
    "# Providing a Clear Interface: \n",
    "Encapsulation defines a clear boundary and interface for how the outside world can interact with an object.\n",
    "This simplifies the understanding and usage of an object by exposing only necessary functionalities.'''\n",
    "\n",
    "class Employee:\n",
    "    def __init__(self, name):\n",
    "        self.__name = name        # Private attribute (hidden)\n",
    "          \n",
    "    def get_name(self):\n",
    "        return self.__name\n",
    "\n",
    "    def set_name(self, name):\n",
    "        self.__name = name\n",
    "\n",
    "employee = Employee(\"Akanksha\")\n",
    "print(f\"Employee Name: {employee.get_name()}\")\n"
   ]
  },
  {
   "cell_type": "markdown",
   "id": "463b8332-5611-495d-bcf0-65b5e8b05d8e",
   "metadata": {},
   "source": [
    "### 10. What is the purpose of abstract methods, and how do they enforce abstraction in Python classes?"
   ]
  },
  {
   "cell_type": "code",
   "execution_count": 272,
   "id": "f1ce5a89-cb99-48fb-b9e0-019f0d012a62",
   "metadata": {},
   "outputs": [
    {
     "data": {
      "text/plain": [
       "'\\n## The main purposes of abstract methods are:\\n1.Defining a Common Interface: Abstract methods define a common set of behaviors that all subclasses must implement. \\n                                This ensures consistency across different subclasses.\\n    \\n2.Enforcing Implementation: By declaring abstract methods in a base class, you enforce that any subclass must provide an implementation\\n                            for these methods, ensuring that the subclass meets the requirements defined by the base class.\\n    \\n    \\n ## How Abstract Methods Enforce Abstraction \\n\\n1.Separation of Interface and Implementation: Abstract methods allow you to define what an object should do (interface) without specifying\\n                                               how it should do it (implementation). \\n                                              This separation enables you to create flexible and extensible code.\\n\\n2.Prevents Instantiation of Base Class: Abstract classes cannot be instantiated directly. This ensures that only concrete subclasses with \\n                                        complete implementations can be instantiated, preventing incomplete objects from being created.\\n\\n3.Promotes Polymorphism: Abstract methods support polymorphism by allowing different classes to implement the same set of methods in different ways.\\n                               This makes it easier to substitute one implementation for another without changing the code that uses these objects.  \\n                               '"
      ]
     },
     "execution_count": 272,
     "metadata": {},
     "output_type": "execute_result"
    }
   ],
   "source": [
    "'''\n",
    "## The main purposes of abstract methods are:\n",
    "1.Defining a Common Interface: Abstract methods define a common set of behaviors that all subclasses must implement. \n",
    "                                This ensures consistency across different subclasses.\n",
    "    \n",
    "2.Enforcing Implementation: By declaring abstract methods in a base class, you enforce that any subclass must provide an implementation\n",
    "                            for these methods, ensuring that the subclass meets the requirements defined by the base class.\n",
    "    \n",
    "    \n",
    " ## How Abstract Methods Enforce Abstraction \n",
    "\n",
    "1.Separation of Interface and Implementation: Abstract methods allow you to define what an object should do (interface) without specifying\n",
    "                                               how it should do it (implementation). \n",
    "                                              This separation enables you to create flexible and extensible code.\n",
    "\n",
    "2.Prevents Instantiation of Base Class: Abstract classes cannot be instantiated directly. This ensures that only concrete subclasses with \n",
    "                                        complete implementations can be instantiated, preventing incomplete objects from being created.\n",
    "\n",
    "3.Promotes Polymorphism: Abstract methods support polymorphism by allowing different classes to implement the same set of methods in different ways.\n",
    "                               This makes it easier to substitute one implementation for another without changing the code that uses these objects.  \n",
    "                               '''\n",
    "      "
   ]
  },
  {
   "cell_type": "markdown",
   "id": "e6f120ca-267e-4766-812e-8630e60c2b83",
   "metadata": {},
   "source": [
    "### 11. Create a Python class for a vehicle system and demonstrate abstraction by defining common methods"
   ]
  },
  {
   "cell_type": "code",
   "execution_count": 273,
   "id": "51c0fefc-9267-4f3d-8cc7-7d11a513f935",
   "metadata": {},
   "outputs": [
    {
     "name": "stdout",
     "output_type": "stream",
     "text": [
      "two_wheeler:\n",
      "The 2 wheeler engine is starting.\n",
      "The 2wheeler engine is stopping.\n",
      "\n",
      "four_wheeler:\n",
      "The 4 wheeler engine is starting.\n",
      "The 4 wheeler engine is stopping.\n",
      "\n"
     ]
    }
   ],
   "source": [
    "from abc import ABC, abstractmethod\n",
    "\n",
    "class Vehicle(ABC):\n",
    "    @abstractmethod\n",
    "    def start_engine(self):\n",
    "        pass\n",
    "    @abstractmethod\n",
    "    def stop_engine(self):\n",
    "        pass\n",
    "\n",
    "class two_wheeler(Vehicle):\n",
    "    def start_engine(self):\n",
    "        print(\"The 2 wheeler engine is starting.\")\n",
    "\n",
    "    def stop_engine(self):\n",
    "        print(\"The 2wheeler engine is stopping.\")\n",
    "\n",
    "class four_wheeler(Vehicle):\n",
    "    def start_engine(self):\n",
    "        print(\"The 4 wheeler engine is starting.\")\n",
    "\n",
    "    def stop_engine(self):\n",
    "        print(\"The 4 wheeler engine is stopping.\")\n",
    "\n",
    "def main():\n",
    "    vehicles = [two_wheeler(), four_wheeler()]\n",
    "    \n",
    "    for vehicle in vehicles:\n",
    "        print(f\"{vehicle.__class__.__name__}:\")\n",
    "        vehicle.start_engine()\n",
    "        vehicle.stop_engine()\n",
    "        print()\n",
    "if __name__ == \"__main__\":\n",
    "    main()"
   ]
  },
  {
   "cell_type": "markdown",
   "id": "69f9459c-4b70-4fcc-9077-923d77cededd",
   "metadata": {},
   "source": [
    "### 12. Describe the use of abstract properties in Python and how they can be employed in abstract classes."
   ]
  },
  {
   "cell_type": "code",
   "execution_count": 274,
   "id": "6f3a0cb6-8d6b-4a22-8586-d903d0998025",
   "metadata": {},
   "outputs": [
    {
     "data": {
      "text/plain": [
       "\"## Uses of Abstract Properties in Python\\n1.Enforcing Interface Consistency:\\nAbstract properties ensure that all subclasses provide a specific property, maintaining a consistent interface.\\nThis is particularly important in large codebases where different classes need to adhere to the same contract.\\n\\n2.Promoting Code Reusability:\\nBy defining a common interface in an abstract base class, you can create reusable components that work with any subclass\\nthat implements the required properties. This promotes the DRY (Don't Repeat Yourself) principle.\\n\\n3.Facilitating Polymorphism:\\nAbstract properties allow different subclasses to be treated uniformly through their base class interface. \\nThis facilitates polymorphism, enabling you to write code that can work with objects of different classes interchangeably.\\n\\n4.Improving Code Readability and Maintainability:\\nClearly defining required properties in an abstract base class makes the code more readable and easier to maintain. \\nIt is immediately clear what properties a subclass must implement, reducing the risk of errors.\\n\\n5.Design by Contract:\\nAbstract properties support the design by contract principle, where the base class specifies a contract (interface) that all subclasses \\nmust fulfill.This leads to more robust and reliable software design.\\n\\n\\n   In Python, abstract properties can be employed within abstract classes to define methods that must be implemented by any subclass.\\nAbstract properties are particularly useful when you want to ensure that certain attributes are defined in all subclasses, \\nwhile still allowing for the flexibility of defining how those attributes are computed or retrieved.\\n\""
      ]
     },
     "execution_count": 274,
     "metadata": {},
     "output_type": "execute_result"
    }
   ],
   "source": [
    "'''## Uses of Abstract Properties in Python\n",
    "1.Enforcing Interface Consistency:\n",
    "Abstract properties ensure that all subclasses provide a specific property, maintaining a consistent interface.\n",
    "This is particularly important in large codebases where different classes need to adhere to the same contract.\n",
    "\n",
    "2.Promoting Code Reusability:\n",
    "By defining a common interface in an abstract base class, you can create reusable components that work with any subclass\n",
    "that implements the required properties. This promotes the DRY (Don't Repeat Yourself) principle.\n",
    "\n",
    "3.Facilitating Polymorphism:\n",
    "Abstract properties allow different subclasses to be treated uniformly through their base class interface. \n",
    "This facilitates polymorphism, enabling you to write code that can work with objects of different classes interchangeably.\n",
    "\n",
    "4.Improving Code Readability and Maintainability:\n",
    "Clearly defining required properties in an abstract base class makes the code more readable and easier to maintain. \n",
    "It is immediately clear what properties a subclass must implement, reducing the risk of errors.\n",
    "\n",
    "5.Design by Contract:\n",
    "Abstract properties support the design by contract principle, where the base class specifies a contract (interface) that all subclasses \n",
    "must fulfill.This leads to more robust and reliable software design.\n",
    "\n",
    "\n",
    "   In Python, abstract properties can be employed within abstract classes to define methods that must be implemented by any subclass.\n",
    "Abstract properties are particularly useful when you want to ensure that certain attributes are defined in all subclasses, \n",
    "while still allowing for the flexibility of defining how those attributes are computed or retrieved.\n",
    "'''"
   ]
  },
  {
   "cell_type": "markdown",
   "id": "f1a9f484-f26c-435c-be62-a2a678ff1c8c",
   "metadata": {},
   "source": [
    "### 13. Create a Python class hierarchy for employees in a company (e.g., manager, developer, designer) and implement abstraction by defining a common `get_salary()` method."
   ]
  },
  {
   "cell_type": "code",
   "execution_count": 275,
   "id": "bf93f9ed-6efa-4f87-ba73-36a8ac700fe5",
   "metadata": {},
   "outputs": [
    {
     "name": "stdout",
     "output_type": "stream",
     "text": [
      "Manager's salary: 5000\n",
      "Developer's salary: 6000\n",
      "Designer's salary: 5500\n"
     ]
    }
   ],
   "source": [
    "from abc import ABC, abstractmethod\n",
    "class Employee(ABC):\n",
    "    @abstractmethod\n",
    "    def get_salary(self):\n",
    "        \"\"\"Calculate and return the salary of the employee.\"\"\"\n",
    "        pass\n",
    "\n",
    "class Manager(Employee):\n",
    "    def __init__(self, base_salary):\n",
    "        self.base_salary = base_salary\n",
    "        \n",
    "    def get_salary(self):\n",
    "        return self.base_salary \n",
    "\n",
    "class Developer(Employee):\n",
    "    def __init__(self, base_salary):\n",
    "        self.base_salary = base_salary\n",
    "    \n",
    "    def get_salary(self):\n",
    "        return self.base_salary \n",
    "\n",
    "class Designer(Employee):\n",
    "    def __init__(self, base_salary):\n",
    "        self.base_salary = base_salary\n",
    "        \n",
    "    def get_salary(self):\n",
    "        return self.base_salary \n",
    "\n",
    "manager = Manager(base_salary=5000)\n",
    "developer = Developer(base_salary=6000)\n",
    "designer = Designer(base_salary=5500)\n",
    "print(f\"Manager's salary: {manager.get_salary()}\")  \n",
    "print(f\"Developer's salary: {developer.get_salary()}\")  \n",
    "print(f\"Designer's salary: {designer.get_salary()}\") "
   ]
  },
  {
   "cell_type": "markdown",
   "id": "eb38516c-e05a-479c-92c7-afc0c1de4cb8",
   "metadata": {},
   "source": [
    "### 14. Discuss the differences between abstract classes and concrete classes in Python, including their instantiation."
   ]
  },
  {
   "cell_type": "code",
   "execution_count": 276,
   "id": "b5aa02fa-818d-4092-9588-a59b8f5dffe5",
   "metadata": {},
   "outputs": [
    {
     "data": {
      "text/plain": [
       "'\\n## the differences between abstract classes and concrete classes in Python\\n\\nInstantiation:\\n#Abstract Classes: Cannot be instantiated directly. They serve as blueprints for other classes.\\n#Concrete Classes: Can be instantiated to create objects with specific behaviors.\\n\\nPurpose:\\n# Abstract Classes: Define a common interface for subclasses, ensuring that certain methods are implemented. They are used to establish\\n                   a common protocol or contract.\\n# Concrete Classes: Provide full implementations of methods and can be used to instantiate objects that perform specific actions.\\n\\nMethod Implementation:\\n# Abstract Classes: Can contain both abstract methods (without implementation) and concrete methods (with implementation).\\n                    Abstract methods must be implemented by any subclass.\\n# Concrete Classes: Must provide implementations for all methods, either inherited or defined within the class.\\n\\nUsage:\\n# Abstract Classes: Used in situations where you want to define a common interface or structure for multiple subclasses. \\n                   They are common in frameworks and libraries where a certain protocol needs to be followed.\\n# Concrete Classes: Used to create objects that encapsulate specific functionality and behavior.'"
      ]
     },
     "execution_count": 276,
     "metadata": {},
     "output_type": "execute_result"
    }
   ],
   "source": [
    "'''\n",
    "## the differences between abstract classes and concrete classes in Python\n",
    "\n",
    "Instantiation:\n",
    "#Abstract Classes: Cannot be instantiated directly. They serve as blueprints for other classes.\n",
    "#Concrete Classes: Can be instantiated to create objects with specific behaviors.\n",
    "\n",
    "Purpose:\n",
    "# Abstract Classes: Define a common interface for subclasses, ensuring that certain methods are implemented. They are used to establish\n",
    "                   a common protocol or contract.\n",
    "# Concrete Classes: Provide full implementations of methods and can be used to instantiate objects that perform specific actions.\n",
    "\n",
    "Method Implementation:\n",
    "# Abstract Classes: Can contain both abstract methods (without implementation) and concrete methods (with implementation).\n",
    "                    Abstract methods must be implemented by any subclass.\n",
    "# Concrete Classes: Must provide implementations for all methods, either inherited or defined within the class.\n",
    "\n",
    "Usage:\n",
    "# Abstract Classes: Used in situations where you want to define a common interface or structure for multiple subclasses. \n",
    "                   They are common in frameworks and libraries where a certain protocol needs to be followed.\n",
    "# Concrete Classes: Used to create objects that encapsulate specific functionality and behavior.'''\n"
   ]
  },
  {
   "cell_type": "markdown",
   "id": "1a107c49-3845-40b9-b0cd-61733a2d99db",
   "metadata": {},
   "source": [
    "### 15. Explain the concept of abstract data types (ADTs) and their role in achieving abstraction in Python."
   ]
  },
  {
   "cell_type": "code",
   "execution_count": 277,
   "id": "9c3d540f-0908-416a-87bc-a94a8c6a8a8a",
   "metadata": {},
   "outputs": [
    {
     "data": {
      "text/plain": [
       "' \\n# abstract data type (ADT) : An Abstract Data Type (ADT) is a mathematical model for a certain class of data structures that have\\nsimilar behavior. An ADT is defined by its behavior (semantics) from the point of view of a user, specifically in terms of possible values,\\npossible operations on this data, and the behavior of these operations. This definition does not specify how these operations \\nwill be implemented.\\n\\n# Role of ADT in achieving abstrction in python:\\n\\nIn Python, ADTs are fundamental in achieving abstraction by providing a clear separation between what operations are available \\n(the interface) and how these operations are implemented (the implementation). This separation enables developers to write more modular,\\nmaintainable, and flexible code. By using classes and abstract base classes, Python provides powerful tools to define and enforce ADTs,\\npromoting good software engineering practices. '"
      ]
     },
     "execution_count": 277,
     "metadata": {},
     "output_type": "execute_result"
    }
   ],
   "source": [
    "''' \n",
    "# abstract data type (ADT) : An Abstract Data Type (ADT) is a mathematical model for a certain class of data structures that have\n",
    "similar behavior. An ADT is defined by its behavior (semantics) from the point of view of a user, specifically in terms of possible values,\n",
    "possible operations on this data, and the behavior of these operations. This definition does not specify how these operations \n",
    "will be implemented.\n",
    "\n",
    "# Role of ADT in achieving abstrction in python:\n",
    "\n",
    "In Python, ADTs are fundamental in achieving abstraction by providing a clear separation between what operations are available \n",
    "(the interface) and how these operations are implemented (the implementation). This separation enables developers to write more modular,\n",
    "maintainable, and flexible code. By using classes and abstract base classes, Python provides powerful tools to define and enforce ADTs,\n",
    "promoting good software engineering practices. '''\n"
   ]
  },
  {
   "cell_type": "markdown",
   "id": "e6179a7b-e474-46b0-959f-88cb6a69ef63",
   "metadata": {},
   "source": [
    "### 16. Create a Python class for a computer system, demonstrating abstraction by defining common methods (e.g., `power_on()`, `shutdown()`) in an abstract base class."
   ]
  },
  {
   "cell_type": "code",
   "execution_count": 278,
   "id": "11ffd472-dc83-4cf1-abf0-1b20be089c6c",
   "metadata": {},
   "outputs": [
    {
     "name": "stdout",
     "output_type": "stream",
     "text": [
      "Acer desktop is powered on.\n",
      "Acer desktop is shut down.\n"
     ]
    }
   ],
   "source": [
    "from abc import ABC, abstractmethod\n",
    "\n",
    "class ComputerSystem(ABC):\n",
    "    @abstractmethod\n",
    "    def power_on(self):\n",
    "        pass\n",
    "    @abstractmethod\n",
    "    def shutdown(self):\n",
    "        pass\n",
    "\n",
    "class Desktop(ComputerSystem):\n",
    "    def __init__(self, brand):\n",
    "        self.brand = brand\n",
    "        self.powered_on = False\n",
    "\n",
    "    def power_on(self):\n",
    "        if not self.powered_on:\n",
    "            self.powered_on = True\n",
    "            print(f\"{self.brand} desktop is powered on.\")\n",
    "        else:\n",
    "            print(f\"{self.brand} desktop is already on.\")\n",
    "\n",
    "    def shutdown(self):\n",
    "        if self.powered_on:\n",
    "            self.powered_on = False\n",
    "            print(f\"{self.brand} desktop is shut down.\")\n",
    "        else:\n",
    "            print(f\"{self.brand} desktop is already off.\")\n",
    "\n",
    "desktop = Desktop(\"Acer\")\n",
    "desktop.power_on()  \n",
    "desktop.shutdown()  "
   ]
  },
  {
   "cell_type": "markdown",
   "id": "9e5ecde1-fb36-4d6e-b869-91bc2a900f7f",
   "metadata": {},
   "source": [
    "### 17. Discuss the benefits of using abstraction in large-scale software development projects."
   ]
  },
  {
   "cell_type": "code",
   "execution_count": 279,
   "id": "e335f6e8-959d-4478-9370-aead72aa36d1",
   "metadata": {},
   "outputs": [
    {
     "data": {
      "text/plain": [
       "\"\\n### abstraction is a powerful technique in large-scale software development projects:  \\n\\n1.Simplified Complexity: Abstraction helps break down complex systems into smaller, easier-to-understand pieces, making it simpler\\n    for developers to manage and work with.\\n\\n2.Modular Design: It allows developers to organize code into separate modules or components, each responsible for a specific task,\\npromoting clarity and ease of maintenance.\\n\\n3.Code Reusability: Abstracting common functionalities into reusable components reduces duplication of code, saving time and effort\\nin development.\\n\\n4.Flexibility: By hiding implementation details, abstraction enables developers to make changes or updates to one part of the system \\nwithout affecting others, fostering adaptability to evolving requirements.\\n\\n5.Easier Maintenance: Abstraction isolates changes to specific components, making it easier for developers to understand, update,\\nand debug code, thus reducing the risk of errors.\\n\\n6.Improved Collaboration: Clear interfaces provided by abstraction facilitate teamwork, as developers can work on different parts \\nof the system independently without interfering with each other's work.\\n\\n7.Scalability: Abstraction lays a foundation for scalability, allowing the system to grow and evolve without major restructuring\\nor disruption to existing functionality.\\n\\n8.Efficient Testing and Debugging: Abstracting components simplifies testing and debugging, as individual modules can be tested\\nin isolation and issues can be pinpointed more easily.\\n\\nIn simple terms, abstraction in large-scale software development makes code easier to understand, reuse, maintain, and collaborate on,\\nwhile also providing the flexibility and scalability needed for long-term success.       \""
      ]
     },
     "execution_count": 279,
     "metadata": {},
     "output_type": "execute_result"
    }
   ],
   "source": [
    "'''\n",
    "### abstraction is a powerful technique in large-scale software development projects:  \n",
    "\n",
    "1.Simplified Complexity: Abstraction helps break down complex systems into smaller, easier-to-understand pieces, making it simpler\n",
    "    for developers to manage and work with.\n",
    "\n",
    "2.Modular Design: It allows developers to organize code into separate modules or components, each responsible for a specific task,\n",
    "promoting clarity and ease of maintenance.\n",
    "\n",
    "3.Code Reusability: Abstracting common functionalities into reusable components reduces duplication of code, saving time and effort\n",
    "in development.\n",
    "\n",
    "4.Flexibility: By hiding implementation details, abstraction enables developers to make changes or updates to one part of the system \n",
    "without affecting others, fostering adaptability to evolving requirements.\n",
    "\n",
    "5.Easier Maintenance: Abstraction isolates changes to specific components, making it easier for developers to understand, update,\n",
    "and debug code, thus reducing the risk of errors.\n",
    "\n",
    "6.Improved Collaboration: Clear interfaces provided by abstraction facilitate teamwork, as developers can work on different parts \n",
    "of the system independently without interfering with each other's work.\n",
    "\n",
    "7.Scalability: Abstraction lays a foundation for scalability, allowing the system to grow and evolve without major restructuring\n",
    "or disruption to existing functionality.\n",
    "\n",
    "8.Efficient Testing and Debugging: Abstracting components simplifies testing and debugging, as individual modules can be tested\n",
    "in isolation and issues can be pinpointed more easily.\n",
    "\n",
    "In simple terms, abstraction in large-scale software development makes code easier to understand, reuse, maintain, and collaborate on,\n",
    "while also providing the flexibility and scalability needed for long-term success.       '''"
   ]
  },
  {
   "cell_type": "markdown",
   "id": "46d83427-906c-4ce3-9af9-627c04439099",
   "metadata": {},
   "source": [
    "### 18. Explain how abstraction enhances code reusability and modularity in Python programs."
   ]
  },
  {
   "cell_type": "code",
   "execution_count": 280,
   "id": "9c345c1d-763f-4be6-8569-cb6f29757dd0",
   "metadata": {},
   "outputs": [
    {
     "data": {
      "text/plain": [
       "'\\n## in this way abstraction enhances code reusability and modularity in python program:\\n\\n### Code Reusability:\\nEncapsulation: We can hide the implementation details and provide a clear interface for others to use.\\n\\nLibraries and Frameworks: With abstraction, we can create libraries or frameworks that provide pre-built solutions for common tasks.\\n                         These can be reused across multiple projects without rewriting the same code.\\n\\nInheritance and Composition: Abstraction through inheritance and composition enables  to create blueprints (like abstract base classes) \\n                            that define common behaviors. Other classes can inherit from or compose with these blueprints to reuse code.\\n\\n### Modularity: Clear Separation of Concerns: Abstraction encourages breaking down our code into smaller,This makes our codebase easier to \\nunderstand, maintain, and extend.\\n\\nIsolation of Components: Abstraction allows us to isolate different parts of our program, reducing dependencies between them. \\n                        This means we can modify or replace one component without affecting the others.\\n\\nInterface-based Design: Abstraction promotes designing modules with clear interfaces, so they can interact with each other through \\n                        well-defined boundaries. This makes it easier to integrate third-party components or swap out implementations.\\n\\nHierarchical Organization: Abstraction enables organizing our code in a hierarchical manner, where higher-level modules rely on\\n                   lower-level ones. This promotes modularity by breaking down our system into manageable units, each with its own purpose.\\n                   '"
      ]
     },
     "execution_count": 280,
     "metadata": {},
     "output_type": "execute_result"
    }
   ],
   "source": [
    "'''\n",
    "## in this way abstraction enhances code reusability and modularity in python program:\n",
    "\n",
    "### Code Reusability:\n",
    "Encapsulation: We can hide the implementation details and provide a clear interface for others to use.\n",
    "\n",
    "Libraries and Frameworks: With abstraction, we can create libraries or frameworks that provide pre-built solutions for common tasks.\n",
    "                         These can be reused across multiple projects without rewriting the same code.\n",
    "\n",
    "Inheritance and Composition: Abstraction through inheritance and composition enables  to create blueprints (like abstract base classes) \n",
    "                            that define common behaviors. Other classes can inherit from or compose with these blueprints to reuse code.\n",
    "\n",
    "### Modularity: Clear Separation of Concerns: Abstraction encourages breaking down our code into smaller,This makes our codebase easier to \n",
    "understand, maintain, and extend.\n",
    "\n",
    "Isolation of Components: Abstraction allows us to isolate different parts of our program, reducing dependencies between them. \n",
    "                        This means we can modify or replace one component without affecting the others.\n",
    "\n",
    "Interface-based Design: Abstraction promotes designing modules with clear interfaces, so they can interact with each other through \n",
    "                        well-defined boundaries. This makes it easier to integrate third-party components or swap out implementations.\n",
    "\n",
    "Hierarchical Organization: Abstraction enables organizing our code in a hierarchical manner, where higher-level modules rely on\n",
    "                   lower-level ones. This promotes modularity by breaking down our system into manageable units, each with its own purpose.\n",
    "                   '''"
   ]
  },
  {
   "cell_type": "markdown",
   "id": "44c207cd-c7e5-4f11-829d-4ae2af1bd2ff",
   "metadata": {},
   "source": [
    "### 19. Create a Python class for a library system, implementing abstraction by defining common methods (e.g., `add_book()`, `borrow_book()`) in an abstract base class."
   ]
  },
  {
   "cell_type": "code",
   "execution_count": 281,
   "id": "c255cdc5-7e86-4f94-83b3-02b01c418efc",
   "metadata": {},
   "outputs": [
    {
     "name": "stdout",
     "output_type": "stream",
     "text": [
      "Added 'my_mom_is_god'   to the library.\n",
      "Borrowed 'my_mom_is_god'  user akanksha.\n"
     ]
    }
   ],
   "source": [
    "from abc import ABC, abstractmethod\n",
    "class LibrarySystem(ABC):\n",
    "    def __init__(self):\n",
    "        self.books = {}\n",
    "    @abstractmethod\n",
    "    def add_book(self, book_id, title):\n",
    "        pass\n",
    "    @abstractmethod\n",
    "    def borrow_book(self, book_id, user_id):\n",
    "        pass\n",
    "class MyLibrary(LibrarySystem):\n",
    "    def add_book(self, book_id, title):\n",
    "        if book_id not in self.books:\n",
    "            self.books[book_id] = {'title': title,  'available': True}\n",
    "            print(f\"Added '{title}'   to the library.\")\n",
    "        else:\n",
    "            print(f\"Book with ID '{book_id}' already exists.\")\n",
    "\n",
    "    def borrow_book(self, book_id, user_id):\n",
    "        if book_id in self.books:\n",
    "            if self.books[book_id]['available']:\n",
    "                self.books[book_id]['available'] = False\n",
    "                print(f\"Borrowed '{self.books[book_id]['title']}'  user {user_id}.\")\n",
    "            else:\n",
    "                print(f\"Book '{self.books[book_id]['title']}' is already borrowed.\")\n",
    "        \n",
    "my_library = MyLibrary()\n",
    "my_library.add_book('12', 'my_mom_is_god')\n",
    "my_library.borrow_book('12', 'akanksha')"
   ]
  },
  {
   "cell_type": "markdown",
   "id": "732e057e-dcc0-4ce1-b8b5-52f9ae4a065f",
   "metadata": {},
   "source": [
    "### 20. Describe the concept of method abstraction in Python and how it relates to polymorphism."
   ]
  },
  {
   "cell_type": "code",
   "execution_count": 282,
   "id": "c637bbe8-e820-40c4-9e77-c032f337e89d",
   "metadata": {},
   "outputs": [
    {
     "data": {
      "text/plain": [
       "'\\nMethod Abstraction : \\n                    Method abstraction in Python refers to the practice of defining methods in a way that hides the implementation \\ndetails from the user, focusing instead on providing a clear interface for interaction. This allows users to interact with objects\\nthrough method calls without needing to know how those methods are implemented internally.\\n\\n\\nmethod abstraction in Python hides implementation details behind clear interfaces, promoting polymorphic behavior where objects\\nof different types respond to the same method calls in different ways. This combination of method abstraction and polymorphism \\nleads to flexible, extensible, and maintainable software designs.'"
      ]
     },
     "execution_count": 282,
     "metadata": {},
     "output_type": "execute_result"
    }
   ],
   "source": [
    "'''\n",
    "Method Abstraction : \n",
    "                    Method abstraction in Python refers to the practice of defining methods in a way that hides the implementation \n",
    "details from the user, focusing instead on providing a clear interface for interaction. This allows users to interact with objects\n",
    "through method calls without needing to know how those methods are implemented internally.\n",
    "\n",
    "\n",
    "method abstraction in Python hides implementation details behind clear interfaces, promoting polymorphic behavior where objects\n",
    "of different types respond to the same method calls in different ways. This combination of method abstraction and polymorphism \n",
    "leads to flexible, extensible, and maintainable software designs.'''"
   ]
  },
  {
   "cell_type": "markdown",
   "id": "74ad78bf-eaa8-441b-8525-04b75c984302",
   "metadata": {},
   "source": [
    "# Composition:"
   ]
  },
  {
   "cell_type": "markdown",
   "id": "5def80d7-ac2f-443a-855a-f83cb463399c",
   "metadata": {},
   "source": [
    "### 1. Explain the concept of composition in Python and how it is used to build complex objects from simpler ones."
   ]
  },
  {
   "cell_type": "code",
   "execution_count": 283,
   "id": "57a20f30-58ba-4477-a8f8-8fe1845a5c59",
   "metadata": {},
   "outputs": [
    {
     "data": {
      "text/plain": [
       "'# COMPOSITION : composition is nothing but creation of complex objects by combining simpler ones. \\n\\n##  to Build Complex Objects Using Composition\\nIdentify Components: Determine the simpler objects (components) that will make up the complex object.\\nDefine Component Classes: Create classes for each component with specific attributes and methods.\\nDefine the Composite Class: Create the composite class that includes instances of the component classes.\\nInitialize Components in Composite Class: In the composite class, initialize the components as attributes.\\nDelegate Responsibilities: Implement methods in the composite class that delegate tasks to the component classes.\\nUse the Composite Object: Create and use instances of the composite class, leveraging its composed components.\\n\\nIn composition, one class (the composite class) contains instances of other classes (the component classes). \\nThe composite class delegates certain tasks to these component classes, allowing for more modular and reusable code.'"
      ]
     },
     "execution_count": 283,
     "metadata": {},
     "output_type": "execute_result"
    }
   ],
   "source": [
    "'''# COMPOSITION : composition is nothing but creation of complex objects by combining simpler ones. \n",
    "\n",
    "##  to Build Complex Objects Using Composition\n",
    "Identify Components: Determine the simpler objects (components) that will make up the complex object.\n",
    "Define Component Classes: Create classes for each component with specific attributes and methods.\n",
    "Define the Composite Class: Create the composite class that includes instances of the component classes.\n",
    "Initialize Components in Composite Class: In the composite class, initialize the components as attributes.\n",
    "Delegate Responsibilities: Implement methods in the composite class that delegate tasks to the component classes.\n",
    "Use the Composite Object: Create and use instances of the composite class, leveraging its composed components.\n",
    "\n",
    "In composition, one class (the composite class) contains instances of other classes (the component classes). \n",
    "The composite class delegates certain tasks to these component classes, allowing for more modular and reusable code.'''"
   ]
  },
  {
   "cell_type": "markdown",
   "id": "1c4c18e6-43f8-4b68-95c2-6c2b6e7e2dde",
   "metadata": {},
   "source": [
    "### 2. Describe the difference between composition and inheritance in object-oriented programming."
   ]
  },
  {
   "cell_type": "code",
   "execution_count": 284,
   "id": "cb1e9e0c-1a47-4108-9858-3757611cd995",
   "metadata": {},
   "outputs": [
    {
     "data": {
      "text/plain": [
       "'\\n## the difference between composition and inheritance in object-oriented programming.\\n\\n### composition: it is the concept to build complex object by combining  simplest ones\\n\\n1.Composition is a design principle where a class is composed of one or more objects from other classes, \\n              establishing a \"has-a\" relationship,\\n2.Modularity: Composition promotes modularity by allowing components to be developed, tested, and maintained independently.\\n3.Reusability: Components can be reused across different systems.\\n4.Flexibility: Components can be replaced or modified at runtime, providing more flexibility than inheritance.\\n\\n\\n\\n### Inheritance : Inheritance is a mechanism where a  subclass is created from an base class  or superclass.\\nThe derived class inherits attributes and methods from the base class, allowing for code reuse and the establishment of \\na hierarchical relationship between classes.\\n\\n1.\"Is-a\" Relationship: Inheritance models an \"is-a\" relationship. For example, a Dog class might inherit from an Animal class,\\n    indicating that a dog is a type of animal.\\n2.Reusability: Common behaviors and attributes are defined in the base class and reused in derived classes.\\n3.Overriding and Extending: Derived classes can override or extend the functionalities of the base class.\\n4.Polymorphism: Inheritance supports polymorphism, where a base class reference can point to an object of a derived class, \\n   allowing for dynamic method invocation. '"
      ]
     },
     "execution_count": 284,
     "metadata": {},
     "output_type": "execute_result"
    }
   ],
   "source": [
    "'''\n",
    "## the difference between composition and inheritance in object-oriented programming.\n",
    "\n",
    "### composition: it is the concept to build complex object by combining  simplest ones\n",
    "\n",
    "1.Composition is a design principle where a class is composed of one or more objects from other classes, \n",
    "              establishing a \"has-a\" relationship,\n",
    "2.Modularity: Composition promotes modularity by allowing components to be developed, tested, and maintained independently.\n",
    "3.Reusability: Components can be reused across different systems.\n",
    "4.Flexibility: Components can be replaced or modified at runtime, providing more flexibility than inheritance.\n",
    "\n",
    "\n",
    "\n",
    "### Inheritance : Inheritance is a mechanism where a  subclass is created from an base class  or superclass.\n",
    "The derived class inherits attributes and methods from the base class, allowing for code reuse and the establishment of \n",
    "a hierarchical relationship between classes.\n",
    "\n",
    "1.\"Is-a\" Relationship: Inheritance models an \"is-a\" relationship. For example, a Dog class might inherit from an Animal class,\n",
    "    indicating that a dog is a type of animal.\n",
    "2.Reusability: Common behaviors and attributes are defined in the base class and reused in derived classes.\n",
    "3.Overriding and Extending: Derived classes can override or extend the functionalities of the base class.\n",
    "4.Polymorphism: Inheritance supports polymorphism, where a base class reference can point to an object of a derived class, \n",
    "   allowing for dynamic method invocation. '''"
   ]
  },
  {
   "cell_type": "markdown",
   "id": "555e7779-83cc-4bdc-bb8b-735b1f81fce1",
   "metadata": {},
   "source": [
    "### 3. Create a Python class called `Author` with attributes for name and birthdate. Then, create a `Book` class that contains an instance of `Author` as a composition. Provide an example of creating a `Book` object."
   ]
  },
  {
   "cell_type": "code",
   "execution_count": 285,
   "id": "667800d4-63cb-4088-9523-2876b9e39294",
   "metadata": {},
   "outputs": [
    {
     "name": "stdout",
     "output_type": "stream",
     "text": [
      "royal (born 25 June 1999)\n",
      "'the name is akanksha' by royal (born 25 June 1999) \n"
     ]
    }
   ],
   "source": [
    "class Author:\n",
    "    def __init__(self, name, birthdate):\n",
    "        self.name = name\n",
    "        self.birthdate = birthdate\n",
    "\n",
    "    def __str__(self):\n",
    "        return f\"{self.name} (born {self.birthdate})\"\n",
    "\n",
    "author = Author(name=\"royal\", birthdate=\"25 June 1999\")\n",
    "print(author)\n",
    "\n",
    "class Book(Author):\n",
    "    def __init__(self, title, author):\n",
    "        self.title = title\n",
    "       \n",
    "        self.author = author\n",
    "\n",
    "    def __str__(self):\n",
    "        return f\"'{self.title}' by {self.author} \"\n",
    "\n",
    "book = Book(title=\"the name is akanksha\",  author=author)\n",
    "print(book)  "
   ]
  },
  {
   "cell_type": "markdown",
   "id": "37b8aef4-e683-4545-8843-01c30f25f407",
   "metadata": {},
   "source": [
    "### 4. Discuss the benefits of using composition over inheritance in Python, especially in terms of code flexibility and reusability."
   ]
  },
  {
   "cell_type": "code",
   "execution_count": 286,
   "id": "501894d5-c9ba-416b-bb35-93b9ae076094",
   "metadata": {},
   "outputs": [
    {
     "data": {
      "text/plain": [
       "'Composition and inheritance are both fundamental concepts in (OOP) that facilitate code reuse and organization. \\nHowever, composition often provides greater flexibility and reusability compared to inheritance.\\nHere are some key benefits of using composition over inheritance:\\n    \\n ### Flexibility:\\n1.Dynamic Behavior Changes:\\n   Composition allows you to change the behavior of objects at runtime by swapping out components. \\n    This makes it possible to modify the functionality of an object dynamically without altering its class.\\n\\n     where,Inheritance creates a fixed relationship between base and derived classes, making it challenging to change behavior\\n     without altering the class hierarchy. \\n\\n2.Composition promotes loose coupling:\\n     Each component can be developed, tested, and maintained independently, making the system more modular.\\n     \\n        where,Inheritance creates tight coupling between base and derived classes. Changes in the base class can propagate to all derived \\n        classes, potentially causing unintended side effects.\\n    \\n ###  Reusability:\\n1.Component Reuse\\n  Composition facilitates the reuse of components across different classes and projects. Components are typically more generic\\n   and can be mixed and matched as needed.\\n\\ninheritance limits reusability to a single class hierarchy. A class and its methods are only reusable within the context of their\\nspecific hierarchy.\\n\\n\\n2.This mix-and-match \\n    approach provides greater flexibility in constructing complex systems from simple, reusable parts.\\n\\n  Inheritance requires a rigid structure. To reuse functionality, you must derive from the appropriate base class, which might not always \\nbe desirable or possible.'"
      ]
     },
     "execution_count": 286,
     "metadata": {},
     "output_type": "execute_result"
    }
   ],
   "source": [
    "'''Composition and inheritance are both fundamental concepts in (OOP) that facilitate code reuse and organization. \n",
    "However, composition often provides greater flexibility and reusability compared to inheritance.\n",
    "Here are some key benefits of using composition over inheritance:\n",
    "    \n",
    " ### Flexibility:\n",
    "1.Dynamic Behavior Changes:\n",
    "   Composition allows you to change the behavior of objects at runtime by swapping out components. \n",
    "    This makes it possible to modify the functionality of an object dynamically without altering its class.\n",
    "\n",
    "     where,Inheritance creates a fixed relationship between base and derived classes, making it challenging to change behavior\n",
    "     without altering the class hierarchy. \n",
    "\n",
    "2.Composition promotes loose coupling:\n",
    "     Each component can be developed, tested, and maintained independently, making the system more modular.\n",
    "     \n",
    "        where,Inheritance creates tight coupling between base and derived classes. Changes in the base class can propagate to all derived \n",
    "        classes, potentially causing unintended side effects.\n",
    "    \n",
    " ###  Reusability:\n",
    "1.Component Reuse\n",
    "  Composition facilitates the reuse of components across different classes and projects. Components are typically more generic\n",
    "   and can be mixed and matched as needed.\n",
    "\n",
    "inheritance limits reusability to a single class hierarchy. A class and its methods are only reusable within the context of their\n",
    "specific hierarchy.\n",
    "\n",
    "\n",
    "2.This mix-and-match \n",
    "    approach provides greater flexibility in constructing complex systems from simple, reusable parts.\n",
    "\n",
    "  Inheritance requires a rigid structure. To reuse functionality, you must derive from the appropriate base class, which might not always \n",
    "be desirable or possible.'''    "
   ]
  },
  {
   "cell_type": "markdown",
   "id": "3d724e3b-1d07-4c87-9843-a1b5db4743fb",
   "metadata": {},
   "source": [
    "### 5. How can you implement composition in Python classes? Provide examples of using composition to create complex objects."
   ]
  },
  {
   "cell_type": "code",
   "execution_count": 287,
   "id": "a2969131-cda3-41e6-952f-d15c68c21e85",
   "metadata": {},
   "outputs": [
    {
     "name": "stdout",
     "output_type": "stream",
     "text": [
      "Name: akanksha\n",
      "Job: data scientist at Google, earning $1200000LPA\n"
     ]
    },
    {
     "data": {
      "text/plain": [
       "'in this way we create complex object using composition, composition is a powerful design principle used to create complex objects\\nby combining simpler ones. This involves creating classes that contain instances of other classes, rather than inheriting from them.\\nComposition provides greater flexibility and reusability of code, as it allows you to build complex behaviors by combining simpler\\ncomponents.'"
      ]
     },
     "execution_count": 287,
     "metadata": {},
     "output_type": "execute_result"
    }
   ],
   "source": [
    "class Job:\n",
    "    def __init__(self, title, company, salary):\n",
    "        self.title = title\n",
    "        self.company = company\n",
    "        self.salary = salary\n",
    "\n",
    "    def __str__(self):\n",
    "        return f\"{self.title} at {self.company}, earning ${self.salary}LPA\"\n",
    "\n",
    "class Person:\n",
    "    def __init__(self, name, job):\n",
    "        self.name = name\n",
    "        self.job = job          \n",
    "   \n",
    "    def __str__(self):\n",
    "        return (f\"Name: {self.name}\\n\"\n",
    "                f\"Job: {self.job}\")\n",
    "\n",
    "job = Job(title=\"data scientist\", company=\"Google\", salary=1200000)\n",
    "person = Person(name=\"akanksha\",  job=job)\n",
    "print(person)\n",
    "\n",
    "'''in this way we create complex object using composition, composition is a powerful design principle used to create complex objects\n",
    "by combining simpler ones. This involves creating classes that contain instances of other classes, rather than inheriting from them.\n",
    "Composition provides greater flexibility and reusability of code, as it allows you to build complex behaviors by combining simpler\n",
    "components.'''"
   ]
  },
  {
   "cell_type": "markdown",
   "id": "8450a507-273f-4b6b-82e8-67a3576e983f",
   "metadata": {},
   "source": [
    "### 6. Create a Python class hierarchy for a music player system, using composition to represent playlists and songs."
   ]
  },
  {
   "cell_type": "code",
   "execution_count": 288,
   "id": "8442d4b4-b685-4914-85b4-0eb4c87259e1",
   "metadata": {},
   "outputs": [
    {
     "name": "stdout",
     "output_type": "stream",
     "text": [
      "Music Player:\n",
      "Playlist: my dance song\n",
      "Songs:\n",
      "'dance song ' by dancer aki\n"
     ]
    }
   ],
   "source": [
    "class Song:\n",
    "    def __init__(self, title, artist):\n",
    "        self.title = title\n",
    "        self.artist = artist\n",
    "    def __str__(self):\n",
    "        return f\"'{self.title}' by {self.artist}\"\n",
    "\n",
    "class Playlist:\n",
    "    def __init__(self, name):\n",
    "        self.name = name\n",
    "        self.songs = []\n",
    "\n",
    "    def add_song(self, song):\n",
    "        self.songs.append(song)\n",
    "\n",
    "    def remove_song(self, song_title):\n",
    "        self.songs = [s for s in self.songs if s.title != song_title]\n",
    "\n",
    "    def __str__(self):\n",
    "        song_list = \"\\n\".join(str(song) for song in self.songs)\n",
    "        return f\"Playlist: {self.name}\\nSongs:\\n{song_list}\"\n",
    "\n",
    "class MusicPlayer:\n",
    "    def __init__(self):\n",
    "        self.playlists = []\n",
    "\n",
    "    def add_playlist(self, playlist):\n",
    "        self.playlists.append(playlist)\n",
    "\n",
    "    def remove_playlist(self, playlist_name):\n",
    "        self.playlists = [p for p in self.playlists if p.name != playlist_name]\n",
    "\n",
    "    def __str__(self):\n",
    "        playlist_list = \"\\n\\n\".join(str(playlist) for playlist in self.playlists)\n",
    "        return f\"Music Player:\\n{playlist_list}\"\n",
    "\n",
    "song1 = Song(\"dance song \", \"dancer aki\")\n",
    "playlist1 = Playlist(\"my dance song\")\n",
    "playlist1.add_song(song1)\n",
    "music_player = MusicPlayer()\n",
    "music_player.add_playlist(playlist1)\n",
    "print(music_player)"
   ]
  },
  {
   "cell_type": "markdown",
   "id": "0b90f5ec-5690-4fbc-bb87-8d2e4526b7f7",
   "metadata": {},
   "source": [
    "### 7. Explain the concept of \"has-a\" relationships in composition and how it helps design software systems."
   ]
  },
  {
   "cell_type": "code",
   "execution_count": 289,
   "id": "eae090d3-4437-4c37-9e9f-638a1e8e0451",
   "metadata": {},
   "outputs": [
    {
     "data": {
      "text/plain": [
       "'\\n# has-a relationship:\\n\\n1.Modularity: Composition encourages the design of modular systems where each component is an independent module.\\n              This modularity simplifies development, testing, and maintenance.\\n\\n2.Flexibility and Extensibility: Systems designed with composition can be easily extended. New features can be added by incorporating new components\\n                                 without altering the existing system structure significantly.\\n\\n3.Code Reuse: Common functionalities can be encapsulated within separate components, which can be reused across various parts of the application.\\n             This reduces duplication and promotes consistency.\\n\\n4.Encapsulation and Abstraction: Composition helps in hiding the complexities of individual components.\\n                                 The container class provides a simplified interface, making the system easier to use and understand.\\n\\n5.Clearer Relationships: Using \"has-a\" relationships makes the relationships between different parts of the system explicit,\\n                         leading to clearer and more maintainable code.\\n    \\n\"Has-a\" relationships, through composition, provide a powerful mechanism for designing software systems. They promote modularity, \\nflexibility, reuse, encapsulation, and clearer relationships, leading to robust and maintainable code. By composing objects from simpler, \\nreusable components, developers can build complex functionalities in a manageable and scalable way.'"
      ]
     },
     "execution_count": 289,
     "metadata": {},
     "output_type": "execute_result"
    }
   ],
   "source": [
    "'''\n",
    "# has-a relationship:\n",
    "\n",
    "1.Modularity: Composition encourages the design of modular systems where each component is an independent module.\n",
    "              This modularity simplifies development, testing, and maintenance.\n",
    "\n",
    "2.Flexibility and Extensibility: Systems designed with composition can be easily extended. New features can be added by incorporating new components\n",
    "                                 without altering the existing system structure significantly.\n",
    "\n",
    "3.Code Reuse: Common functionalities can be encapsulated within separate components, which can be reused across various parts of the application.\n",
    "             This reduces duplication and promotes consistency.\n",
    "\n",
    "4.Encapsulation and Abstraction: Composition helps in hiding the complexities of individual components.\n",
    "                                 The container class provides a simplified interface, making the system easier to use and understand.\n",
    "\n",
    "5.Clearer Relationships: Using \"has-a\" relationships makes the relationships between different parts of the system explicit,\n",
    "                         leading to clearer and more maintainable code.\n",
    "    \n",
    "\"Has-a\" relationships, through composition, provide a powerful mechanism for designing software systems. They promote modularity, \n",
    "flexibility, reuse, encapsulation, and clearer relationships, leading to robust and maintainable code. By composing objects from simpler, \n",
    "reusable components, developers can build complex functionalities in a manageable and scalable way.'''"
   ]
  },
  {
   "cell_type": "markdown",
   "id": "104c7027-a3fb-427a-be39-86f96ca2d644",
   "metadata": {},
   "source": [
    "### 8. Create a Python class for a computer system, using composition to represent components like CPU, RAM, and storage devices."
   ]
  },
  {
   "cell_type": "code",
   "execution_count": 290,
   "id": "da4efdd0-8014-4610-bcf2-8f87c37845b7",
   "metadata": {},
   "outputs": [
    {
     "name": "stdout",
     "output_type": "stream",
     "text": [
      "Computer System:\n",
      "  CPU: Intel H610\n",
      "  RAM: 16GB DDR4\n",
      "  Storage: 64GBSSD\n"
     ]
    }
   ],
   "source": [
    "class ComputerSystem:\n",
    "    def __init__(self, cpu, ram, storage):\n",
    "        self.cpu = cpu\n",
    "        self.ram = ram\n",
    "        self.storage = storage\n",
    "    def __str__(self):\n",
    "        return f\"Computer System:\\n  {self.cpu}\\n  {self.ram}\\n  {self.storage}\"\n",
    "\n",
    "class CPU:\n",
    "    def __init__(self, model):\n",
    "        self.model = model\n",
    "    def __str__(self):\n",
    "        return f\"CPU: {self.model}\"\n",
    "\n",
    "class RAM:\n",
    "    def __init__(self, size, type):\n",
    "        self.size = size  \n",
    "        self.type = type  \n",
    "    def __str__(self):\n",
    "        return f\"RAM: {self.size}GB {self.type}\"\n",
    "\n",
    "class Storage:\n",
    "    def __init__(self, size, type):\n",
    "        self.size = size  \n",
    "        self.type = type \n",
    "    def __str__(self):\n",
    "        return f\"Storage: {self.size}{self.type}\"\n",
    "\n",
    "cpu = CPU(model=\"Intel H610\")\n",
    "ram = RAM(size=16, type=\"DDR4\")\n",
    "storage = Storage(size=\"64GB\", type=\"SSD\")\n",
    "computer = ComputerSystem(cpu=cpu, ram=ram, storage=storage)\n",
    "print(computer)"
   ]
  },
  {
   "cell_type": "markdown",
   "id": "3e3da5ce-c8c1-4f5c-9adc-fb3bc85243c7",
   "metadata": {},
   "source": [
    "### 9. Describe the concept of \"delegation\" in composition and how it simplifies the design of complex systems."
   ]
  },
  {
   "cell_type": "code",
   "execution_count": 291,
   "id": "dae27577-56d1-4224-97ff-35bf850829aa",
   "metadata": {},
   "outputs": [
    {
     "data": {
      "text/plain": [
       "'The concept of \"delegation\" in composition refers to the design principle where an object handles a request by delegating \\nit to a second helper object (the delegate). This approach is often used in object-oriented programming to achieve composition,\\na design principle that allows complex systems to be built from simpler, reusable components.\\n\\n### how it simplifies the design of complex systems:\\n\\n1.Separation of Concerns:\\nDelegation allows an object to delegate tasks outside its primary responsibility, resulting in cleaner and more focused classes.\\nEach class is responsible for a single aspect of the system’s functionality, leading to easier understanding and maintenance.\\n\\n2.Code Reusability:\\nExisting classes can be reused without modification by delegating tasks to them.\\nThis avoids code duplication and leverages well-tested and reliable components.\\n\\n3.Flexibility and Extensibility:\\nThe behavior of an object can be modified at runtime by changing its delegate.\\nThis dynamic behavior allows the system to adapt to different conditions and requirements without altering the overall structure.\\n\\n4.Modular Design:\\nComponents of the system are loosely coupled because they interact through well-defined interfaces.\\nThis modularity makes it easier to replace or upgrade individual components without affecting the rest of the system.\\n\\n5.Simplified Inheritance:\\nDelegation reduces the need for complex inheritance hierarchies by enabling composition over inheritance.\\nThis leads to flatter and more understandable class structures, avoiding the pitfalls of deep inheritance chains.\\n\\ndelegation simplifies the design of complex systems by promoting separation of concerns, enhancing code reusability, \\nproviding flexibility, ensuring modularity, and reducing the need for intricate inheritance structures. This results\\nin more maintainable, adaptable, and understandable software.'"
      ]
     },
     "execution_count": 291,
     "metadata": {},
     "output_type": "execute_result"
    }
   ],
   "source": [
    "'''The concept of \"delegation\" in composition refers to the design principle where an object handles a request by delegating \n",
    "it to a second helper object (the delegate). This approach is often used in object-oriented programming to achieve composition,\n",
    "a design principle that allows complex systems to be built from simpler, reusable components.\n",
    "\n",
    "### how it simplifies the design of complex systems:\n",
    "\n",
    "1.Separation of Concerns:\n",
    "Delegation allows an object to delegate tasks outside its primary responsibility, resulting in cleaner and more focused classes.\n",
    "Each class is responsible for a single aspect of the system’s functionality, leading to easier understanding and maintenance.\n",
    "\n",
    "2.Code Reusability:\n",
    "Existing classes can be reused without modification by delegating tasks to them.\n",
    "This avoids code duplication and leverages well-tested and reliable components.\n",
    "\n",
    "3.Flexibility and Extensibility:\n",
    "The behavior of an object can be modified at runtime by changing its delegate.\n",
    "This dynamic behavior allows the system to adapt to different conditions and requirements without altering the overall structure.\n",
    "\n",
    "4.Modular Design:\n",
    "Components of the system are loosely coupled because they interact through well-defined interfaces.\n",
    "This modularity makes it easier to replace or upgrade individual components without affecting the rest of the system.\n",
    "\n",
    "5.Simplified Inheritance:\n",
    "Delegation reduces the need for complex inheritance hierarchies by enabling composition over inheritance.\n",
    "This leads to flatter and more understandable class structures, avoiding the pitfalls of deep inheritance chains.\n",
    "\n",
    "delegation simplifies the design of complex systems by promoting separation of concerns, enhancing code reusability, \n",
    "providing flexibility, ensuring modularity, and reducing the need for intricate inheritance structures. This results\n",
    "in more maintainable, adaptable, and understandable software.'''"
   ]
  },
  {
   "cell_type": "markdown",
   "id": "8ede8f89-b70a-4c0c-9200-25108b2c6222",
   "metadata": {},
   "source": [
    "### 10. Create a Python class for a car, using composition to represent components like the engine, wheels, and transmission."
   ]
  },
  {
   "cell_type": "code",
   "execution_count": 292,
   "id": "91a989cc-7ce5-47a9-b48a-ac5598839cdc",
   "metadata": {},
   "outputs": [
    {
     "name": "stdout",
     "output_type": "stream",
     "text": [
      "Engine is starts\n",
      "Wheels is start rotating\n",
      "Transmission shifts to gear 1\n",
      "Engine is stops\n"
     ]
    }
   ],
   "source": [
    "class Engine:\n",
    "    def __init__(self, horo, type):\n",
    "        self.horo = horo\n",
    "        self.type = type\n",
    "    def start(self): return \"Engine is starts\"\n",
    "    def stop(self): return \"Engine is stops\"\n",
    "\n",
    "class Wheels:\n",
    "    def __init__(self, size, type):\n",
    "        self.size = size\n",
    "        self.type = type\n",
    "    def rotate(self): return \"Wheels is start rotating\"\n",
    "\n",
    "class Transmission:\n",
    "    def __init__(self, type, gears):\n",
    "        self.type = type\n",
    "        self.gears = gears\n",
    "    def shift(self, gear): return f\"Transmission shifts to gear {gear}\" if gear <= self.gears else \"Invalid gear\"\n",
    "\n",
    "class Car:\n",
    "    def __init__(self, engine, wheels, transmission):\n",
    "        self.engine = engine\n",
    "        self.wheels = wheels\n",
    "        self.transmission = transmission\n",
    "        \n",
    "    def start_car(self): return self.engine.start()\n",
    "    def stop_car(self): return self.engine.stop()\n",
    "    def drive(self): return self.wheels.rotate()\n",
    "    def change_gear(self, gear): return self.transmission.shift(gear)\n",
    "\n",
    "car = Car(Engine(300, \"oops12\"), Wheels(12, \"very fast\"), Transmission(\"Automatic\",3))\n",
    "print(car.start_car())   \n",
    "print(car.drive())        \n",
    "print(car.change_gear(1))\n",
    "print(car.stop_car())    "
   ]
  },
  {
   "cell_type": "markdown",
   "id": "3856eb02-e807-4838-adca-5e56a1128946",
   "metadata": {},
   "source": [
    "### 11. How can you encapsulate and hide the details of composed objects in Python classes to maintain abstraction?"
   ]
  },
  {
   "cell_type": "code",
   "execution_count": 293,
   "id": "05f20f50-23a1-4d99-96f1-a63266ee5ee4",
   "metadata": {},
   "outputs": [
    {
     "data": {
      "text/plain": [
       "'\\n### To encapsulate and hide the details of composed objects in Python classes and maintain abstraction, use the following strategies:\\n\\n# Private Attributes: Use private attributes to store composed objects. This hides the internal details and prevents\\n                   direct access from outside the class.\\n\\n# Public Methods: Provide public methods to interact with these private attributes. This allows controlled access and manipulation \\n                of the composed objects.\\n\\n# Accessor and Mutator Methods: Optionally, provide accessor (getter) and mutator (setter) methods to access and modify the attributes\\nif necessary.\\n\\nBy using these techniques, you can effectively encapsulate and hide the details of composed objects in Python classes,\\nmaintaining a clean and abstract interface for your class. This helps in protecting the internal state and implementation details,\\npromoting better software design and maintainability.  '"
      ]
     },
     "execution_count": 293,
     "metadata": {},
     "output_type": "execute_result"
    }
   ],
   "source": [
    "'''\n",
    "### To encapsulate and hide the details of composed objects in Python classes and maintain abstraction, use the following strategies:\n",
    "\n",
    "# Private Attributes: Use private attributes to store composed objects. This hides the internal details and prevents\n",
    "                   direct access from outside the class.\n",
    "\n",
    "# Public Methods: Provide public methods to interact with these private attributes. This allows controlled access and manipulation \n",
    "                of the composed objects.\n",
    "\n",
    "# Accessor and Mutator Methods: Optionally, provide accessor (getter) and mutator (setter) methods to access and modify the attributes\n",
    "if necessary.\n",
    "\n",
    "By using these techniques, you can effectively encapsulate and hide the details of composed objects in Python classes,\n",
    "maintaining a clean and abstract interface for your class. This helps in protecting the internal state and implementation details,\n",
    "promoting better software design and maintainability.  '''"
   ]
  },
  {
   "cell_type": "markdown",
   "id": "a293fe26-b935-4ff6-9e8d-9fe93fee7417",
   "metadata": {},
   "source": [
    "### 12. Create a Python class for a university course, using composition to represent students, instructors, and course materials."
   ]
  },
  {
   "cell_type": "code",
   "execution_count": 294,
   "id": "cdedde03-6b74-48c3-93ce-8ea99e29d125",
   "metadata": {},
   "outputs": [
    {
     "name": "stdout",
     "output_type": "stream",
     "text": [
      "Course ID: 12, Name: data science, Instructor: sudhanshu, Students: akanksha, Materials: notes of python oops\n"
     ]
    }
   ],
   "source": [
    "class Student:\n",
    "    def __init__(self, student_id, name): self.student_id, self.name = student_id, name\n",
    "\n",
    "class Instructor:\n",
    "    def __init__(self, instructor_id, name): self.instructor_id, self.name = instructor_id, name\n",
    "\n",
    "class CourseMaterial:\n",
    "    def __init__(self, material_id, title): self.material_id, self.title = material_id, title\n",
    "\n",
    "class UniversityCourse:\n",
    "    def __init__(self, course_id, course_name, instructor):\n",
    "        self.course_id, self.course_name, self.instructor = course_id, course_name, instructor\n",
    "        self.students, self.course_materials = [], []\n",
    "\n",
    "    def add_student(self, student): self.students.append(student)\n",
    "    def add_material(self, material): self.course_materials.append(material)\n",
    "    def get_course_details(self):\n",
    "        students = \", \".join(s.name for s in self.students)\n",
    "        materials = \", \".join(m.title for m in self.course_materials)\n",
    "        return (f\"Course ID: {self.course_id}, Name: {self.course_name}, \"\n",
    "                f\"Instructor: {self.instructor.name}, Students: {students}, Materials: {materials}\")\n",
    "\n",
    "course = UniversityCourse(12, \"data science\", Instructor(1, \"sudhanshu\"))\n",
    "course.add_student(Student(1001, \"akanksha\"))\n",
    "course.add_material(CourseMaterial(201, \"notes of python oops\"))\n",
    "print(course.get_course_details())"
   ]
  },
  {
   "cell_type": "markdown",
   "id": "ee4142bb-fb6a-4b38-bc59-2cc32b35907b",
   "metadata": {},
   "source": [
    "### 13. Discuss the challenges and drawbacks of composition, such as increased complexity and potential for tight coupling between objects."
   ]
  },
  {
   "cell_type": "code",
   "execution_count": 295,
   "id": "c9e03e30-1441-4a87-9146-0302b6959360",
   "metadata": {},
   "outputs": [
    {
     "data": {
      "text/plain": [
       "\"\\n### drawbacks of composition, such as increased complexity and potential for tight coupling between objects:\\n\\n1. Increased Complexity\\nManaging Relationships: Keeping track of the relationships between multiple objects can be complex, \\nespecially as the number of components increases.\\nInitialization and Lifecycle Management: Properly initializing and managing the lifecycle of composed objects adds complexity. \\nYou need to ensure that all dependent objects are created and destroyed appropriately.\\n\\n2. Potential for Tight Coupling\\nInterdependence: When objects are closely composed, changes in one component might necessitate changes in others. \\nThis can lead to tight coupling, making the system harder to maintain and evolve.\\nPropagation of Changes: If one component's interface changes, all objects composed of that component must be updated,\\nincreasing maintenance overhead.  \""
      ]
     },
     "execution_count": 295,
     "metadata": {},
     "output_type": "execute_result"
    }
   ],
   "source": [
    "'''\n",
    "### drawbacks of composition, such as increased complexity and potential for tight coupling between objects:\n",
    "\n",
    "1. Increased Complexity\n",
    "Managing Relationships: Keeping track of the relationships between multiple objects can be complex, \n",
    "especially as the number of components increases.\n",
    "Initialization and Lifecycle Management: Properly initializing and managing the lifecycle of composed objects adds complexity. \n",
    "You need to ensure that all dependent objects are created and destroyed appropriately.\n",
    "\n",
    "2. Potential for Tight Coupling\n",
    "Interdependence: When objects are closely composed, changes in one component might necessitate changes in others. \n",
    "This can lead to tight coupling, making the system harder to maintain and evolve.\n",
    "Propagation of Changes: If one component's interface changes, all objects composed of that component must be updated,\n",
    "increasing maintenance overhead.  '''"
   ]
  },
  {
   "cell_type": "markdown",
   "id": "be2fe76a-744e-4e87-baec-680f9fcebc55",
   "metadata": {},
   "source": [
    "### 14. Create a Python class hierarchy for a restaurant system, using composition to represent menus, dishes, and ingredients."
   ]
  },
  {
   "cell_type": "code",
   "execution_count": 296,
   "id": "89e50c10-be4d-470d-91c7-f5e7641b4f28",
   "metadata": {},
   "outputs": [
    {
     "name": "stdout",
     "output_type": "stream",
     "text": [
      "{'shahi tukda': [('milk', 'two cup')]}\n"
     ]
    }
   ],
   "source": [
    "class Ingredient:\n",
    "    def __init__(self, name, quantity):\n",
    "        self.name = name\n",
    "        self.quantity = quantity\n",
    "       \n",
    "\n",
    "class Dish:\n",
    "    def __init__(self, name):\n",
    "        self.name = name\n",
    "        self.ingredients = []\n",
    "\n",
    "    def add_ingredient(self, ingredient):\n",
    "        self.ingredients.append(ingredient)\n",
    "\n",
    "    def get_ingredients(self):\n",
    "        return [(ingredient.name, ingredient.quantity) for ingredient in self.ingredients]\n",
    "\n",
    "class Menu:\n",
    "    def __init__(self, name):\n",
    "        self.name = name\n",
    "        self.dishes = []\n",
    "\n",
    "    def add_dish(self, dish):\n",
    "        self.dishes.append(dish)\n",
    "\n",
    "    def get_menu_details(self):\n",
    "        return {dish.name: dish.get_ingredients() for dish in self.dishes}\n",
    "\n",
    "ingredient1 = Ingredient(\"milk\", \"two cup\")\n",
    "dish1 = Dish(\"shahi tukda\")\n",
    "dish1.add_ingredient(ingredient1)\n",
    "menu = Menu(\"evening Menu\")\n",
    "menu.add_dish(dish1)\n",
    "print(menu.get_menu_details()) "
   ]
  },
  {
   "cell_type": "markdown",
   "id": "7d92d6e6-fec5-4ece-a519-b0d7beda033b",
   "metadata": {},
   "source": [
    "### 15. Explain how composition enhances code maintainability and modularity in Python programs."
   ]
  },
  {
   "cell_type": "code",
   "execution_count": 297,
   "id": "f528d15b-5d17-45e5-9390-26d2f9193326",
   "metadata": {},
   "outputs": [
    {
     "data": {
      "text/plain": [
       "'\\n### Enhancing Code Maintainability and Modularity with Composition\\n\\n1. Separation of Concerns:\\nFocus: Each class handles a specific responsibility.\\nBenefit: Easier to understand and manage changes in one part without affecting others.\\n\\n2. Reusability:\\nFocus: Components can be reused in different contexts.\\nBenefit: Reduces code duplication and promotes reuse.\\n\\n3. Flexibility:\\nFocus: Components can be combined in various ways.\\nBenefit: Allows easy adaptation and extension of functionality.\\n\\n4. Easier Testing:\\nFocus: Test components independently.\\nBenefit: Ensures individual parts work correctly before integration.\\n\\n5. Encapsulation:\\nFocus: Hides internal details of each class.\\nBenefit: Minimizes unintended interactions and makes the system more robust.\\n\\n6. Reduced Coupling:\\nFocus: Minimize dependencies between components.\\nBenefit: Changes in one part are less likely to affect others.\\n\\n7. Simplified Extension:\\nFocus: Add new functionality with new or extended components.\\nBenefit: Extend the system easily without modifying existing code. '"
      ]
     },
     "execution_count": 297,
     "metadata": {},
     "output_type": "execute_result"
    }
   ],
   "source": [
    "'''\n",
    "### Enhancing Code Maintainability and Modularity with Composition\n",
    "\n",
    "1. Separation of Concerns:\n",
    "Focus: Each class handles a specific responsibility.\n",
    "Benefit: Easier to understand and manage changes in one part without affecting others.\n",
    "\n",
    "2. Reusability:\n",
    "Focus: Components can be reused in different contexts.\n",
    "Benefit: Reduces code duplication and promotes reuse.\n",
    "\n",
    "3. Flexibility:\n",
    "Focus: Components can be combined in various ways.\n",
    "Benefit: Allows easy adaptation and extension of functionality.\n",
    "\n",
    "4. Easier Testing:\n",
    "Focus: Test components independently.\n",
    "Benefit: Ensures individual parts work correctly before integration.\n",
    "\n",
    "5. Encapsulation:\n",
    "Focus: Hides internal details of each class.\n",
    "Benefit: Minimizes unintended interactions and makes the system more robust.\n",
    "\n",
    "6. Reduced Coupling:\n",
    "Focus: Minimize dependencies between components.\n",
    "Benefit: Changes in one part are less likely to affect others.\n",
    "\n",
    "7. Simplified Extension:\n",
    "Focus: Add new functionality with new or extended components.\n",
    "Benefit: Extend the system easily without modifying existing code. '''"
   ]
  },
  {
   "cell_type": "markdown",
   "id": "8d085e9f-fb63-4f63-a50e-739a7fe12845",
   "metadata": {},
   "source": [
    "### 16. Create a Python class for a computer game character, using composition to represent attributes like weapons, armor, and inventory."
   ]
  },
  {
   "cell_type": "code",
   "execution_count": 298,
   "id": "974f9cdc-ceb0-4993-893c-ce59c91075c0",
   "metadata": {},
   "outputs": [
    {
     "name": "stdout",
     "output_type": "stream",
     "text": [
      "Character: RS12, Health: 100, Weapon: AK (Damage: 61), Armor:  tiger Shield  (Defense: 35), Inventory: Health Potion\n"
     ]
    }
   ],
   "source": [
    "class Weapon:\n",
    "    def __init__(self, name, damage):\n",
    "        self.name = name\n",
    "        self.damage = damage\n",
    "\n",
    "    def __str__(self):\n",
    "        return f\"{self.name} (Damage: {self.damage})\"\n",
    "\n",
    "class Armor:\n",
    "    def __init__(self, name, defense):\n",
    "        self.name = name\n",
    "        self.defense = defense\n",
    "\n",
    "    def __str__(self):\n",
    "        return f\"{self.name} (Defense: {self.defense})\"\n",
    "\n",
    "class Inventory:\n",
    "    def __init__(self):\n",
    "        self.items = []\n",
    "\n",
    "    def add_item(self, item):\n",
    "        self.items.append(item)\n",
    "\n",
    "    def __str__(self):\n",
    "        return f\"Inventory: {', '.join(self.items)}\"\n",
    "\n",
    "class Character:\n",
    "    def __init__(self, name, health):\n",
    "        self.name = name\n",
    "        self.health = health\n",
    "        self.weapon = None\n",
    "        self.armor = None\n",
    "        self.inventory = Inventory()\n",
    "\n",
    "    def equip_weapon(self, weapon):\n",
    "        self.weapon = weapon\n",
    "\n",
    "    def equip_armor(self, armor):\n",
    "        self.armor = armor\n",
    "\n",
    "    def add_to_inventory(self, item):\n",
    "        self.inventory.add_item(item)\n",
    "\n",
    "    def __str__(self):\n",
    "        return (f\"Character: {self.name}, Health: {self.health}, \"\n",
    "                f\"Weapon: {self.weapon}, Armor: {self.armor}, {self.inventory}\")\n",
    "\n",
    "if __name__ == \"__main__\":\n",
    "    sword = Weapon(\"AK\", 61)\n",
    "    shield = Armor(\" tiger Shield \", 35)\n",
    "    potion = \"Health Potion\"\n",
    "\n",
    "    RS12 = Character(\"RS12\", 100)\n",
    "    RS12.equip_weapon(sword)\n",
    "    RS12.equip_armor(shield)\n",
    "    RS12.add_to_inventory(potion)\n",
    "    print(RS12)"
   ]
  },
  {
   "cell_type": "markdown",
   "id": "05c6394a-5d05-40f0-a724-bb5cbcaf8a03",
   "metadata": {},
   "source": [
    "### 17. Describe the concept of \"aggregation\" in composition and how it differs from simple composition."
   ]
  },
  {
   "cell_type": "code",
   "execution_count": 299,
   "id": "312f46ac-54a7-4038-9c0b-8170b68aa225",
   "metadata": {},
   "outputs": [
    {
     "data": {
      "text/plain": [
       "'\\nAggregation is a type of association that represents a \"whole-part\" relationship between objects in oops. \\nIt is a form of composition where the \"whole\" object (also known as the \"aggregate\") contains references to \"part\" objects.\\nHowever, unlike in composition, the lifecycle of the part objects is independent of the whole object\\'s lifecycle.\\n\\n    it is a unidirectional association i.e. a one-way relationship. In Aggregation, both the entries can survive individually which means ending \\none entity will not affect the other entity.\\n\\n## how aggregation is differs from simple composition.\\n    \\n1)Lifecycle Management:\\naggregation: The lifecycle of part objects is independent of the whole. Part objects can exist before being added to the whole\\n             and continue to exist after being removed.\\nComposition: The lifecycle of part objects is dependent on the whole. Part objects are created as part of the whole and are destroyed \\n              when the whole is destroyed.\\n2)Ownership:\\nAggregation: The whole holds references to the parts but does not own them. Parts can be shared between multiple wholes.\\nComposition: The whole owns the parts. Parts cannot be shared between multiple wholes and are exclusive to one whole.\\n\\n3)Relationship Strength:\\nAggregation: Represents a weaker \"has-a\" relationship. Example: A library has books, but the books can exist independently.\\nComposition: Represents a stronger \"has-a\" relationship. Example: A house has rooms, and the rooms cannot exist independently.\\n\\n4)Implementation:\\nAggregation: Part objects are typically passed to the whole object after their creation\\nComposition: Part objects are typically created within the whole object.     '"
      ]
     },
     "execution_count": 299,
     "metadata": {},
     "output_type": "execute_result"
    }
   ],
   "source": [
    "'''\n",
    "Aggregation is a type of association that represents a \"whole-part\" relationship between objects in oops. \n",
    "It is a form of composition where the \"whole\" object (also known as the \"aggregate\") contains references to \"part\" objects.\n",
    "However, unlike in composition, the lifecycle of the part objects is independent of the whole object's lifecycle.\n",
    "\n",
    "    it is a unidirectional association i.e. a one-way relationship. In Aggregation, both the entries can survive individually which means ending \n",
    "one entity will not affect the other entity.\n",
    "\n",
    "## how aggregation is differs from simple composition.\n",
    "    \n",
    "1)Lifecycle Management:\n",
    "aggregation: The lifecycle of part objects is independent of the whole. Part objects can exist before being added to the whole\n",
    "             and continue to exist after being removed.\n",
    "Composition: The lifecycle of part objects is dependent on the whole. Part objects are created as part of the whole and are destroyed \n",
    "              when the whole is destroyed.\n",
    "2)Ownership:\n",
    "Aggregation: The whole holds references to the parts but does not own them. Parts can be shared between multiple wholes.\n",
    "Composition: The whole owns the parts. Parts cannot be shared between multiple wholes and are exclusive to one whole.\n",
    "\n",
    "3)Relationship Strength:\n",
    "Aggregation: Represents a weaker \"has-a\" relationship. Example: A library has books, but the books can exist independently.\n",
    "Composition: Represents a stronger \"has-a\" relationship. Example: A house has rooms, and the rooms cannot exist independently.\n",
    "\n",
    "4)Implementation:\n",
    "Aggregation: Part objects are typically passed to the whole object after their creation\n",
    "Composition: Part objects are typically created within the whole object.     '''"
   ]
  },
  {
   "cell_type": "markdown",
   "id": "72729d03-5a11-4c06-8066-c18faea23bca",
   "metadata": {},
   "source": [
    "### 18. Create a Python class for a house, using composition to represent rooms, furniture, and appliances."
   ]
  },
  {
   "cell_type": "code",
   "execution_count": 300,
   "id": "ebfdb773-2e74-46c8-b52a-9d3fcd5ea70a",
   "metadata": {},
   "outputs": [
    {
     "name": "stdout",
     "output_type": "stream",
     "text": [
      "House: 1200 sqft\n",
      "Rooms:\n",
      "3\n",
      "Room: Living Room, Furniture: ['Sofa'], Appliances: []\n",
      "Room: Kitchen, Furniture: [], Appliances: ['gas stove']\n",
      "Room: Bedroom, Furniture: ['Bed'], Appliances: []\n"
     ]
    }
   ],
   "source": [
    "class Furniture:\n",
    "    def __init__(self, name):\n",
    "        self.name = name\n",
    "\n",
    "    def __str__(self):\n",
    "        return self.name\n",
    "\n",
    "class Appliance:\n",
    "    def __init__(self, name):\n",
    "        self.name = name\n",
    "\n",
    "    def __str__(self):\n",
    "        return self.name\n",
    "\n",
    "class Room:\n",
    "    def __init__(self, name, furniture=None, appliances=None):\n",
    "        self.name = name\n",
    "        self.furniture = furniture if furniture is not None else []\n",
    "        self.appliances = appliances if appliances is not None else []\n",
    "\n",
    "    def __str__(self):\n",
    "        return f\"Room: {self.name}, Furniture: {[str(f) for f in self.furniture]}, Appliances: {[str(a) for a in self.appliances]}\"\n",
    "class House:\n",
    "    def __init__(self, address, rooms=None):\n",
    "        self.address = address\n",
    "        self.rooms = rooms if rooms is not None else []\n",
    "\n",
    "    def __str__(self):\n",
    "        return f\"House: {self.address}\\nRooms:\\n\" + '\\n'.join(str(room) for room in self.rooms)\n",
    "\n",
    "if __name__ == \"__main__\":\n",
    "    sofa = Furniture(\"Sofa\")\n",
    "    bed = Furniture(\"Bed\")\n",
    "    gas_stove = Appliance(\"gas stove\")\n",
    "    \n",
    "    living_room = Room(\"Living Room\", furniture=[sofa ])\n",
    "    kitchen = Room(\"Kitchen\", appliances=[gas_stove])\n",
    "    bedroom = Room(\"Bedroom\", furniture=[bed])\n",
    "\n",
    "house = House(\"1200 sqft\", rooms=[(3),living_room, kitchen, bedroom])\n",
    "print(house)\n"
   ]
  },
  {
   "cell_type": "markdown",
   "id": "b7923fe7-a63f-43f5-93ac-1fba039ce788",
   "metadata": {},
   "source": [
    "### 19. How can you achieve flexibility in composed objects by allowing them to be replaced or modified dynamically at runtime?"
   ]
  },
  {
   "cell_type": "code",
   "execution_count": 301,
   "id": "ca3916e3-9bb6-433c-bf1a-60c93da5d5f0",
   "metadata": {},
   "outputs": [
    {
     "data": {
      "text/plain": [
       "'To achieve flexibility in composed objects by allowing them to be replaced or modified dynamically at runtime\\n\\nthis are techniques use : \\n\\n1. Mutable Containers\\nStore components in mutable containers like lists or dictionaries, allowing you to add, remove, or replace components as needed.\\n\\n2. Setter Methods\\nProvide methods in your classes to set or update components dynamically.\\n\\n3. Dependency Injection\\nInject dependencies from the outside rather than creating them internally, allowing you to change components at runtime.\\n\\n4. Duck Typing and Polymorphism\\nDesign components to adhere to common interfaces or protocols, making them interchangeable.'"
      ]
     },
     "execution_count": 301,
     "metadata": {},
     "output_type": "execute_result"
    }
   ],
   "source": [
    "'''To achieve flexibility in composed objects by allowing them to be replaced or modified dynamically at runtime\n",
    "\n",
    "this are techniques use : \n",
    "\n",
    "1. Mutable Containers\n",
    "Store components in mutable containers like lists or dictionaries, allowing you to add, remove, or replace components as needed.\n",
    "\n",
    "2. Setter Methods\n",
    "Provide methods in your classes to set or update components dynamically.\n",
    "\n",
    "3. Dependency Injection\n",
    "Inject dependencies from the outside rather than creating them internally, allowing you to change components at runtime.\n",
    "\n",
    "4. Duck Typing and Polymorphism\n",
    "Design components to adhere to common interfaces or protocols, making them interchangeable.'''"
   ]
  },
  {
   "cell_type": "markdown",
   "id": "4734222c-bc8f-4e36-8095-ee3d9b808f2e",
   "metadata": {},
   "source": [
    "### 20. Create a Python class for a social media application, using composition to represent users, posts, and comments."
   ]
  },
  {
   "cell_type": "code",
   "execution_count": 302,
   "id": "6ce872a1-3856-4904-b180-59ecd8d4b6ec",
   "metadata": {},
   "outputs": [
    {
     "name": "stdout",
     "output_type": "stream",
     "text": [
      "User: akanksha\n",
      "akanksha: its my first post\n",
      "achal: Nice post!\n"
     ]
    }
   ],
   "source": [
    "class Comment:\n",
    "    def __init__(self, author, content):\n",
    "        self.author = author\n",
    "        self.content = content\n",
    "\n",
    "    def __str__(self):\n",
    "        return f\"{self.author}: {self.content}\"\n",
    "class Post:\n",
    "    def __init__(self, author, content):\n",
    "        self.author = author\n",
    "        self.content = content\n",
    "        self.comments = []\n",
    "\n",
    "    def add_comment(self, comment):\n",
    "        self.comments.append(comment)\n",
    "\n",
    "    def __str__(self):\n",
    "        return f\"{self.author}: {self.content}\\n\" + \"\\n\".join(str(comment) for comment in self.comments)\n",
    "\n",
    "class User:\n",
    "    def __init__(self, username):\n",
    "        self.username = username\n",
    "        self.posts = []\n",
    "\n",
    "    def create_post(self, content):\n",
    "        post = Post(self.username, content)\n",
    "        self.posts.append(post)\n",
    "        return post\n",
    "\n",
    "    def __str__(self):\n",
    "        return f\"User: {self.username}\\n\" + \"\\n\".join(str(post) for post in self.posts)\n",
    "\n",
    "if __name__ == \"__main__\":\n",
    "    user1 = User(\"akanksha\")\n",
    "    post1 = user1.create_post(\"its my first post\")\n",
    "    post1.add_comment(Comment(\"achal\", \"Nice post!\"))\n",
    "    print(user1)"
   ]
  },
  {
   "cell_type": "code",
   "execution_count": null,
   "id": "b0a37894-d4b4-4c91-b02a-2babcb7cd1a1",
   "metadata": {},
   "outputs": [],
   "source": []
  }
 ],
 "metadata": {
  "kernelspec": {
   "display_name": "Python 3 (ipykernel)",
   "language": "python",
   "name": "python3"
  },
  "language_info": {
   "codemirror_mode": {
    "name": "ipython",
    "version": 3
   },
   "file_extension": ".py",
   "mimetype": "text/x-python",
   "name": "python",
   "nbconvert_exporter": "python",
   "pygments_lexer": "ipython3",
   "version": "3.10.8"
  }
 },
 "nbformat": 4,
 "nbformat_minor": 5
}
